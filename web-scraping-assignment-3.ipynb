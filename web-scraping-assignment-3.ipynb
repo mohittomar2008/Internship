{
 "cells": [
  {
   "cell_type": "markdown",
   "id": "93974a25",
   "metadata": {},
   "source": [
    "# 1. Write a python program which searches all the product under a particular product from www.amazon.in. The product to be searched will be taken as input from user. For e.g. If user input is ‘guitar’. Then search for guitars"
   ]
  },
  {
   "cell_type": "code",
   "execution_count": 12,
   "id": "9905e751",
   "metadata": {},
   "outputs": [],
   "source": [
    "# import libraraies\n",
    "\n",
    "import selenium\n",
    "from selenium import webdriver\n",
    "import pandas as pd\n",
    "import warnings\n",
    "warnings.filterwarnings('ignore')\n",
    "import time"
   ]
  },
  {
   "cell_type": "code",
   "execution_count": 13,
   "id": "d7334b56",
   "metadata": {},
   "outputs": [],
   "source": [
    "# lets connect to driver\n",
    "\n",
    "driver= webdriver.Chrome(r'C:\\Users\\Bank of America\\Downloads\\chromedriver_win32/chromedriver.exe')\n",
    "driver.maximize_window()\n",
    "\n",
    "url='https://www.amazon.in/'\n",
    "driver.get(url)"
   ]
  },
  {
   "cell_type": "code",
   "execution_count": null,
   "id": "ef93f957",
   "metadata": {},
   "outputs": [],
   "source": []
  },
  {
   "cell_type": "code",
   "execution_count": 14,
   "id": "0f6315db",
   "metadata": {},
   "outputs": [
    {
     "name": "stdout",
     "output_type": "stream",
     "text": [
      "Please Enter the keyword to Search = GUITAR\n"
     ]
    }
   ],
   "source": [
    "takeinput= input(\"Please Enter the keyword to Search = \")"
   ]
  },
  {
   "cell_type": "code",
   "execution_count": 15,
   "id": "7bd91612",
   "metadata": {},
   "outputs": [],
   "source": [
    "searchbar= driver.find_element_by_xpath('/html/body/div[1]/header/div/div[1]/div[2]/div/form/div[2]/div[1]/input')\n",
    "searchbar.send_keys(takeinput)\n",
    "search= driver.find_element_by_xpath('/html/body/div[1]/header/div/div[1]/div[2]/div/form/div[3]/div')\n",
    "search.click()"
   ]
  },
  {
   "cell_type": "code",
   "execution_count": null,
   "id": "d272c4a2",
   "metadata": {},
   "outputs": [],
   "source": []
  },
  {
   "cell_type": "markdown",
   "id": "3ff9d869",
   "metadata": {},
   "source": [
    "# 2. In the above question, now scrape the following details of each product listed in first 3 pages of your search results and save it in a data frame and csv. In case if any product has less than 3 pages in search results then scrape all the products available under that product name. Details to be scraped are: \"Brand Name\", \"Name of the Product\", \"Price\", \"Return/Exchange\", \"Expected Delivery\", \"Availability\" and “Product URL”. In case, if any of the details are missing for any of the product then replace it by “-“."
   ]
  },
  {
   "cell_type": "code",
   "execution_count": 16,
   "id": "cd3a1a87",
   "metadata": {},
   "outputs": [],
   "source": [
    "from selenium.common.exceptions import NoSuchElementException"
   ]
  },
  {
   "cell_type": "code",
   "execution_count": 17,
   "id": "96132e76",
   "metadata": {},
   "outputs": [],
   "source": [
    "urls= driver.find_elements_by_xpath('//a[@class=\"a-link-normal s-underline-text s-underline-link-text s-link-style a-text-normal\"]')"
   ]
  },
  {
   "cell_type": "code",
   "execution_count": 18,
   "id": "611f26e1",
   "metadata": {},
   "outputs": [],
   "source": [
    "url=[]\n",
    "for i in urls:\n",
    "    url.append(i.get_attribute('href'))"
   ]
  },
  {
   "cell_type": "code",
   "execution_count": 19,
   "id": "664c1330",
   "metadata": {},
   "outputs": [],
   "source": [
    "title=[]\n",
    "price=[]\n",
    "returnpolicy=[]\n",
    "for i in url:\n",
    "    driver.get(i)\n",
    "    \n",
    "    title_tag= driver.find_elements_by_id('productTitle')\n",
    "    for i in title_tag:\n",
    "        title.append(i.text)\n",
    "    try:\n",
    "        price_tag= driver.find_element_by_xpath('//span[@class=\"a-price a-text-price a-size-medium apexPriceToPay\" or @class=\"a-price aok-align-center reinventPricePriceToPayPadding priceToPay\"]')\n",
    "        price.append(price_tag.text)\n",
    "        \n",
    "    except NoSuchElementException:\n",
    "        price.append('Not Available')\n",
    "        \n",
    "    return_policy= driver.find_element_by_id('RETURNS_POLICY')\n",
    "    returnpolicy.append(return_policy.text)\n",
    "\n"
   ]
  },
  {
   "cell_type": "code",
   "execution_count": 23,
   "id": "a94fb521",
   "metadata": {},
   "outputs": [
    {
     "data": {
      "text/html": [
       "<div>\n",
       "<style scoped>\n",
       "    .dataframe tbody tr th:only-of-type {\n",
       "        vertical-align: middle;\n",
       "    }\n",
       "\n",
       "    .dataframe tbody tr th {\n",
       "        vertical-align: top;\n",
       "    }\n",
       "\n",
       "    .dataframe thead th {\n",
       "        text-align: right;\n",
       "    }\n",
       "</style>\n",
       "<table border=\"1\" class=\"dataframe\">\n",
       "  <thead>\n",
       "    <tr style=\"text-align: right;\">\n",
       "      <th></th>\n",
       "      <th>Title</th>\n",
       "      <th>Price</th>\n",
       "      <th>Return Policy</th>\n",
       "    </tr>\n",
       "  </thead>\n",
       "  <tbody>\n",
       "    <tr>\n",
       "      <th>0</th>\n",
       "      <td>Kadence Frontier guitar with Online Guitar lea...</td>\n",
       "      <td>₹5,299.00</td>\n",
       "      <td>7 Days Replacement</td>\n",
       "    </tr>\n",
       "    <tr>\n",
       "      <th>1</th>\n",
       "      <td>Kadence Frontier Jumbo Semi Acoustic Guitar Wi...</td>\n",
       "      <td>₹7,348.00</td>\n",
       "      <td>7 Days Replacement</td>\n",
       "    </tr>\n",
       "    <tr>\n",
       "      <th>2</th>\n",
       "      <td>Vault Traveller 34 Inch Acoustic Guitar With B...</td>\n",
       "      <td>₹3,999\\n00</td>\n",
       "      <td>7 Days Replacement</td>\n",
       "    </tr>\n",
       "    <tr>\n",
       "      <th>3</th>\n",
       "      <td>GUITAR BRO - COMBO (Black Acoustic Guitar for ...</td>\n",
       "      <td>₹6,499\\n00</td>\n",
       "      <td>7 Days Replacement</td>\n",
       "    </tr>\n",
       "    <tr>\n",
       "      <th>4</th>\n",
       "      <td>Juarez Acoustic Guitar, 38 Inch Curved Body Cu...</td>\n",
       "      <td>₹2,520\\n00</td>\n",
       "      <td>7 Days Replacement</td>\n",
       "    </tr>\n",
       "    <tr>\n",
       "      <th>...</th>\n",
       "      <td>...</td>\n",
       "      <td>...</td>\n",
       "      <td>...</td>\n",
       "    </tr>\n",
       "    <tr>\n",
       "      <th>67</th>\n",
       "      <td>Granada, Acoustic Guitar, Dreadnought PRLD-14C...</td>\n",
       "      <td>₹6,014\\n00</td>\n",
       "      <td>7 Days Replacement</td>\n",
       "    </tr>\n",
       "    <tr>\n",
       "      <th>68</th>\n",
       "      <td>Cort AD810 Dreadnought Acoustic Guitar with Gi...</td>\n",
       "      <td>₹10,150\\n00</td>\n",
       "      <td>7 Days Replacement</td>\n",
       "    </tr>\n",
       "    <tr>\n",
       "      <th>69</th>\n",
       "      <td>HOMME STORE 4 String Guitar Kids Brown Plastic...</td>\n",
       "      <td>₹949\\n00</td>\n",
       "      <td>7 Days Replacement</td>\n",
       "    </tr>\n",
       "    <tr>\n",
       "      <th>70</th>\n",
       "      <td>Kadence Guitar Acoustica Series, 41” Jumbo Siz...</td>\n",
       "      <td>₹7,499.00</td>\n",
       "      <td>7 Days Replacement</td>\n",
       "    </tr>\n",
       "    <tr>\n",
       "      <th>71</th>\n",
       "      <td>Pack of 2 Universal Guitar Stand by Hola! Musi...</td>\n",
       "      <td>₹999\\n00</td>\n",
       "      <td>7 Days Replacement</td>\n",
       "    </tr>\n",
       "  </tbody>\n",
       "</table>\n",
       "<p>72 rows × 3 columns</p>\n",
       "</div>"
      ],
      "text/plain": [
       "                                                Title        Price  \\\n",
       "0   Kadence Frontier guitar with Online Guitar lea...    ₹5,299.00   \n",
       "1   Kadence Frontier Jumbo Semi Acoustic Guitar Wi...    ₹7,348.00   \n",
       "2   Vault Traveller 34 Inch Acoustic Guitar With B...   ₹3,999\\n00   \n",
       "3   GUITAR BRO - COMBO (Black Acoustic Guitar for ...   ₹6,499\\n00   \n",
       "4   Juarez Acoustic Guitar, 38 Inch Curved Body Cu...   ₹2,520\\n00   \n",
       "..                                                ...          ...   \n",
       "67  Granada, Acoustic Guitar, Dreadnought PRLD-14C...   ₹6,014\\n00   \n",
       "68  Cort AD810 Dreadnought Acoustic Guitar with Gi...  ₹10,150\\n00   \n",
       "69  HOMME STORE 4 String Guitar Kids Brown Plastic...     ₹949\\n00   \n",
       "70  Kadence Guitar Acoustica Series, 41” Jumbo Siz...    ₹7,499.00   \n",
       "71  Pack of 2 Universal Guitar Stand by Hola! Musi...     ₹999\\n00   \n",
       "\n",
       "         Return Policy  \n",
       "0   7 Days Replacement  \n",
       "1   7 Days Replacement  \n",
       "2   7 Days Replacement  \n",
       "3   7 Days Replacement  \n",
       "4   7 Days Replacement  \n",
       "..                 ...  \n",
       "67  7 Days Replacement  \n",
       "68  7 Days Replacement  \n",
       "69  7 Days Replacement  \n",
       "70  7 Days Replacement  \n",
       "71  7 Days Replacement  \n",
       "\n",
       "[72 rows x 3 columns]"
      ]
     },
     "execution_count": 23,
     "metadata": {},
     "output_type": "execute_result"
    }
   ],
   "source": [
    "data= pd.DataFrame({\"Title\":title,'Price':price,\"Return Policy\":returnpolicy})\n",
    "data"
   ]
  },
  {
   "cell_type": "code",
   "execution_count": 22,
   "id": "b5dc4e4a",
   "metadata": {},
   "outputs": [
    {
     "data": {
      "text/plain": [
       "72"
      ]
     },
     "execution_count": 22,
     "metadata": {},
     "output_type": "execute_result"
    }
   ],
   "source": [
    "len(title)"
   ]
  },
  {
   "cell_type": "code",
   "execution_count": 769,
   "id": "94505bf4",
   "metadata": {},
   "outputs": [],
   "source": []
  },
  {
   "cell_type": "code",
   "execution_count": null,
   "id": "7e22ac30",
   "metadata": {},
   "outputs": [],
   "source": []
  },
  {
   "cell_type": "code",
   "execution_count": null,
   "id": "63b4aff3",
   "metadata": {},
   "outputs": [],
   "source": []
  },
  {
   "cell_type": "code",
   "execution_count": null,
   "id": "d8e22853",
   "metadata": {},
   "outputs": [],
   "source": []
  },
  {
   "cell_type": "code",
   "execution_count": null,
   "id": "020e0c91",
   "metadata": {},
   "outputs": [],
   "source": []
  },
  {
   "cell_type": "markdown",
   "id": "9b4e28b4",
   "metadata": {},
   "source": [
    "# 3. Write a python program to access the search bar and search button on images.google.com and scrape 10 images each for keywords ‘fruits’, ‘cars’ and ‘Machine Learning’, ‘Guitar’, ‘Cakes’."
   ]
  },
  {
   "cell_type": "code",
   "execution_count": 118,
   "id": "67a8bdbf",
   "metadata": {},
   "outputs": [],
   "source": [
    "def images(x):\n",
    "    driver= webdriver.Chrome(r'C:\\Users\\Bank of America\\Downloads\\chromedriver_win32/chromedriver.exe')\n",
    "    driver.maximize_window()\n",
    "\n",
    "    url='https://images.google.com/'\n",
    "    driver.get(url)\n",
    "    time.sleep(4)\n",
    "    searchbar= driver.find_element_by_xpath('/html/body/div[1]/div[3]/form/div[1]/div[1]/div[1]/div/div[2]/input')\n",
    "    searchbar.send_keys(x)\n",
    "    \n",
    "    time.sleep(2)\n",
    "    search= driver.find_element_by_xpath('/html/body/div[1]/div[3]/form/div[1]/div[1]/div[1]/button/div')\n",
    "    search.click()\n",
    "    \n",
    "    images=driver.find_elements_by_xpath('//img[@class=\"rg_i Q4LuWd\"]')\n",
    "    image=[]\n",
    "    for i in images:\n",
    "        image.append(i.get_attribute('src'))\n",
    "        \n",
    "    return pd.DataFrame({'Image Link':image[0:10]})"
   ]
  },
  {
   "cell_type": "code",
   "execution_count": 120,
   "id": "0f0d1778",
   "metadata": {},
   "outputs": [
    {
     "data": {
      "text/html": [
       "<div>\n",
       "<style scoped>\n",
       "    .dataframe tbody tr th:only-of-type {\n",
       "        vertical-align: middle;\n",
       "    }\n",
       "\n",
       "    .dataframe tbody tr th {\n",
       "        vertical-align: top;\n",
       "    }\n",
       "\n",
       "    .dataframe thead th {\n",
       "        text-align: right;\n",
       "    }\n",
       "</style>\n",
       "<table border=\"1\" class=\"dataframe\">\n",
       "  <thead>\n",
       "    <tr style=\"text-align: right;\">\n",
       "      <th></th>\n",
       "      <th>Image Link</th>\n",
       "    </tr>\n",
       "  </thead>\n",
       "  <tbody>\n",
       "    <tr>\n",
       "      <th>0</th>\n",
       "      <td>data:image/jpeg;base64,/9j/4AAQSkZJRgABAQAAAQA...</td>\n",
       "    </tr>\n",
       "    <tr>\n",
       "      <th>1</th>\n",
       "      <td>data:image/jpeg;base64,/9j/4AAQSkZJRgABAQAAAQA...</td>\n",
       "    </tr>\n",
       "    <tr>\n",
       "      <th>2</th>\n",
       "      <td>data:image/jpeg;base64,/9j/4AAQSkZJRgABAQAAAQA...</td>\n",
       "    </tr>\n",
       "    <tr>\n",
       "      <th>3</th>\n",
       "      <td>data:image/jpeg;base64,/9j/4AAQSkZJRgABAQAAAQA...</td>\n",
       "    </tr>\n",
       "    <tr>\n",
       "      <th>4</th>\n",
       "      <td>data:image/jpeg;base64,/9j/4AAQSkZJRgABAQAAAQA...</td>\n",
       "    </tr>\n",
       "    <tr>\n",
       "      <th>5</th>\n",
       "      <td>data:image/jpeg;base64,/9j/4AAQSkZJRgABAQAAAQA...</td>\n",
       "    </tr>\n",
       "    <tr>\n",
       "      <th>6</th>\n",
       "      <td>data:image/jpeg;base64,/9j/4AAQSkZJRgABAQAAAQA...</td>\n",
       "    </tr>\n",
       "    <tr>\n",
       "      <th>7</th>\n",
       "      <td>data:image/jpeg;base64,/9j/4AAQSkZJRgABAQAAAQA...</td>\n",
       "    </tr>\n",
       "    <tr>\n",
       "      <th>8</th>\n",
       "      <td>data:image/jpeg;base64,/9j/4AAQSkZJRgABAQAAAQA...</td>\n",
       "    </tr>\n",
       "    <tr>\n",
       "      <th>9</th>\n",
       "      <td>data:image/jpeg;base64,/9j/4AAQSkZJRgABAQAAAQA...</td>\n",
       "    </tr>\n",
       "  </tbody>\n",
       "</table>\n",
       "</div>"
      ],
      "text/plain": [
       "                                          Image Link\n",
       "0  data:image/jpeg;base64,/9j/4AAQSkZJRgABAQAAAQA...\n",
       "1  data:image/jpeg;base64,/9j/4AAQSkZJRgABAQAAAQA...\n",
       "2  data:image/jpeg;base64,/9j/4AAQSkZJRgABAQAAAQA...\n",
       "3  data:image/jpeg;base64,/9j/4AAQSkZJRgABAQAAAQA...\n",
       "4  data:image/jpeg;base64,/9j/4AAQSkZJRgABAQAAAQA...\n",
       "5  data:image/jpeg;base64,/9j/4AAQSkZJRgABAQAAAQA...\n",
       "6  data:image/jpeg;base64,/9j/4AAQSkZJRgABAQAAAQA...\n",
       "7  data:image/jpeg;base64,/9j/4AAQSkZJRgABAQAAAQA...\n",
       "8  data:image/jpeg;base64,/9j/4AAQSkZJRgABAQAAAQA...\n",
       "9  data:image/jpeg;base64,/9j/4AAQSkZJRgABAQAAAQA..."
      ]
     },
     "execution_count": 120,
     "metadata": {},
     "output_type": "execute_result"
    }
   ],
   "source": [
    "images('cars')"
   ]
  },
  {
   "cell_type": "code",
   "execution_count": 121,
   "id": "9d7d15d5",
   "metadata": {},
   "outputs": [
    {
     "data": {
      "text/html": [
       "<div>\n",
       "<style scoped>\n",
       "    .dataframe tbody tr th:only-of-type {\n",
       "        vertical-align: middle;\n",
       "    }\n",
       "\n",
       "    .dataframe tbody tr th {\n",
       "        vertical-align: top;\n",
       "    }\n",
       "\n",
       "    .dataframe thead th {\n",
       "        text-align: right;\n",
       "    }\n",
       "</style>\n",
       "<table border=\"1\" class=\"dataframe\">\n",
       "  <thead>\n",
       "    <tr style=\"text-align: right;\">\n",
       "      <th></th>\n",
       "      <th>Image Link</th>\n",
       "    </tr>\n",
       "  </thead>\n",
       "  <tbody>\n",
       "    <tr>\n",
       "      <th>0</th>\n",
       "      <td>data:image/jpeg;base64,/9j/4AAQSkZJRgABAQAAAQA...</td>\n",
       "    </tr>\n",
       "    <tr>\n",
       "      <th>1</th>\n",
       "      <td>data:image/jpeg;base64,/9j/4AAQSkZJRgABAQAAAQA...</td>\n",
       "    </tr>\n",
       "    <tr>\n",
       "      <th>2</th>\n",
       "      <td>data:image/jpeg;base64,/9j/4AAQSkZJRgABAQAAAQA...</td>\n",
       "    </tr>\n",
       "    <tr>\n",
       "      <th>3</th>\n",
       "      <td>data:image/jpeg;base64,/9j/4AAQSkZJRgABAQAAAQA...</td>\n",
       "    </tr>\n",
       "    <tr>\n",
       "      <th>4</th>\n",
       "      <td>data:image/jpeg;base64,/9j/4AAQSkZJRgABAQAAAQA...</td>\n",
       "    </tr>\n",
       "    <tr>\n",
       "      <th>5</th>\n",
       "      <td>data:image/jpeg;base64,/9j/4AAQSkZJRgABAQAAAQA...</td>\n",
       "    </tr>\n",
       "    <tr>\n",
       "      <th>6</th>\n",
       "      <td>data:image/jpeg;base64,/9j/4AAQSkZJRgABAQAAAQA...</td>\n",
       "    </tr>\n",
       "    <tr>\n",
       "      <th>7</th>\n",
       "      <td>data:image/jpeg;base64,/9j/4AAQSkZJRgABAQAAAQA...</td>\n",
       "    </tr>\n",
       "    <tr>\n",
       "      <th>8</th>\n",
       "      <td>data:image/jpeg;base64,/9j/4AAQSkZJRgABAQAAAQA...</td>\n",
       "    </tr>\n",
       "    <tr>\n",
       "      <th>9</th>\n",
       "      <td>data:image/jpeg;base64,/9j/4AAQSkZJRgABAQAAAQA...</td>\n",
       "    </tr>\n",
       "  </tbody>\n",
       "</table>\n",
       "</div>"
      ],
      "text/plain": [
       "                                          Image Link\n",
       "0  data:image/jpeg;base64,/9j/4AAQSkZJRgABAQAAAQA...\n",
       "1  data:image/jpeg;base64,/9j/4AAQSkZJRgABAQAAAQA...\n",
       "2  data:image/jpeg;base64,/9j/4AAQSkZJRgABAQAAAQA...\n",
       "3  data:image/jpeg;base64,/9j/4AAQSkZJRgABAQAAAQA...\n",
       "4  data:image/jpeg;base64,/9j/4AAQSkZJRgABAQAAAQA...\n",
       "5  data:image/jpeg;base64,/9j/4AAQSkZJRgABAQAAAQA...\n",
       "6  data:image/jpeg;base64,/9j/4AAQSkZJRgABAQAAAQA...\n",
       "7  data:image/jpeg;base64,/9j/4AAQSkZJRgABAQAAAQA...\n",
       "8  data:image/jpeg;base64,/9j/4AAQSkZJRgABAQAAAQA...\n",
       "9  data:image/jpeg;base64,/9j/4AAQSkZJRgABAQAAAQA..."
      ]
     },
     "execution_count": 121,
     "metadata": {},
     "output_type": "execute_result"
    }
   ],
   "source": [
    "images('fruits')"
   ]
  },
  {
   "cell_type": "code",
   "execution_count": 122,
   "id": "7ac3584e",
   "metadata": {},
   "outputs": [
    {
     "data": {
      "text/html": [
       "<div>\n",
       "<style scoped>\n",
       "    .dataframe tbody tr th:only-of-type {\n",
       "        vertical-align: middle;\n",
       "    }\n",
       "\n",
       "    .dataframe tbody tr th {\n",
       "        vertical-align: top;\n",
       "    }\n",
       "\n",
       "    .dataframe thead th {\n",
       "        text-align: right;\n",
       "    }\n",
       "</style>\n",
       "<table border=\"1\" class=\"dataframe\">\n",
       "  <thead>\n",
       "    <tr style=\"text-align: right;\">\n",
       "      <th></th>\n",
       "      <th>Image Link</th>\n",
       "    </tr>\n",
       "  </thead>\n",
       "  <tbody>\n",
       "    <tr>\n",
       "      <th>0</th>\n",
       "      <td>data:image/png;base64,iVBORw0KGgoAAAANSUhEUgAA...</td>\n",
       "    </tr>\n",
       "    <tr>\n",
       "      <th>1</th>\n",
       "      <td>data:image/jpeg;base64,/9j/4AAQSkZJRgABAQAAAQA...</td>\n",
       "    </tr>\n",
       "    <tr>\n",
       "      <th>2</th>\n",
       "      <td>data:image/jpeg;base64,/9j/4AAQSkZJRgABAQAAAQA...</td>\n",
       "    </tr>\n",
       "    <tr>\n",
       "      <th>3</th>\n",
       "      <td>data:image/jpeg;base64,/9j/4AAQSkZJRgABAQAAAQA...</td>\n",
       "    </tr>\n",
       "    <tr>\n",
       "      <th>4</th>\n",
       "      <td>data:image/jpeg;base64,/9j/4AAQSkZJRgABAQAAAQA...</td>\n",
       "    </tr>\n",
       "    <tr>\n",
       "      <th>5</th>\n",
       "      <td>data:image/jpeg;base64,/9j/4AAQSkZJRgABAQAAAQA...</td>\n",
       "    </tr>\n",
       "    <tr>\n",
       "      <th>6</th>\n",
       "      <td>data:image/jpeg;base64,/9j/4AAQSkZJRgABAQAAAQA...</td>\n",
       "    </tr>\n",
       "    <tr>\n",
       "      <th>7</th>\n",
       "      <td>data:image/png;base64,iVBORw0KGgoAAAANSUhEUgAA...</td>\n",
       "    </tr>\n",
       "    <tr>\n",
       "      <th>8</th>\n",
       "      <td>data:image/jpeg;base64,/9j/4AAQSkZJRgABAQAAAQA...</td>\n",
       "    </tr>\n",
       "    <tr>\n",
       "      <th>9</th>\n",
       "      <td>data:image/jpeg;base64,/9j/4AAQSkZJRgABAQAAAQA...</td>\n",
       "    </tr>\n",
       "  </tbody>\n",
       "</table>\n",
       "</div>"
      ],
      "text/plain": [
       "                                          Image Link\n",
       "0  data:image/png;base64,iVBORw0KGgoAAAANSUhEUgAA...\n",
       "1  data:image/jpeg;base64,/9j/4AAQSkZJRgABAQAAAQA...\n",
       "2  data:image/jpeg;base64,/9j/4AAQSkZJRgABAQAAAQA...\n",
       "3  data:image/jpeg;base64,/9j/4AAQSkZJRgABAQAAAQA...\n",
       "4  data:image/jpeg;base64,/9j/4AAQSkZJRgABAQAAAQA...\n",
       "5  data:image/jpeg;base64,/9j/4AAQSkZJRgABAQAAAQA...\n",
       "6  data:image/jpeg;base64,/9j/4AAQSkZJRgABAQAAAQA...\n",
       "7  data:image/png;base64,iVBORw0KGgoAAAANSUhEUgAA...\n",
       "8  data:image/jpeg;base64,/9j/4AAQSkZJRgABAQAAAQA...\n",
       "9  data:image/jpeg;base64,/9j/4AAQSkZJRgABAQAAAQA..."
      ]
     },
     "execution_count": 122,
     "metadata": {},
     "output_type": "execute_result"
    }
   ],
   "source": [
    "images('Machine Learning')"
   ]
  },
  {
   "cell_type": "code",
   "execution_count": 123,
   "id": "9d20a524",
   "metadata": {},
   "outputs": [
    {
     "data": {
      "text/html": [
       "<div>\n",
       "<style scoped>\n",
       "    .dataframe tbody tr th:only-of-type {\n",
       "        vertical-align: middle;\n",
       "    }\n",
       "\n",
       "    .dataframe tbody tr th {\n",
       "        vertical-align: top;\n",
       "    }\n",
       "\n",
       "    .dataframe thead th {\n",
       "        text-align: right;\n",
       "    }\n",
       "</style>\n",
       "<table border=\"1\" class=\"dataframe\">\n",
       "  <thead>\n",
       "    <tr style=\"text-align: right;\">\n",
       "      <th></th>\n",
       "      <th>Image Link</th>\n",
       "    </tr>\n",
       "  </thead>\n",
       "  <tbody>\n",
       "    <tr>\n",
       "      <th>0</th>\n",
       "      <td>data:image/jpeg;base64,/9j/4AAQSkZJRgABAQAAAQA...</td>\n",
       "    </tr>\n",
       "    <tr>\n",
       "      <th>1</th>\n",
       "      <td>data:image/jpeg;base64,/9j/4AAQSkZJRgABAQAAAQA...</td>\n",
       "    </tr>\n",
       "    <tr>\n",
       "      <th>2</th>\n",
       "      <td>data:image/jpeg;base64,/9j/4AAQSkZJRgABAQAAAQA...</td>\n",
       "    </tr>\n",
       "    <tr>\n",
       "      <th>3</th>\n",
       "      <td>data:image/jpeg;base64,/9j/4AAQSkZJRgABAQAAAQA...</td>\n",
       "    </tr>\n",
       "    <tr>\n",
       "      <th>4</th>\n",
       "      <td>data:image/jpeg;base64,/9j/4AAQSkZJRgABAQAAAQA...</td>\n",
       "    </tr>\n",
       "    <tr>\n",
       "      <th>5</th>\n",
       "      <td>data:image/jpeg;base64,/9j/4AAQSkZJRgABAQAAAQA...</td>\n",
       "    </tr>\n",
       "    <tr>\n",
       "      <th>6</th>\n",
       "      <td>data:image/jpeg;base64,/9j/4AAQSkZJRgABAQAAAQA...</td>\n",
       "    </tr>\n",
       "    <tr>\n",
       "      <th>7</th>\n",
       "      <td>data:image/jpeg;base64,/9j/4AAQSkZJRgABAQAAAQA...</td>\n",
       "    </tr>\n",
       "    <tr>\n",
       "      <th>8</th>\n",
       "      <td>data:image/jpeg;base64,/9j/4AAQSkZJRgABAQAAAQA...</td>\n",
       "    </tr>\n",
       "    <tr>\n",
       "      <th>9</th>\n",
       "      <td>data:image/jpeg;base64,/9j/4AAQSkZJRgABAQAAAQA...</td>\n",
       "    </tr>\n",
       "  </tbody>\n",
       "</table>\n",
       "</div>"
      ],
      "text/plain": [
       "                                          Image Link\n",
       "0  data:image/jpeg;base64,/9j/4AAQSkZJRgABAQAAAQA...\n",
       "1  data:image/jpeg;base64,/9j/4AAQSkZJRgABAQAAAQA...\n",
       "2  data:image/jpeg;base64,/9j/4AAQSkZJRgABAQAAAQA...\n",
       "3  data:image/jpeg;base64,/9j/4AAQSkZJRgABAQAAAQA...\n",
       "4  data:image/jpeg;base64,/9j/4AAQSkZJRgABAQAAAQA...\n",
       "5  data:image/jpeg;base64,/9j/4AAQSkZJRgABAQAAAQA...\n",
       "6  data:image/jpeg;base64,/9j/4AAQSkZJRgABAQAAAQA...\n",
       "7  data:image/jpeg;base64,/9j/4AAQSkZJRgABAQAAAQA...\n",
       "8  data:image/jpeg;base64,/9j/4AAQSkZJRgABAQAAAQA...\n",
       "9  data:image/jpeg;base64,/9j/4AAQSkZJRgABAQAAAQA..."
      ]
     },
     "execution_count": 123,
     "metadata": {},
     "output_type": "execute_result"
    }
   ],
   "source": [
    "images('Guitar')"
   ]
  },
  {
   "cell_type": "code",
   "execution_count": 124,
   "id": "42e3cd33",
   "metadata": {},
   "outputs": [
    {
     "data": {
      "text/html": [
       "<div>\n",
       "<style scoped>\n",
       "    .dataframe tbody tr th:only-of-type {\n",
       "        vertical-align: middle;\n",
       "    }\n",
       "\n",
       "    .dataframe tbody tr th {\n",
       "        vertical-align: top;\n",
       "    }\n",
       "\n",
       "    .dataframe thead th {\n",
       "        text-align: right;\n",
       "    }\n",
       "</style>\n",
       "<table border=\"1\" class=\"dataframe\">\n",
       "  <thead>\n",
       "    <tr style=\"text-align: right;\">\n",
       "      <th></th>\n",
       "      <th>Image Link</th>\n",
       "    </tr>\n",
       "  </thead>\n",
       "  <tbody>\n",
       "    <tr>\n",
       "      <th>0</th>\n",
       "      <td>data:image/jpeg;base64,/9j/4AAQSkZJRgABAQAAAQA...</td>\n",
       "    </tr>\n",
       "    <tr>\n",
       "      <th>1</th>\n",
       "      <td>data:image/jpeg;base64,/9j/4AAQSkZJRgABAQAAAQA...</td>\n",
       "    </tr>\n",
       "    <tr>\n",
       "      <th>2</th>\n",
       "      <td>data:image/jpeg;base64,/9j/4AAQSkZJRgABAQAAAQA...</td>\n",
       "    </tr>\n",
       "    <tr>\n",
       "      <th>3</th>\n",
       "      <td>data:image/jpeg;base64,/9j/4AAQSkZJRgABAQAAAQA...</td>\n",
       "    </tr>\n",
       "    <tr>\n",
       "      <th>4</th>\n",
       "      <td>data:image/jpeg;base64,/9j/4AAQSkZJRgABAQAAAQA...</td>\n",
       "    </tr>\n",
       "    <tr>\n",
       "      <th>5</th>\n",
       "      <td>data:image/jpeg;base64,/9j/4AAQSkZJRgABAQAAAQA...</td>\n",
       "    </tr>\n",
       "    <tr>\n",
       "      <th>6</th>\n",
       "      <td>data:image/jpeg;base64,/9j/4AAQSkZJRgABAQAAAQA...</td>\n",
       "    </tr>\n",
       "    <tr>\n",
       "      <th>7</th>\n",
       "      <td>data:image/jpeg;base64,/9j/4AAQSkZJRgABAQAAAQA...</td>\n",
       "    </tr>\n",
       "    <tr>\n",
       "      <th>8</th>\n",
       "      <td>data:image/jpeg;base64,/9j/4AAQSkZJRgABAQAAAQA...</td>\n",
       "    </tr>\n",
       "    <tr>\n",
       "      <th>9</th>\n",
       "      <td>data:image/jpeg;base64,/9j/4AAQSkZJRgABAQAAAQA...</td>\n",
       "    </tr>\n",
       "  </tbody>\n",
       "</table>\n",
       "</div>"
      ],
      "text/plain": [
       "                                          Image Link\n",
       "0  data:image/jpeg;base64,/9j/4AAQSkZJRgABAQAAAQA...\n",
       "1  data:image/jpeg;base64,/9j/4AAQSkZJRgABAQAAAQA...\n",
       "2  data:image/jpeg;base64,/9j/4AAQSkZJRgABAQAAAQA...\n",
       "3  data:image/jpeg;base64,/9j/4AAQSkZJRgABAQAAAQA...\n",
       "4  data:image/jpeg;base64,/9j/4AAQSkZJRgABAQAAAQA...\n",
       "5  data:image/jpeg;base64,/9j/4AAQSkZJRgABAQAAAQA...\n",
       "6  data:image/jpeg;base64,/9j/4AAQSkZJRgABAQAAAQA...\n",
       "7  data:image/jpeg;base64,/9j/4AAQSkZJRgABAQAAAQA...\n",
       "8  data:image/jpeg;base64,/9j/4AAQSkZJRgABAQAAAQA...\n",
       "9  data:image/jpeg;base64,/9j/4AAQSkZJRgABAQAAAQA..."
      ]
     },
     "execution_count": 124,
     "metadata": {},
     "output_type": "execute_result"
    }
   ],
   "source": [
    "images('Cakes')"
   ]
  },
  {
   "cell_type": "code",
   "execution_count": null,
   "id": "58017f64",
   "metadata": {},
   "outputs": [],
   "source": []
  },
  {
   "cell_type": "markdown",
   "id": "7570da58",
   "metadata": {},
   "source": [
    "# 4. Write a python program to search for a smartphone(e.g.: Oneplus Nord, pixel 4A, etc.) on www.flipkart.com and scrape following details for all the search results displayed on 1st page. Details to be scraped: “Brand Name”, “Smartphone name”, “Colour”, “RAM”, “Storage(ROM)”, “Primary Camera”, “Secondary Camera”, “Display Size”, “Battery Capacity”, “Price”, “Product URL”. Incase if any of the details is missing then replace it by “- “. Save your results in a dataframe and CSV."
   ]
  },
  {
   "cell_type": "code",
   "execution_count": 1,
   "id": "d946e1c9",
   "metadata": {},
   "outputs": [
    {
     "ename": "NameError",
     "evalue": "name 'webdriver' is not defined",
     "output_type": "error",
     "traceback": [
      "\u001b[1;31m---------------------------------------------------------------------------\u001b[0m",
      "\u001b[1;31mNameError\u001b[0m                                 Traceback (most recent call last)",
      "\u001b[1;32mC:\\Users\\BANKOF~1\\AppData\\Local\\Temp/ipykernel_5436/1556625582.py\u001b[0m in \u001b[0;36m<module>\u001b[1;34m\u001b[0m\n\u001b[0;32m      1\u001b[0m \u001b[1;31m# lets connect to driver\u001b[0m\u001b[1;33m\u001b[0m\u001b[1;33m\u001b[0m\u001b[0m\n\u001b[0;32m      2\u001b[0m \u001b[1;33m\u001b[0m\u001b[0m\n\u001b[1;32m----> 3\u001b[1;33m \u001b[0mdriver\u001b[0m\u001b[1;33m=\u001b[0m \u001b[0mwebdriver\u001b[0m\u001b[1;33m.\u001b[0m\u001b[0mChrome\u001b[0m\u001b[1;33m(\u001b[0m\u001b[1;34mr'C:\\Users\\Bank of America\\Downloads\\chromedriver_win32/chromedriver.exe'\u001b[0m\u001b[1;33m)\u001b[0m\u001b[1;33m\u001b[0m\u001b[1;33m\u001b[0m\u001b[0m\n\u001b[0m\u001b[0;32m      4\u001b[0m \u001b[0mdriver\u001b[0m\u001b[1;33m.\u001b[0m\u001b[0mmaximize_window\u001b[0m\u001b[1;33m(\u001b[0m\u001b[1;33m)\u001b[0m\u001b[1;33m\u001b[0m\u001b[1;33m\u001b[0m\u001b[0m\n\u001b[0;32m      5\u001b[0m \u001b[1;33m\u001b[0m\u001b[0m\n",
      "\u001b[1;31mNameError\u001b[0m: name 'webdriver' is not defined"
     ]
    }
   ],
   "source": [
    "# lets connect to driver\n",
    "\n",
    "driver= webdriver.Chrome(r'C:\\Users\\Bank of America\\Downloads\\chromedriver_win32/chromedriver.exe')\n",
    "driver.maximize_window()\n",
    "\n",
    "url='https://www.flipkart.com/'\n",
    "driver.get(url)"
   ]
  },
  {
   "cell_type": "code",
   "execution_count": 899,
   "id": "4ed0c920",
   "metadata": {},
   "outputs": [],
   "source": [
    "# Cross Login Page\n",
    "\n",
    "try:\n",
    "    login_page= driver.find_element_by_xpath('/html/body/div[2]/div/div/button')\n",
    "    login_page.click()\n",
    "except: pass"
   ]
  },
  {
   "cell_type": "code",
   "execution_count": 900,
   "id": "4497d31b",
   "metadata": {},
   "outputs": [],
   "source": [
    "# Find Search bar for Job , location and enter data\n",
    "search_bar= driver.find_element_by_xpath('/html/body/div[1]/div/div[1]/div[1]/div[2]/div[2]/form/div/div/input')\n",
    "search_bar.send_keys('pixel 4a')\n",
    "\n",
    "# Click search button\n",
    "search_button=driver.find_element_by_xpath('/html/body/div[1]/div/div[1]/div[1]/div[2]/div[2]/form/div/button')\n",
    "search_button.click()\n"
   ]
  },
  {
   "cell_type": "code",
   "execution_count": 839,
   "id": "751c3c7a",
   "metadata": {},
   "outputs": [],
   "source": [
    "urls= driver.find_elements_by_xpath('//a[@class=\"_1fQZEK\"]')"
   ]
  },
  {
   "cell_type": "code",
   "execution_count": 840,
   "id": "0ff06aba",
   "metadata": {},
   "outputs": [],
   "source": [
    "url=[]\n",
    "for i in urls:\n",
    "    url.append(i.get_attribute('href'))"
   ]
  },
  {
   "cell_type": "code",
   "execution_count": 841,
   "id": "bbbc3a58",
   "metadata": {},
   "outputs": [
    {
     "data": {
      "text/plain": [
       "24"
      ]
     },
     "execution_count": 841,
     "metadata": {},
     "output_type": "execute_result"
    }
   ],
   "source": [
    "len(url)"
   ]
  },
  {
   "cell_type": "code",
   "execution_count": 867,
   "id": "91e9b23b",
   "metadata": {},
   "outputs": [],
   "source": [
    "smartphone_price=driver.find_element_by_xpath('//div[@class=\"_25b18c\"]')\n"
   ]
  },
  {
   "cell_type": "code",
   "execution_count": 868,
   "id": "808694d9",
   "metadata": {},
   "outputs": [
    {
     "data": {
      "text/plain": [
       "'₹31,999'"
      ]
     },
     "execution_count": 868,
     "metadata": {},
     "output_type": "execute_result"
    }
   ],
   "source": [
    "smartphone_price.text"
   ]
  },
  {
   "cell_type": "code",
   "execution_count": 889,
   "id": "950e8556",
   "metadata": {},
   "outputs": [],
   "source": [
    "driver= webdriver.Chrome(r'C:\\Users\\Bank of America\\Downloads\\chromedriver_win32/chromedriver.exe')\n",
    "driver.maximize_window()\n",
    "driver.get('https://www.flipkart.com/google-pixel-4a-just-black-128-gb/p/itm023b9677aa45d')"
   ]
  },
  {
   "cell_type": "code",
   "execution_count": null,
   "id": "50c63c79",
   "metadata": {},
   "outputs": [],
   "source": []
  },
  {
   "cell_type": "code",
   "execution_count": 897,
   "id": "d4384fc9",
   "metadata": {},
   "outputs": [],
   "source": [
    "# Read More:\n",
    "\n",
    "try:\n",
    "    read_more= driver.find_element_by_class_name('_2KpZ6l _1FH0tX')\n",
    "    read_more.click()\n",
    "except: pass"
   ]
  },
  {
   "cell_type": "code",
   "execution_count": 891,
   "id": "407b41a3",
   "metadata": {},
   "outputs": [
    {
     "data": {
      "text/plain": [
       "'Google Pixel 4a (Just Black, 128 GB)  (6 GB RAM)'"
      ]
     },
     "execution_count": 891,
     "metadata": {},
     "output_type": "execute_result"
    }
   ],
   "source": [
    "smartphone_name= driver.find_element_by_class_name('B_NuCI')\n",
    "smartphone_name.text"
   ]
  },
  {
   "cell_type": "code",
   "execution_count": null,
   "id": "d63ae0ac",
   "metadata": {},
   "outputs": [],
   "source": []
  },
  {
   "cell_type": "code",
   "execution_count": null,
   "id": "37746206",
   "metadata": {},
   "outputs": [],
   "source": []
  },
  {
   "cell_type": "code",
   "execution_count": null,
   "id": "96562d12",
   "metadata": {},
   "outputs": [],
   "source": []
  },
  {
   "cell_type": "code",
   "execution_count": null,
   "id": "f6887051",
   "metadata": {},
   "outputs": [],
   "source": [
    "you have to use table tags for extracting data from table. I am showing you one sample xpath. Rest you can make like this. It's very easy, Create path by your own. \n",
    "\n",
    "//div[@class=\"_3k-BhJ\"][1]/table/tbody/tr[4]/td[2]/ul/li\n",
    "\n",
    "This xpath is for extracting color."
   ]
  },
  {
   "cell_type": "code",
   "execution_count": 266,
   "id": "48268840",
   "metadata": {},
   "outputs": [
    {
     "ename": "NoSuchElementException",
     "evalue": "Message: no such element: Unable to locate element: {\"method\":\"xpath\",\"selector\":\"//div[@class=\"_3k-BhJ\"][1]/table/tbody/tr[4]/td[2]/ul/li\"}\n  (Session info: chrome=99.0.4844.74)\nStacktrace:\nBacktrace:\n\tOrdinal0 [0x00629943+2595139]\n\tOrdinal0 [0x005BC9F1+2148849]\n\tOrdinal0 [0x004B4528+1066280]\n\tOrdinal0 [0x004E0FD4+1249236]\n\tOrdinal0 [0x004E11CB+1249739]\n\tOrdinal0 [0x0050D812+1431570]\n\tOrdinal0 [0x004FBA34+1358388]\n\tOrdinal0 [0x0050BAF2+1424114]\n\tOrdinal0 [0x004FB806+1357830]\n\tOrdinal0 [0x004D6086+1204358]\n\tOrdinal0 [0x004D6F96+1208214]\n\tGetHandleVerifier [0x007CB232+1658114]\n\tGetHandleVerifier [0x0088312C+2411516]\n\tGetHandleVerifier [0x006BF261+560433]\n\tGetHandleVerifier [0x006BE366+556598]\n\tOrdinal0 [0x005C286B+2173035]\n\tOrdinal0 [0x005C75F8+2192888]\n\tOrdinal0 [0x005C76E5+2193125]\n\tOrdinal0 [0x005D11FC+2232828]\n\tBaseThreadInitThunk [0x752AFA29+25]\n\tRtlGetAppContainerNamedObjectPath [0x77067A7E+286]\n\tRtlGetAppContainerNamedObjectPath [0x77067A4E+238]\n",
     "output_type": "error",
     "traceback": [
      "\u001b[1;31m---------------------------------------------------------------------------\u001b[0m",
      "\u001b[1;31mNoSuchElementException\u001b[0m                    Traceback (most recent call last)",
      "\u001b[1;32mC:\\Users\\BANKOF~1\\AppData\\Local\\Temp/ipykernel_244/1579873097.py\u001b[0m in \u001b[0;36m<module>\u001b[1;34m\u001b[0m\n\u001b[1;32m----> 1\u001b[1;33m \u001b[0mdriver\u001b[0m\u001b[1;33m.\u001b[0m\u001b[0mfind_element_by_xpath\u001b[0m\u001b[1;33m(\u001b[0m\u001b[1;34m'//div[@class=\"_3k-BhJ\"][1]/table/tbody/tr[4]/td[2]/ul/li'\u001b[0m\u001b[1;33m)\u001b[0m\u001b[1;33m\u001b[0m\u001b[1;33m\u001b[0m\u001b[0m\n\u001b[0m",
      "\u001b[1;32m~\\anaconda3\\lib\\site-packages\\selenium\\webdriver\\remote\\webdriver.py\u001b[0m in \u001b[0;36mfind_element_by_xpath\u001b[1;34m(self, xpath)\u001b[0m\n\u001b[0;32m    519\u001b[0m             \u001b[0mstacklevel\u001b[0m\u001b[1;33m=\u001b[0m\u001b[1;36m2\u001b[0m\u001b[1;33m,\u001b[0m\u001b[1;33m\u001b[0m\u001b[1;33m\u001b[0m\u001b[0m\n\u001b[0;32m    520\u001b[0m         )\n\u001b[1;32m--> 521\u001b[1;33m         \u001b[1;32mreturn\u001b[0m \u001b[0mself\u001b[0m\u001b[1;33m.\u001b[0m\u001b[0mfind_element\u001b[0m\u001b[1;33m(\u001b[0m\u001b[0mby\u001b[0m\u001b[1;33m=\u001b[0m\u001b[0mBy\u001b[0m\u001b[1;33m.\u001b[0m\u001b[0mXPATH\u001b[0m\u001b[1;33m,\u001b[0m \u001b[0mvalue\u001b[0m\u001b[1;33m=\u001b[0m\u001b[0mxpath\u001b[0m\u001b[1;33m)\u001b[0m\u001b[1;33m\u001b[0m\u001b[1;33m\u001b[0m\u001b[0m\n\u001b[0m\u001b[0;32m    522\u001b[0m \u001b[1;33m\u001b[0m\u001b[0m\n\u001b[0;32m    523\u001b[0m     \u001b[1;32mdef\u001b[0m \u001b[0mfind_elements_by_xpath\u001b[0m\u001b[1;33m(\u001b[0m\u001b[0mself\u001b[0m\u001b[1;33m,\u001b[0m \u001b[0mxpath\u001b[0m\u001b[1;33m)\u001b[0m \u001b[1;33m->\u001b[0m \u001b[0mList\u001b[0m\u001b[1;33m[\u001b[0m\u001b[0mWebElement\u001b[0m\u001b[1;33m]\u001b[0m\u001b[1;33m:\u001b[0m\u001b[1;33m\u001b[0m\u001b[1;33m\u001b[0m\u001b[0m\n",
      "\u001b[1;32m~\\anaconda3\\lib\\site-packages\\selenium\\webdriver\\remote\\webdriver.py\u001b[0m in \u001b[0;36mfind_element\u001b[1;34m(self, by, value)\u001b[0m\n\u001b[0;32m   1246\u001b[0m             \u001b[0mvalue\u001b[0m \u001b[1;33m=\u001b[0m \u001b[1;34m'[name=\"%s\"]'\u001b[0m \u001b[1;33m%\u001b[0m \u001b[0mvalue\u001b[0m\u001b[1;33m\u001b[0m\u001b[1;33m\u001b[0m\u001b[0m\n\u001b[0;32m   1247\u001b[0m \u001b[1;33m\u001b[0m\u001b[0m\n\u001b[1;32m-> 1248\u001b[1;33m         return self.execute(Command.FIND_ELEMENT, {\n\u001b[0m\u001b[0;32m   1249\u001b[0m             \u001b[1;34m'using'\u001b[0m\u001b[1;33m:\u001b[0m \u001b[0mby\u001b[0m\u001b[1;33m,\u001b[0m\u001b[1;33m\u001b[0m\u001b[1;33m\u001b[0m\u001b[0m\n\u001b[0;32m   1250\u001b[0m             'value': value})['value']\n",
      "\u001b[1;32m~\\anaconda3\\lib\\site-packages\\selenium\\webdriver\\remote\\webdriver.py\u001b[0m in \u001b[0;36mexecute\u001b[1;34m(self, driver_command, params)\u001b[0m\n\u001b[0;32m    423\u001b[0m         \u001b[0mresponse\u001b[0m \u001b[1;33m=\u001b[0m \u001b[0mself\u001b[0m\u001b[1;33m.\u001b[0m\u001b[0mcommand_executor\u001b[0m\u001b[1;33m.\u001b[0m\u001b[0mexecute\u001b[0m\u001b[1;33m(\u001b[0m\u001b[0mdriver_command\u001b[0m\u001b[1;33m,\u001b[0m \u001b[0mparams\u001b[0m\u001b[1;33m)\u001b[0m\u001b[1;33m\u001b[0m\u001b[1;33m\u001b[0m\u001b[0m\n\u001b[0;32m    424\u001b[0m         \u001b[1;32mif\u001b[0m \u001b[0mresponse\u001b[0m\u001b[1;33m:\u001b[0m\u001b[1;33m\u001b[0m\u001b[1;33m\u001b[0m\u001b[0m\n\u001b[1;32m--> 425\u001b[1;33m             \u001b[0mself\u001b[0m\u001b[1;33m.\u001b[0m\u001b[0merror_handler\u001b[0m\u001b[1;33m.\u001b[0m\u001b[0mcheck_response\u001b[0m\u001b[1;33m(\u001b[0m\u001b[0mresponse\u001b[0m\u001b[1;33m)\u001b[0m\u001b[1;33m\u001b[0m\u001b[1;33m\u001b[0m\u001b[0m\n\u001b[0m\u001b[0;32m    426\u001b[0m             response['value'] = self._unwrap_value(\n\u001b[0;32m    427\u001b[0m                 response.get('value', None))\n",
      "\u001b[1;32m~\\anaconda3\\lib\\site-packages\\selenium\\webdriver\\remote\\errorhandler.py\u001b[0m in \u001b[0;36mcheck_response\u001b[1;34m(self, response)\u001b[0m\n\u001b[0;32m    245\u001b[0m                 \u001b[0malert_text\u001b[0m \u001b[1;33m=\u001b[0m \u001b[0mvalue\u001b[0m\u001b[1;33m[\u001b[0m\u001b[1;34m'alert'\u001b[0m\u001b[1;33m]\u001b[0m\u001b[1;33m.\u001b[0m\u001b[0mget\u001b[0m\u001b[1;33m(\u001b[0m\u001b[1;34m'text'\u001b[0m\u001b[1;33m)\u001b[0m\u001b[1;33m\u001b[0m\u001b[1;33m\u001b[0m\u001b[0m\n\u001b[0;32m    246\u001b[0m             \u001b[1;32mraise\u001b[0m \u001b[0mexception_class\u001b[0m\u001b[1;33m(\u001b[0m\u001b[0mmessage\u001b[0m\u001b[1;33m,\u001b[0m \u001b[0mscreen\u001b[0m\u001b[1;33m,\u001b[0m \u001b[0mstacktrace\u001b[0m\u001b[1;33m,\u001b[0m \u001b[0malert_text\u001b[0m\u001b[1;33m)\u001b[0m  \u001b[1;31m# type: ignore[call-arg]  # mypy is not smart enough here\u001b[0m\u001b[1;33m\u001b[0m\u001b[1;33m\u001b[0m\u001b[0m\n\u001b[1;32m--> 247\u001b[1;33m         \u001b[1;32mraise\u001b[0m \u001b[0mexception_class\u001b[0m\u001b[1;33m(\u001b[0m\u001b[0mmessage\u001b[0m\u001b[1;33m,\u001b[0m \u001b[0mscreen\u001b[0m\u001b[1;33m,\u001b[0m \u001b[0mstacktrace\u001b[0m\u001b[1;33m)\u001b[0m\u001b[1;33m\u001b[0m\u001b[1;33m\u001b[0m\u001b[0m\n\u001b[0m\u001b[0;32m    248\u001b[0m \u001b[1;33m\u001b[0m\u001b[0m\n\u001b[0;32m    249\u001b[0m     \u001b[1;32mdef\u001b[0m \u001b[0m_value_or_default\u001b[0m\u001b[1;33m(\u001b[0m\u001b[0mself\u001b[0m\u001b[1;33m,\u001b[0m \u001b[0mobj\u001b[0m\u001b[1;33m:\u001b[0m \u001b[0mMapping\u001b[0m\u001b[1;33m[\u001b[0m\u001b[0m_KT\u001b[0m\u001b[1;33m,\u001b[0m \u001b[0m_VT\u001b[0m\u001b[1;33m]\u001b[0m\u001b[1;33m,\u001b[0m \u001b[0mkey\u001b[0m\u001b[1;33m:\u001b[0m \u001b[0m_KT\u001b[0m\u001b[1;33m,\u001b[0m \u001b[0mdefault\u001b[0m\u001b[1;33m:\u001b[0m \u001b[0m_VT\u001b[0m\u001b[1;33m)\u001b[0m \u001b[1;33m->\u001b[0m \u001b[0m_VT\u001b[0m\u001b[1;33m:\u001b[0m\u001b[1;33m\u001b[0m\u001b[1;33m\u001b[0m\u001b[0m\n",
      "\u001b[1;31mNoSuchElementException\u001b[0m: Message: no such element: Unable to locate element: {\"method\":\"xpath\",\"selector\":\"//div[@class=\"_3k-BhJ\"][1]/table/tbody/tr[4]/td[2]/ul/li\"}\n  (Session info: chrome=99.0.4844.74)\nStacktrace:\nBacktrace:\n\tOrdinal0 [0x00629943+2595139]\n\tOrdinal0 [0x005BC9F1+2148849]\n\tOrdinal0 [0x004B4528+1066280]\n\tOrdinal0 [0x004E0FD4+1249236]\n\tOrdinal0 [0x004E11CB+1249739]\n\tOrdinal0 [0x0050D812+1431570]\n\tOrdinal0 [0x004FBA34+1358388]\n\tOrdinal0 [0x0050BAF2+1424114]\n\tOrdinal0 [0x004FB806+1357830]\n\tOrdinal0 [0x004D6086+1204358]\n\tOrdinal0 [0x004D6F96+1208214]\n\tGetHandleVerifier [0x007CB232+1658114]\n\tGetHandleVerifier [0x0088312C+2411516]\n\tGetHandleVerifier [0x006BF261+560433]\n\tGetHandleVerifier [0x006BE366+556598]\n\tOrdinal0 [0x005C286B+2173035]\n\tOrdinal0 [0x005C75F8+2192888]\n\tOrdinal0 [0x005C76E5+2193125]\n\tOrdinal0 [0x005D11FC+2232828]\n\tBaseThreadInitThunk [0x752AFA29+25]\n\tRtlGetAppContainerNamedObjectPath [0x77067A7E+286]\n\tRtlGetAppContainerNamedObjectPath [0x77067A4E+238]\n"
     ]
    }
   ],
   "source": [
    "driver.find_element_by_xpath('//div[@class=\"_3k-BhJ\"][1]/table/tbody/tr[4]/td[2]/ul/li')"
   ]
  },
  {
   "cell_type": "code",
   "execution_count": null,
   "id": "2540d992",
   "metadata": {},
   "outputs": [],
   "source": []
  },
  {
   "cell_type": "code",
   "execution_count": null,
   "id": "bef8e512",
   "metadata": {},
   "outputs": [],
   "source": []
  },
  {
   "cell_type": "code",
   "execution_count": null,
   "id": "b5e1f3ab",
   "metadata": {},
   "outputs": [],
   "source": []
  },
  {
   "cell_type": "markdown",
   "id": "96dfded9",
   "metadata": {},
   "source": [
    "# 5. Write a program to scrap geospatial coordinates (latitude, longitude) of a city searched on google maps."
   ]
  },
  {
   "cell_type": "code",
   "execution_count": 204,
   "id": "1248940c",
   "metadata": {},
   "outputs": [],
   "source": [
    "from selenium.webdriver.support.ui import WebDriverWait\n",
    "from selenium.webdriver.common.by import By\n",
    "from selenium.webdriver.support import expected_conditions as EC"
   ]
  },
  {
   "cell_type": "code",
   "execution_count": 223,
   "id": "85c61ea5",
   "metadata": {},
   "outputs": [],
   "source": [
    "def find_cordinate(location):\n",
    "    driver= webdriver.Chrome(r'C:\\Users\\Bank of America\\Downloads\\chromedriver_win32/chromedriver.exe')\n",
    "    driver.maximize_window()\n",
    "\n",
    "    url='https://www.google.com/maps/'\n",
    "    driver.get(url)\n",
    "    search_bar= driver.find_element_by_xpath('/html/body/div[3]/div[9]/div[3]/div[1]/div[1]/div[1]/div[2]/form/div/div[3]/div/input[1]')\n",
    "    search_bar.send_keys(location)\n",
    "\n",
    "    # Click search button\n",
    "    search_button=driver.find_element_by_xpath('/html/body/div[3]/div[9]/div[3]/div[1]/div[1]/div[1]/div[2]/div[1]/button')\n",
    "    search_button.click()\n",
    "    time.sleep(4)\n",
    "    \n",
    "    url=driver.current_url\n",
    "    print('Corrdinates ',url.split('@')[1].split(',')[0:2])\n",
    "    return \n",
    "    "
   ]
  },
  {
   "cell_type": "code",
   "execution_count": 224,
   "id": "229950c4",
   "metadata": {},
   "outputs": [
    {
     "name": "stdout",
     "output_type": "stream",
     "text": [
      "Corrdinates  ['28.6466772', '76.8130624']\n"
     ]
    }
   ],
   "source": [
    "find_cordinate('Delhi')"
   ]
  },
  {
   "cell_type": "code",
   "execution_count": null,
   "id": "76bc08f8",
   "metadata": {},
   "outputs": [],
   "source": []
  },
  {
   "cell_type": "markdown",
   "id": "7134196e",
   "metadata": {},
   "source": [
    "# 6. Write a program to scrap details of all the funding deals for second quarter (i.e Jan 21 – March 21) from trak.in."
   ]
  },
  {
   "cell_type": "code",
   "execution_count": 1,
   "id": "ccce4523",
   "metadata": {},
   "outputs": [
    {
     "name": "stderr",
     "output_type": "stream",
     "text": [
      "C:\\Users\\BANKOF~1\\AppData\\Local\\Temp/ipykernel_14888/3262473186.py:6: DeprecationWarning: executable_path has been deprecated, please pass in a Service object\n",
      "  driver= webdriver.Chrome(r'C:\\Users\\Bank of America\\Downloads\\chromedriver_win32/chromedriver.exe', options=c)\n"
     ]
    }
   ],
   "source": [
    "# lets connect to driver\n",
    "from selenium import webdriver\n",
    "c=webdriver.ChromeOptions()\n",
    "c.add_argument(\"--incognito\")\n",
    "\n",
    "driver= webdriver.Chrome(r'C:\\Users\\Bank of America\\Downloads\\chromedriver_win32/chromedriver.exe', options=c)\n",
    "driver.implicitly_wait(0.5)\n",
    "driver.maximize_window()\n",
    "\n",
    "url='https://trak.in/'\n",
    "driver.get(url)"
   ]
  },
  {
   "cell_type": "code",
   "execution_count": 2,
   "id": "0f56f4a1",
   "metadata": {},
   "outputs": [
    {
     "name": "stderr",
     "output_type": "stream",
     "text": [
      "C:\\Users\\BANKOF~1\\AppData\\Local\\Temp/ipykernel_14888/3348645675.py:3: DeprecationWarning: find_element_by_xpath is deprecated. Please use find_element(by=By.XPATH, value=xpath) instead\n",
      "  funding= driver.find_element_by_xpath('/html/body/div[1]/header/div[2]/div/div/div/div/nav/ul/li[9]/a')\n"
     ]
    }
   ],
   "source": [
    "# CLick on Funding Deals\n",
    "\n",
    "funding= driver.find_element_by_xpath('/html/body/div[1]/header/div[2]/div/div/div/div/nav/ul/li[9]/a')\n",
    "funding.click()"
   ]
  },
  {
   "cell_type": "code",
   "execution_count": 469,
   "id": "54e37229",
   "metadata": {},
   "outputs": [],
   "source": [
    "# close ADD  Closed error manually \n",
    "    \n",
    "   \n",
    "      "
   ]
  },
  {
   "cell_type": "code",
   "execution_count": 3,
   "id": "6391824c",
   "metadata": {},
   "outputs": [
    {
     "name": "stderr",
     "output_type": "stream",
     "text": [
      "C:\\Users\\BANKOF~1\\AppData\\Local\\Temp/ipykernel_14888/2007318750.py:2: DeprecationWarning: find_elements_by_xpath is deprecated. Please use find_elements(by=By.XPATH, value=xpath) instead\n",
      "  SN=driver.find_elements_by_xpath('//table[@id=\"tablepress-57\"]/tbody/tr/td[1]')\n",
      "C:\\Users\\BANKOF~1\\AppData\\Local\\Temp/ipykernel_14888/2007318750.py:3: DeprecationWarning: find_elements_by_xpath is deprecated. Please use find_elements(by=By.XPATH, value=xpath) instead\n",
      "  DATE= driver.find_elements_by_xpath('//table[@id=\"tablepress-57\"]/tbody/tr/td[2]')\n",
      "C:\\Users\\BANKOF~1\\AppData\\Local\\Temp/ipykernel_14888/2007318750.py:4: DeprecationWarning: find_elements_by_xpath is deprecated. Please use find_elements(by=By.XPATH, value=xpath) instead\n",
      "  STARTUP= driver.find_elements_by_xpath('//table[@id=\"tablepress-57\"]/tbody/tr/td[3]')\n",
      "C:\\Users\\BANKOF~1\\AppData\\Local\\Temp/ipykernel_14888/2007318750.py:5: DeprecationWarning: find_elements_by_xpath is deprecated. Please use find_elements(by=By.XPATH, value=xpath) instead\n",
      "  INDUSTRY=driver.find_elements_by_xpath('//table[@id=\"tablepress-57\"]/tbody/tr/td[4]')\n",
      "C:\\Users\\BANKOF~1\\AppData\\Local\\Temp/ipykernel_14888/2007318750.py:6: DeprecationWarning: find_elements_by_xpath is deprecated. Please use find_elements(by=By.XPATH, value=xpath) instead\n",
      "  VERTICAL=driver.find_elements_by_xpath('//table[@id=\"tablepress-57\"]/tbody/tr/td[5]')\n",
      "C:\\Users\\BANKOF~1\\AppData\\Local\\Temp/ipykernel_14888/2007318750.py:7: DeprecationWarning: find_elements_by_xpath is deprecated. Please use find_elements(by=By.XPATH, value=xpath) instead\n",
      "  CITY=driver.find_elements_by_xpath('//table[@id=\"tablepress-57\"]/tbody/tr/td[6]')\n",
      "C:\\Users\\BANKOF~1\\AppData\\Local\\Temp/ipykernel_14888/2007318750.py:8: DeprecationWarning: find_elements_by_xpath is deprecated. Please use find_elements(by=By.XPATH, value=xpath) instead\n",
      "  INVESTOR=driver.find_elements_by_xpath('//table[@id=\"tablepress-57\"]/tbody/tr/td[7]')\n",
      "C:\\Users\\BANKOF~1\\AppData\\Local\\Temp/ipykernel_14888/2007318750.py:9: DeprecationWarning: find_elements_by_xpath is deprecated. Please use find_elements(by=By.XPATH, value=xpath) instead\n",
      "  INVESTMENTTYPE=driver.find_elements_by_xpath('//table[@id=\"tablepress-57\"]/tbody/tr/td[8]')\n",
      "C:\\Users\\BANKOF~1\\AppData\\Local\\Temp/ipykernel_14888/2007318750.py:10: DeprecationWarning: find_elements_by_xpath is deprecated. Please use find_elements(by=By.XPATH, value=xpath) instead\n",
      "  AMOUNT=driver.find_elements_by_xpath('//table[@id=\"tablepress-57\"]/tbody/tr/td[9]')\n"
     ]
    }
   ],
   "source": [
    "# April Data\n",
    "SN=driver.find_elements_by_xpath('//table[@id=\"tablepress-57\"]/tbody/tr/td[1]')\n",
    "DATE= driver.find_elements_by_xpath('//table[@id=\"tablepress-57\"]/tbody/tr/td[2]')\n",
    "STARTUP= driver.find_elements_by_xpath('//table[@id=\"tablepress-57\"]/tbody/tr/td[3]')\n",
    "INDUSTRY=driver.find_elements_by_xpath('//table[@id=\"tablepress-57\"]/tbody/tr/td[4]')\n",
    "VERTICAL=driver.find_elements_by_xpath('//table[@id=\"tablepress-57\"]/tbody/tr/td[5]')\n",
    "CITY=driver.find_elements_by_xpath('//table[@id=\"tablepress-57\"]/tbody/tr/td[6]')\n",
    "INVESTOR=driver.find_elements_by_xpath('//table[@id=\"tablepress-57\"]/tbody/tr/td[7]')\n",
    "INVESTMENTTYPE=driver.find_elements_by_xpath('//table[@id=\"tablepress-57\"]/tbody/tr/td[8]')\n",
    "AMOUNT=driver.find_elements_by_xpath('//table[@id=\"tablepress-57\"]/tbody/tr/td[9]')"
   ]
  },
  {
   "cell_type": "code",
   "execution_count": null,
   "id": "76d4843a",
   "metadata": {},
   "outputs": [],
   "source": []
  },
  {
   "cell_type": "code",
   "execution_count": 7,
   "id": "8ed83105",
   "metadata": {},
   "outputs": [],
   "source": []
  },
  {
   "cell_type": "code",
   "execution_count": null,
   "id": "780fde60",
   "metadata": {},
   "outputs": [],
   "source": []
  },
  {
   "cell_type": "code",
   "execution_count": null,
   "id": "9d77caab",
   "metadata": {},
   "outputs": [],
   "source": []
  },
  {
   "cell_type": "code",
   "execution_count": 10,
   "id": "9243ad58",
   "metadata": {},
   "outputs": [],
   "source": [
    "sr=[]\n",
    "date=[]\n",
    "startup=[]\n",
    "industry=[]\n",
    "vertical=[]\n",
    "city=[]\n",
    "investor=[]\n",
    "investment=[]\n",
    "amount=[]"
   ]
  },
  {
   "cell_type": "code",
   "execution_count": 11,
   "id": "75639031",
   "metadata": {},
   "outputs": [
    {
     "data": {
      "text/html": [
       "<div>\n",
       "<style scoped>\n",
       "    .dataframe tbody tr th:only-of-type {\n",
       "        vertical-align: middle;\n",
       "    }\n",
       "\n",
       "    .dataframe tbody tr th {\n",
       "        vertical-align: top;\n",
       "    }\n",
       "\n",
       "    .dataframe thead th {\n",
       "        text-align: right;\n",
       "    }\n",
       "</style>\n",
       "<table border=\"1\" class=\"dataframe\">\n",
       "  <thead>\n",
       "    <tr style=\"text-align: right;\">\n",
       "      <th></th>\n",
       "      <th>S.R</th>\n",
       "      <th>Date</th>\n",
       "      <th>Startup Name</th>\n",
       "      <th>Industry</th>\n",
       "      <th>Sub Vertical</th>\n",
       "      <th>City</th>\n",
       "      <th>Investors Name</th>\n",
       "      <th>Investment type</th>\n",
       "      <th>Amount</th>\n",
       "    </tr>\n",
       "  </thead>\n",
       "  <tbody>\n",
       "    <tr>\n",
       "      <th>0</th>\n",
       "      <td>1</td>\n",
       "      <td>15/01/2021</td>\n",
       "      <td>Digit Insurance</td>\n",
       "      <td>Financial Services</td>\n",
       "      <td>Insurance Services</td>\n",
       "      <td>Bengaluru</td>\n",
       "      <td>A91 Partners, Faering Capital, TVS Capital Funds</td>\n",
       "      <td>Venture</td>\n",
       "      <td>1,80,00,000</td>\n",
       "    </tr>\n",
       "    <tr>\n",
       "      <th>1</th>\n",
       "      <td>2</td>\n",
       "      <td>28/01/2021</td>\n",
       "      <td>Bombay Shaving Company</td>\n",
       "      <td>Consumer Goods Company</td>\n",
       "      <td>Shave care, beard care, and skincare products</td>\n",
       "      <td>New Delhi</td>\n",
       "      <td>Reckitt Benckiser</td>\n",
       "      <td>Venture</td>\n",
       "      <td>6,172,258.50</td>\n",
       "    </tr>\n",
       "    <tr>\n",
       "      <th>2</th>\n",
       "      <td>3</td>\n",
       "      <td>19/01/2021</td>\n",
       "      <td>DeHaat</td>\n",
       "      <td>AgriTech Startup</td>\n",
       "      <td>online marketplace for farm products and services</td>\n",
       "      <td>Patna</td>\n",
       "      <td>Prosus Ventures</td>\n",
       "      <td>Series C</td>\n",
       "      <td>30,000,000</td>\n",
       "    </tr>\n",
       "    <tr>\n",
       "      <th>3</th>\n",
       "      <td>4</td>\n",
       "      <td>19/01/2021</td>\n",
       "      <td>Darwinbox</td>\n",
       "      <td>SaaS</td>\n",
       "      <td>HR Tech</td>\n",
       "      <td>Mumbai</td>\n",
       "      <td>Salesforce Ventures</td>\n",
       "      <td>Seed</td>\n",
       "      <td>15,000,000</td>\n",
       "    </tr>\n",
       "    <tr>\n",
       "      <th>4</th>\n",
       "      <td>5</td>\n",
       "      <td>18/01/2021</td>\n",
       "      <td>mfine</td>\n",
       "      <td>Health Tech Startup</td>\n",
       "      <td>AI-powered telemedicine mobile app</td>\n",
       "      <td>Bengaluru</td>\n",
       "      <td>Heritas Capital Management</td>\n",
       "      <td>Venture Round</td>\n",
       "      <td>16,000,000</td>\n",
       "    </tr>\n",
       "    <tr>\n",
       "      <th>5</th>\n",
       "      <td>6</td>\n",
       "      <td>18/01/2021</td>\n",
       "      <td>Udayy</td>\n",
       "      <td>EdTech</td>\n",
       "      <td>Online learning platform for kids in class 1-5</td>\n",
       "      <td>Gurgaon</td>\n",
       "      <td>Sequoia Capital</td>\n",
       "      <td>Seed Funding</td>\n",
       "      <td>15,000,000</td>\n",
       "    </tr>\n",
       "    <tr>\n",
       "      <th>6</th>\n",
       "      <td>7</td>\n",
       "      <td>11/01/2021</td>\n",
       "      <td>True Elements</td>\n",
       "      <td>Food Startup</td>\n",
       "      <td>Whole Food plant based Nashta</td>\n",
       "      <td>Pune</td>\n",
       "      <td>SIDBI Venture Capital</td>\n",
       "      <td>Series</td>\n",
       "      <td>100,000,000</td>\n",
       "    </tr>\n",
       "    <tr>\n",
       "      <th>7</th>\n",
       "      <td>8</td>\n",
       "      <td>13/01/2021</td>\n",
       "      <td>Saveo</td>\n",
       "      <td>B2B E-commerce</td>\n",
       "      <td>Pharmacies</td>\n",
       "      <td>Bengaluru</td>\n",
       "      <td>Matrix Partners India, RTP Global, others</td>\n",
       "      <td>Seed</td>\n",
       "      <td>4,000,000</td>\n",
       "    </tr>\n",
       "    <tr>\n",
       "      <th>8</th>\n",
       "      <td>1</td>\n",
       "      <td>11/02/2021</td>\n",
       "      <td>Doubtnut</td>\n",
       "      <td>Edu Tech</td>\n",
       "      <td>E-Learning Platform</td>\n",
       "      <td>Gurgaon</td>\n",
       "      <td>SIG Global, Sequoia Capital, WaterBridge Ventu...</td>\n",
       "      <td>Series B</td>\n",
       "      <td>2,500,000</td>\n",
       "    </tr>\n",
       "    <tr>\n",
       "      <th>9</th>\n",
       "      <td>2</td>\n",
       "      <td>22/02/2021</td>\n",
       "      <td>Zomato</td>\n",
       "      <td>Hospitality</td>\n",
       "      <td>Online Food Delivery Platform</td>\n",
       "      <td>Gurgaon</td>\n",
       "      <td>Tiger Global, Kora</td>\n",
       "      <td>Venture</td>\n",
       "      <td>250,000,000</td>\n",
       "    </tr>\n",
       "    <tr>\n",
       "      <th>10</th>\n",
       "      <td>3</td>\n",
       "      <td>19/02/2021</td>\n",
       "      <td>Fingerlix</td>\n",
       "      <td>Hospitality</td>\n",
       "      <td>Semi-cooked food delivery app</td>\n",
       "      <td>Mumbai</td>\n",
       "      <td>Rhodium Trust, Accel Partners and Swiggy</td>\n",
       "      <td>Series C</td>\n",
       "      <td>2,747,045.20</td>\n",
       "    </tr>\n",
       "    <tr>\n",
       "      <th>11</th>\n",
       "      <td>4</td>\n",
       "      <td>17/02/2021</td>\n",
       "      <td>Zolve</td>\n",
       "      <td>FinTech</td>\n",
       "      <td>Global Neobank Venture</td>\n",
       "      <td>Mumbai</td>\n",
       "      <td>Accel Partners and Lightspeed Venture Partners</td>\n",
       "      <td>Seed</td>\n",
       "      <td>1,50,00,000</td>\n",
       "    </tr>\n",
       "    <tr>\n",
       "      <th>12</th>\n",
       "      <td>5</td>\n",
       "      <td>15/02/2021</td>\n",
       "      <td>KreditBee</td>\n",
       "      <td>Finance</td>\n",
       "      <td>Digital lending platform</td>\n",
       "      <td>Bengaluru</td>\n",
       "      <td>Azim Premji’s PremjiInvest and South Korea’s M...</td>\n",
       "      <td>Series C</td>\n",
       "      <td>75,000,000</td>\n",
       "    </tr>\n",
       "    <tr>\n",
       "      <th>13</th>\n",
       "      <td>6</td>\n",
       "      <td>12/02/2021</td>\n",
       "      <td>Pepperfry</td>\n",
       "      <td>E-commerce</td>\n",
       "      <td>Multi-brand furniture brand</td>\n",
       "      <td>Mumbai</td>\n",
       "      <td>InnoVen Capital</td>\n",
       "      <td>Debt Financing</td>\n",
       "      <td>4,773,958</td>\n",
       "    </tr>\n",
       "    <tr>\n",
       "      <th>14</th>\n",
       "      <td>7</td>\n",
       "      <td>12/02/2021</td>\n",
       "      <td>Grofers</td>\n",
       "      <td>E-Commerce</td>\n",
       "      <td>Online supermarket</td>\n",
       "      <td>Gurgaon</td>\n",
       "      <td>SoftBank Vision Fund (SVF)</td>\n",
       "      <td>Unspecified</td>\n",
       "      <td>55,000,000</td>\n",
       "    </tr>\n",
       "    <tr>\n",
       "      <th>15</th>\n",
       "      <td>8</td>\n",
       "      <td>09/02/2021</td>\n",
       "      <td>Nothing</td>\n",
       "      <td>Technology</td>\n",
       "      <td>Consumer Technology Venture</td>\n",
       "      <td>London</td>\n",
       "      <td>GV</td>\n",
       "      <td>Series A</td>\n",
       "      <td>15,000,000</td>\n",
       "    </tr>\n",
       "    <tr>\n",
       "      <th>16</th>\n",
       "      <td>9</td>\n",
       "      <td>09/02/2021</td>\n",
       "      <td>SplashLearn</td>\n",
       "      <td>EdTech</td>\n",
       "      <td>Game-based learning programme</td>\n",
       "      <td>Gurgaon</td>\n",
       "      <td>Owl Ventures</td>\n",
       "      <td>Series C</td>\n",
       "      <td>18,000,000</td>\n",
       "    </tr>\n",
       "    <tr>\n",
       "      <th>17</th>\n",
       "      <td>1</td>\n",
       "      <td>04/03/2021</td>\n",
       "      <td>DealShare</td>\n",
       "      <td>E-commerce</td>\n",
       "      <td>Online shopping platform</td>\n",
       "      <td>Jaipur, Rajasthan</td>\n",
       "      <td>Innoven Capital</td>\n",
       "      <td>Debt Financing</td>\n",
       "      <td>250,000,000</td>\n",
       "    </tr>\n",
       "    <tr>\n",
       "      <th>18</th>\n",
       "      <td>2</td>\n",
       "      <td>31/03/2021</td>\n",
       "      <td>Uniphore</td>\n",
       "      <td>Technology</td>\n",
       "      <td>Conversational Service Automation (CSA)</td>\n",
       "      <td>Palo Alto</td>\n",
       "      <td>Sorenson Capital Partners</td>\n",
       "      <td>Series D</td>\n",
       "      <td>140,000,000</td>\n",
       "    </tr>\n",
       "    <tr>\n",
       "      <th>19</th>\n",
       "      <td>3</td>\n",
       "      <td>30/03/2021</td>\n",
       "      <td>Dunzo</td>\n",
       "      <td>E-commerce</td>\n",
       "      <td>Hyper-local delivery app</td>\n",
       "      <td>Bengaluru</td>\n",
       "      <td>Krishtal Advisors Pte Ltd</td>\n",
       "      <td>Series E</td>\n",
       "      <td>8,000,000</td>\n",
       "    </tr>\n",
       "    <tr>\n",
       "      <th>20</th>\n",
       "      <td>4</td>\n",
       "      <td>30/03/2021</td>\n",
       "      <td>BYJU’S</td>\n",
       "      <td>Edu-tech</td>\n",
       "      <td>Online tutoring</td>\n",
       "      <td>Bengaluru</td>\n",
       "      <td>MC Global Edtech, B Capital, Baron, others</td>\n",
       "      <td>Series F</td>\n",
       "      <td>460,000,000</td>\n",
       "    </tr>\n",
       "    <tr>\n",
       "      <th>21</th>\n",
       "      <td>5</td>\n",
       "      <td>23/03/2021</td>\n",
       "      <td>SkilloVilla</td>\n",
       "      <td>Edu-tech</td>\n",
       "      <td>Career and job-oriented upskilling.</td>\n",
       "      <td>Bengaluru</td>\n",
       "      <td>Titan Capital, others</td>\n",
       "      <td>Seed</td>\n",
       "      <td>300,000,000</td>\n",
       "    </tr>\n",
       "    <tr>\n",
       "      <th>22</th>\n",
       "      <td>6</td>\n",
       "      <td>25/03/2021</td>\n",
       "      <td>CityMall</td>\n",
       "      <td>E-commerce</td>\n",
       "      <td>Social ecommerce and online grocery platform</td>\n",
       "      <td>Gurgaon</td>\n",
       "      <td>Accel Partners</td>\n",
       "      <td>Series A</td>\n",
       "      <td>11,000,000</td>\n",
       "    </tr>\n",
       "    <tr>\n",
       "      <th>23</th>\n",
       "      <td>7</td>\n",
       "      <td>26/03/2021</td>\n",
       "      <td>DotPe</td>\n",
       "      <td>FinTech</td>\n",
       "      <td>Commerce and payments platform to offline ente...</td>\n",
       "      <td>Gurgaon</td>\n",
       "      <td>PayU</td>\n",
       "      <td>Series A</td>\n",
       "      <td>27,500,000</td>\n",
       "    </tr>\n",
       "  </tbody>\n",
       "</table>\n",
       "</div>"
      ],
      "text/plain": [
       "   S.R        Date            Startup Name                Industry  \\\n",
       "0    1  15/01/2021         Digit Insurance      Financial Services   \n",
       "1    2  28/01/2021  Bombay Shaving Company  Consumer Goods Company   \n",
       "2    3  19/01/2021                  DeHaat        AgriTech Startup   \n",
       "3    4  19/01/2021               Darwinbox                    SaaS   \n",
       "4    5  18/01/2021                   mfine     Health Tech Startup   \n",
       "5    6  18/01/2021                   Udayy                  EdTech   \n",
       "6    7  11/01/2021           True Elements            Food Startup   \n",
       "7    8  13/01/2021                   Saveo          B2B E-commerce   \n",
       "8    1  11/02/2021                Doubtnut                Edu Tech   \n",
       "9    2  22/02/2021                  Zomato             Hospitality   \n",
       "10   3  19/02/2021               Fingerlix             Hospitality   \n",
       "11   4  17/02/2021                   Zolve                 FinTech   \n",
       "12   5  15/02/2021               KreditBee                 Finance   \n",
       "13   6  12/02/2021               Pepperfry              E-commerce   \n",
       "14   7  12/02/2021                 Grofers              E-Commerce   \n",
       "15   8  09/02/2021                 Nothing              Technology   \n",
       "16   9  09/02/2021             SplashLearn                  EdTech   \n",
       "17   1  04/03/2021               DealShare              E-commerce   \n",
       "18   2  31/03/2021                Uniphore              Technology   \n",
       "19   3  30/03/2021                   Dunzo              E-commerce   \n",
       "20   4  30/03/2021                  BYJU’S                Edu-tech   \n",
       "21   5  23/03/2021             SkilloVilla                Edu-tech   \n",
       "22   6  25/03/2021                CityMall              E-commerce   \n",
       "23   7  26/03/2021                   DotPe                 FinTech   \n",
       "\n",
       "                                         Sub Vertical               City  \\\n",
       "0                                  Insurance Services          Bengaluru   \n",
       "1       Shave care, beard care, and skincare products          New Delhi   \n",
       "2   online marketplace for farm products and services              Patna   \n",
       "3                                             HR Tech             Mumbai   \n",
       "4                  AI-powered telemedicine mobile app          Bengaluru   \n",
       "5      Online learning platform for kids in class 1-5            Gurgaon   \n",
       "6                       Whole Food plant based Nashta               Pune   \n",
       "7                                          Pharmacies          Bengaluru   \n",
       "8                                 E-Learning Platform            Gurgaon   \n",
       "9                       Online Food Delivery Platform            Gurgaon   \n",
       "10                      Semi-cooked food delivery app             Mumbai   \n",
       "11                             Global Neobank Venture             Mumbai   \n",
       "12                           Digital lending platform          Bengaluru   \n",
       "13                        Multi-brand furniture brand             Mumbai   \n",
       "14                                 Online supermarket            Gurgaon   \n",
       "15                        Consumer Technology Venture             London   \n",
       "16                      Game-based learning programme            Gurgaon   \n",
       "17                           Online shopping platform  Jaipur, Rajasthan   \n",
       "18            Conversational Service Automation (CSA)          Palo Alto   \n",
       "19                           Hyper-local delivery app          Bengaluru   \n",
       "20                                    Online tutoring          Bengaluru   \n",
       "21                Career and job-oriented upskilling.          Bengaluru   \n",
       "22       Social ecommerce and online grocery platform            Gurgaon   \n",
       "23  Commerce and payments platform to offline ente...            Gurgaon   \n",
       "\n",
       "                                       Investors Name Investment type  \\\n",
       "0    A91 Partners, Faering Capital, TVS Capital Funds         Venture   \n",
       "1                                   Reckitt Benckiser         Venture   \n",
       "2                                     Prosus Ventures        Series C   \n",
       "3                                 Salesforce Ventures            Seed   \n",
       "4                          Heritas Capital Management   Venture Round   \n",
       "5                                     Sequoia Capital    Seed Funding   \n",
       "6                               SIDBI Venture Capital          Series   \n",
       "7           Matrix Partners India, RTP Global, others            Seed   \n",
       "8   SIG Global, Sequoia Capital, WaterBridge Ventu...        Series B   \n",
       "9                                  Tiger Global, Kora         Venture   \n",
       "10           Rhodium Trust, Accel Partners and Swiggy        Series C   \n",
       "11     Accel Partners and Lightspeed Venture Partners            Seed   \n",
       "12  Azim Premji’s PremjiInvest and South Korea’s M...        Series C   \n",
       "13                                    InnoVen Capital  Debt Financing   \n",
       "14                         SoftBank Vision Fund (SVF)     Unspecified   \n",
       "15                                                 GV        Series A   \n",
       "16                                       Owl Ventures        Series C   \n",
       "17                                    Innoven Capital  Debt Financing   \n",
       "18                          Sorenson Capital Partners        Series D   \n",
       "19                          Krishtal Advisors Pte Ltd        Series E   \n",
       "20         MC Global Edtech, B Capital, Baron, others        Series F   \n",
       "21                              Titan Capital, others            Seed   \n",
       "22                                     Accel Partners        Series A   \n",
       "23                                               PayU        Series A   \n",
       "\n",
       "          Amount  \n",
       "0    1,80,00,000  \n",
       "1   6,172,258.50  \n",
       "2     30,000,000  \n",
       "3     15,000,000  \n",
       "4     16,000,000  \n",
       "5     15,000,000  \n",
       "6    100,000,000  \n",
       "7      4,000,000  \n",
       "8      2,500,000  \n",
       "9    250,000,000  \n",
       "10  2,747,045.20  \n",
       "11   1,50,00,000  \n",
       "12    75,000,000  \n",
       "13     4,773,958  \n",
       "14    55,000,000  \n",
       "15    15,000,000  \n",
       "16    18,000,000  \n",
       "17   250,000,000  \n",
       "18   140,000,000  \n",
       "19     8,000,000  \n",
       "20   460,000,000  \n",
       "21   300,000,000  \n",
       "22    11,000,000  \n",
       "23    27,500,000  "
      ]
     },
     "execution_count": 11,
     "metadata": {},
     "output_type": "execute_result"
    }
   ],
   "source": [
    "for i in range(54,57):\n",
    "    SN=driver.find_elements_by_xpath('//table[@id=\"tablepress-{}\"]/tbody/tr/td[1]'.format(i))\n",
    "    DATE= driver.find_elements_by_xpath('//table[@id=\"tablepress-{}\"]/tbody/tr/td[2]'.format(i))\n",
    "    STARTUP= driver.find_elements_by_xpath('//table[@id=\"tablepress-{}\"]/tbody/tr/td[3]'.format(i))\n",
    "    INDUSTRY=driver.find_elements_by_xpath('//table[@id=\"tablepress-{}\"]/tbody/tr/td[4]'.format(i))\n",
    "    VERTICAL=driver.find_elements_by_xpath('//table[@id=\"tablepress-{}\"]/tbody/tr/td[5]'.format(i))\n",
    "    CITY=driver.find_elements_by_xpath('//table[@id=\"tablepress-{}\"]/tbody/tr/td[6]'.format(i))\n",
    "    INVESTOR=driver.find_elements_by_xpath('//table[@id=\"tablepress-{}\"]/tbody/tr/td[7]'.format(i))\n",
    "    INVESTMENTTYPE=driver.find_elements_by_xpath('//table[@id=\"tablepress-{}\"]/tbody/tr/td[8]'.format(i))\n",
    "    AMOUNT=driver.find_elements_by_xpath('//table[@id=\"tablepress-{}\"]/tbody/tr/td[9]'.format(i))\n",
    "    \n",
    "    for i in SN:\n",
    "        sr.append(i.text)\n",
    "    for i in DATE:\n",
    "        date.append(i.text)\n",
    "    for i in STARTUP:\n",
    "        startup.append(i.text)\n",
    "    for i in INDUSTRY:\n",
    "        industry.append(i.text)\n",
    "    for i in VERTICAL:\n",
    "        vertical.append(i.text)\n",
    "    for i in CITY:\n",
    "        city.append(i.text)\n",
    "    for i in INVESTOR:\n",
    "        investor.append(i.text)\n",
    "    for i in INVESTMENTTYPE:\n",
    "        investment.append(i.text)\n",
    "    for i in AMOUNT:\n",
    "        amount.append(i.text)\n",
    "    \n",
    "data= pd.DataFrame({\"S.R\":sr,'Date':date,\"Startup Name\":startup,'Industry':industry,\"Sub Vertical\":vertical,\"City\":city,'Investors Name':investor,'Investment type':investment,'Amount':amount  })\n",
    "data  "
   ]
  },
  {
   "cell_type": "code",
   "execution_count": null,
   "id": "1bd836c5",
   "metadata": {},
   "outputs": [],
   "source": []
  },
  {
   "cell_type": "code",
   "execution_count": null,
   "id": "4c16426f",
   "metadata": {},
   "outputs": [],
   "source": []
  },
  {
   "cell_type": "code",
   "execution_count": null,
   "id": "bc51e3ec",
   "metadata": {},
   "outputs": [],
   "source": []
  },
  {
   "cell_type": "code",
   "execution_count": null,
   "id": "43c4e248",
   "metadata": {},
   "outputs": [],
   "source": []
  },
  {
   "cell_type": "code",
   "execution_count": 492,
   "id": "f9a7e23b",
   "metadata": {},
   "outputs": [],
   "source": [
    "\n"
   ]
  },
  {
   "cell_type": "code",
   "execution_count": null,
   "id": "eb65565e",
   "metadata": {},
   "outputs": [],
   "source": [
    "\n",
    "    "
   ]
  },
  {
   "cell_type": "code",
   "execution_count": null,
   "id": "6995d921",
   "metadata": {},
   "outputs": [],
   "source": []
  },
  {
   "cell_type": "code",
   "execution_count": null,
   "id": "8a54d8a3",
   "metadata": {},
   "outputs": [],
   "source": []
  },
  {
   "cell_type": "code",
   "execution_count": null,
   "id": "e432141d",
   "metadata": {},
   "outputs": [],
   "source": []
  },
  {
   "cell_type": "code",
   "execution_count": null,
   "id": "a05d6189",
   "metadata": {},
   "outputs": [],
   "source": []
  },
  {
   "cell_type": "code",
   "execution_count": null,
   "id": "44647876",
   "metadata": {},
   "outputs": [],
   "source": []
  },
  {
   "cell_type": "markdown",
   "id": "1e16ed3f",
   "metadata": {},
   "source": [
    "# 7. Write a program to scrap all the available details of best gaming laptops from digit.in."
   ]
  },
  {
   "cell_type": "code",
   "execution_count": 381,
   "id": "344270f4",
   "metadata": {},
   "outputs": [],
   "source": [
    "# lets connect to driver\n",
    "\n",
    "driver= webdriver.Chrome(r'C:\\Users\\Bank of America\\Downloads\\chromedriver_win32/chromedriver.exe')\n",
    "driver.maximize_window()\n",
    "\n",
    "url='https://www.digit.in/'\n",
    "driver.get(url)"
   ]
  },
  {
   "cell_type": "code",
   "execution_count": 382,
   "id": "9fcbd96b",
   "metadata": {},
   "outputs": [],
   "source": [
    "# search for Gaming Laptops\n",
    "driver.find_element_by_xpath('/html/body/div[1]/div/div[3]/div[2]/a/img').click()\n",
    "\n",
    "search_bar= driver.find_element_by_xpath('/html/body/div[2]/div[2]/div/div/input')\n",
    "search_bar.clear()\n",
    "search_bar.send_keys('Gaming Laptops','\\n')\n",
    "\n",
    "\n"
   ]
  },
  {
   "cell_type": "code",
   "execution_count": 383,
   "id": "d587b88c",
   "metadata": {},
   "outputs": [],
   "source": [
    "urls= driver.find_elements_by_xpath('//div[@class=\"searchPage\"]/a')"
   ]
  },
  {
   "cell_type": "code",
   "execution_count": 384,
   "id": "393d71a1",
   "metadata": {},
   "outputs": [],
   "source": [
    "url=[]\n",
    "for i in urls:\n",
    "    url.append(i.get_attribute('href'))"
   ]
  },
  {
   "cell_type": "code",
   "execution_count": 385,
   "id": "58ca5c68",
   "metadata": {},
   "outputs": [
    {
     "data": {
      "text/plain": [
       "['https://www.digit.in/laptops/asus-g750jx-cv069p-price-4426.html',\n",
       " 'https://www.digit.in/laptops/hp-envy-15-k006tx-price-4429.html',\n",
       " 'https://www.digit.in/laptops/asus-g53j-a-3d-gamer-s-delight-but-we-want-more-price-3465.html',\n",
       " 'https://www.digit.in/laptops/lenovo-ideapad-y570-price-2979.html',\n",
       " 'https://www.digit.in/laptops/asus-rog-flow-x13-price-229735.html',\n",
       " 'https://www.digit.in/audio-video/asus-rog-cetra-price-213419.html',\n",
       " 'https://www.digit.in/laptops/hp-pavilion-g6-multimedia-and-gaming-on-a-budget-price-3088.html',\n",
       " 'https://www.digit.in/laptops/asus-zephyrus-g15-ryzen-9-5900hs-2021-price-231905.html',\n",
       " 'https://www.digit.in/tvs/truvision-tx3271-price-69451.html',\n",
       " 'https://www.digit.in/laptops/lenovo-g50-30-price-6793.html']"
      ]
     },
     "execution_count": 385,
     "metadata": {},
     "output_type": "execute_result"
    }
   ],
   "source": [
    "url"
   ]
  },
  {
   "cell_type": "code",
   "execution_count": 386,
   "id": "35309fd8",
   "metadata": {},
   "outputs": [
    {
     "data": {
      "text/html": [
       "<div>\n",
       "<style scoped>\n",
       "    .dataframe tbody tr th:only-of-type {\n",
       "        vertical-align: middle;\n",
       "    }\n",
       "\n",
       "    .dataframe tbody tr th {\n",
       "        vertical-align: top;\n",
       "    }\n",
       "\n",
       "    .dataframe thead th {\n",
       "        text-align: right;\n",
       "    }\n",
       "</style>\n",
       "<table border=\"1\" class=\"dataframe\">\n",
       "  <thead>\n",
       "    <tr style=\"text-align: right;\">\n",
       "      <th></th>\n",
       "      <th>Product Name</th>\n",
       "      <th>Release Date</th>\n",
       "      <th>Price</th>\n",
       "    </tr>\n",
       "  </thead>\n",
       "  <tbody>\n",
       "    <tr>\n",
       "      <th>0</th>\n",
       "      <td>Asus G750JX-CV069P</td>\n",
       "      <td>14 Oct, 2014</td>\n",
       "      <td>149,999</td>\n",
       "    </tr>\n",
       "    <tr>\n",
       "      <th>1</th>\n",
       "      <td>HP Envy 15-k006tx</td>\n",
       "      <td>14 Oct, 2014</td>\n",
       "      <td>80,510</td>\n",
       "    </tr>\n",
       "    <tr>\n",
       "      <th>2</th>\n",
       "      <td>ASUS G53J - A 3D gamer's delight but we want more</td>\n",
       "      <td>13 Jan, 2011</td>\n",
       "      <td>112,499</td>\n",
       "    </tr>\n",
       "    <tr>\n",
       "      <th>3</th>\n",
       "      <td>Lenovo IdeaPad Y570</td>\n",
       "      <td>07 Feb, 2012</td>\n",
       "      <td>49,900</td>\n",
       "    </tr>\n",
       "    <tr>\n",
       "      <th>4</th>\n",
       "      <td>ASUS ROG Flow x13</td>\n",
       "      <td>05 May, 2021</td>\n",
       "      <td>154,990</td>\n",
       "    </tr>\n",
       "    <tr>\n",
       "      <th>5</th>\n",
       "      <td>ASUS ROG Cetra</td>\n",
       "      <td>22 Aug, 2020</td>\n",
       "      <td>7,699</td>\n",
       "    </tr>\n",
       "    <tr>\n",
       "      <th>6</th>\n",
       "      <td>HP Pavilion g6 - Multimedia and gaming on a bu...</td>\n",
       "      <td>04 May, 2011</td>\n",
       "      <td>45,000</td>\n",
       "    </tr>\n",
       "    <tr>\n",
       "      <th>7</th>\n",
       "      <td>ASUS Zephyrus G15 Ryzen 9 5900HS (2021)</td>\n",
       "      <td>26 May, 2021</td>\n",
       "      <td>137,990</td>\n",
       "    </tr>\n",
       "    <tr>\n",
       "      <th>8</th>\n",
       "      <td>Truvison TX3271</td>\n",
       "      <td>26 Oct, 2017</td>\n",
       "      <td>23,490</td>\n",
       "    </tr>\n",
       "    <tr>\n",
       "      <th>9</th>\n",
       "      <td>Lenovo G50-30</td>\n",
       "      <td>17 Mar, 2016</td>\n",
       "      <td>25,694</td>\n",
       "    </tr>\n",
       "  </tbody>\n",
       "</table>\n",
       "</div>"
      ],
      "text/plain": [
       "                                        Product Name   Release Date    Price\n",
       "0                                 Asus G750JX-CV069P   14 Oct, 2014  149,999\n",
       "1                                  HP Envy 15-k006tx   14 Oct, 2014   80,510\n",
       "2  ASUS G53J - A 3D gamer's delight but we want more   13 Jan, 2011  112,499\n",
       "3                                Lenovo IdeaPad Y570   07 Feb, 2012   49,900\n",
       "4                                  ASUS ROG Flow x13   05 May, 2021  154,990\n",
       "5                                     ASUS ROG Cetra   22 Aug, 2020    7,699\n",
       "6  HP Pavilion g6 - Multimedia and gaming on a bu...   04 May, 2011   45,000\n",
       "7            ASUS Zephyrus G15 Ryzen 9 5900HS (2021)   26 May, 2021  137,990\n",
       "8                                    Truvison TX3271   26 Oct, 2017   23,490\n",
       "9                                      Lenovo G50-30   17 Mar, 2016   25,694"
      ]
     },
     "execution_count": 386,
     "metadata": {},
     "output_type": "execute_result"
    }
   ],
   "source": [
    "Product_Name=[]\n",
    "product_date=[]\n",
    "product_price=[]\n",
    "\n",
    "for i in url:\n",
    "    driver.get(i)\n",
    "    name= driver.find_element_by_xpath('//div[@class=\"heading-wraper\"]/h1')\n",
    "    Product_Name.append(name.text)\n",
    "    date= driver.find_element_by_xpath('//div[@class=\"status_bar\"]/div[2]')\n",
    "    product_date.append(date.text.split(':')[1])\n",
    "    price= driver.find_element_by_xpath('//div[@class=\"price_sec\"]/div/h2')\n",
    "    product_price.append(price.text.split(':')[1].split(' ')[2])\n",
    "    \n",
    "    \n",
    "data=pd.DataFrame({'Product Name':Product_Name,'Release Date': product_date,'Price':product_price})\n",
    "data"
   ]
  },
  {
   "cell_type": "code",
   "execution_count": null,
   "id": "6a1c701e",
   "metadata": {},
   "outputs": [],
   "source": []
  },
  {
   "cell_type": "markdown",
   "id": "6826480c",
   "metadata": {},
   "source": [
    "# 8. Write a python program to scrape the details for all billionaires from www.forbes.com. Details to be scrapped: “Rank”, “Name”, “Net worth”, “Age”, “Citizenship”, “Source”, “Industry”."
   ]
  },
  {
   "cell_type": "code",
   "execution_count": 463,
   "id": "8670af44",
   "metadata": {},
   "outputs": [],
   "source": [
    "# lets connect to driver\n",
    "\n",
    "driver= webdriver.Chrome(r'C:\\Users\\Bank of America\\Downloads\\chromedriver_win32/chromedriver.exe')\n",
    "driver.maximize_window()\n",
    "\n",
    "url='https://www.forbes.com/billionaires/'\n",
    "driver.get(url)"
   ]
  },
  {
   "cell_type": "code",
   "execution_count": 464,
   "id": "cffb24f7",
   "metadata": {},
   "outputs": [],
   "source": [
    "rank=[]\n",
    "name=[]\n",
    "worth=[]\n",
    "age=[]\n",
    "country=[]\n",
    "source=[]\n",
    "industry=[]\n"
   ]
  },
  {
   "cell_type": "code",
   "execution_count": 465,
   "id": "bdbda832",
   "metadata": {},
   "outputs": [],
   "source": [
    "for i in range(0,13):\n",
    "    rank_tag=driver.find_elements_by_class_name('rank')\n",
    "    person_tag= driver.find_elements_by_class_name('personName')\n",
    "    worth_tag= driver.find_elements_by_class_name('netWorth')\n",
    "    age_tag=driver.find_elements_by_class_name('age')\n",
    "    country_tag= driver.find_elements_by_class_name('countryOfCitizenship')\n",
    "    source_tag= driver.find_elements_by_class_name('source')\n",
    "    industry_tag= driver.find_elements_by_class_name('category')\n",
    "    for i in rank_tag:\n",
    "        rank.append(i.text)\n",
    "    for i in person_tag:\n",
    "        name.append(i.text)\n",
    "    for i in worth_tag:\n",
    "        worth.append(i.text)\n",
    "    for i in age_tag:\n",
    "        age.append(i.text)\n",
    "    for i in country_tag:\n",
    "        country.append(i.text)\n",
    "    for i in source_tag:\n",
    "        source.append(i.text)\n",
    "    for i in industry_tag:\n",
    "        industry.append(i.text)\n",
    "        \n",
    "    next= driver.find_element_by_xpath('/html/body/div[1]/div[1]/div/div/div[3]/div[2]/div[2]/div[2]/div[27]/div[7]/div[2]/button[2]/div/i')\n",
    "    next.click()\n",
    "    "
   ]
  },
  {
   "cell_type": "code",
   "execution_count": 466,
   "id": "416e01bb",
   "metadata": {},
   "outputs": [
    {
     "data": {
      "text/html": [
       "<div>\n",
       "<style scoped>\n",
       "    .dataframe tbody tr th:only-of-type {\n",
       "        vertical-align: middle;\n",
       "    }\n",
       "\n",
       "    .dataframe tbody tr th {\n",
       "        vertical-align: top;\n",
       "    }\n",
       "\n",
       "    .dataframe thead th {\n",
       "        text-align: right;\n",
       "    }\n",
       "</style>\n",
       "<table border=\"1\" class=\"dataframe\">\n",
       "  <thead>\n",
       "    <tr style=\"text-align: right;\">\n",
       "      <th></th>\n",
       "      <th>Rank</th>\n",
       "      <th>Name</th>\n",
       "      <th>Net Worth</th>\n",
       "      <th>Age</th>\n",
       "      <th>Country</th>\n",
       "      <th>Source</th>\n",
       "      <th>industry</th>\n",
       "    </tr>\n",
       "  </thead>\n",
       "  <tbody>\n",
       "    <tr>\n",
       "      <th>0</th>\n",
       "      <td>1.</td>\n",
       "      <td>Jeff Bezos</td>\n",
       "      <td>$177 B</td>\n",
       "      <td>57</td>\n",
       "      <td>United States</td>\n",
       "      <td>Amazon</td>\n",
       "      <td>Technology</td>\n",
       "    </tr>\n",
       "    <tr>\n",
       "      <th>1</th>\n",
       "      <td>2.</td>\n",
       "      <td>Elon Musk</td>\n",
       "      <td>$151 B</td>\n",
       "      <td>49</td>\n",
       "      <td>United States</td>\n",
       "      <td>Tesla, SpaceX</td>\n",
       "      <td>Automotive</td>\n",
       "    </tr>\n",
       "    <tr>\n",
       "      <th>2</th>\n",
       "      <td>3.</td>\n",
       "      <td>Bernard Arnault &amp; family</td>\n",
       "      <td>$150 B</td>\n",
       "      <td>72</td>\n",
       "      <td>France</td>\n",
       "      <td>LVMH</td>\n",
       "      <td>Fashion &amp; Retail</td>\n",
       "    </tr>\n",
       "    <tr>\n",
       "      <th>3</th>\n",
       "      <td>4.</td>\n",
       "      <td>Bill Gates</td>\n",
       "      <td>$124 B</td>\n",
       "      <td>65</td>\n",
       "      <td>United States</td>\n",
       "      <td>Microsoft</td>\n",
       "      <td>Technology</td>\n",
       "    </tr>\n",
       "    <tr>\n",
       "      <th>4</th>\n",
       "      <td>5.</td>\n",
       "      <td>Mark Zuckerberg</td>\n",
       "      <td>$97 B</td>\n",
       "      <td>36</td>\n",
       "      <td>United States</td>\n",
       "      <td>Facebook</td>\n",
       "      <td>Technology</td>\n",
       "    </tr>\n",
       "    <tr>\n",
       "      <th>...</th>\n",
       "      <td>...</td>\n",
       "      <td>...</td>\n",
       "      <td>...</td>\n",
       "      <td>...</td>\n",
       "      <td>...</td>\n",
       "      <td>...</td>\n",
       "      <td>...</td>\n",
       "    </tr>\n",
       "    <tr>\n",
       "      <th>2607</th>\n",
       "      <td>2524.</td>\n",
       "      <td>Low Tuck Kwong</td>\n",
       "      <td>$1.1 B</td>\n",
       "      <td>72</td>\n",
       "      <td>Indonesia</td>\n",
       "      <td>coal</td>\n",
       "      <td>Energy</td>\n",
       "    </tr>\n",
       "    <tr>\n",
       "      <th>2608</th>\n",
       "      <td>2524.</td>\n",
       "      <td>Lu Weiding</td>\n",
       "      <td>$1.1 B</td>\n",
       "      <td>50</td>\n",
       "      <td>China</td>\n",
       "      <td>diversified</td>\n",
       "      <td>Diversified</td>\n",
       "    </tr>\n",
       "    <tr>\n",
       "      <th>2609</th>\n",
       "      <td>2524.</td>\n",
       "      <td>Lv Yongxiang</td>\n",
       "      <td>$1.1 B</td>\n",
       "      <td>71</td>\n",
       "      <td>China</td>\n",
       "      <td>magnetic switches</td>\n",
       "      <td>Manufacturing</td>\n",
       "    </tr>\n",
       "    <tr>\n",
       "      <th>2610</th>\n",
       "      <td>2524.</td>\n",
       "      <td>Cargill MacMillan, III.</td>\n",
       "      <td>$1.1 B</td>\n",
       "      <td>61</td>\n",
       "      <td>United States</td>\n",
       "      <td>Cargill</td>\n",
       "      <td>Food &amp; Beverage</td>\n",
       "    </tr>\n",
       "    <tr>\n",
       "      <th>2611</th>\n",
       "      <td>2524.</td>\n",
       "      <td>John MacMillan</td>\n",
       "      <td>$1.1 B</td>\n",
       "      <td>71</td>\n",
       "      <td>United States</td>\n",
       "      <td>Cargill</td>\n",
       "      <td>Food &amp; Beverage</td>\n",
       "    </tr>\n",
       "  </tbody>\n",
       "</table>\n",
       "<p>2612 rows × 7 columns</p>\n",
       "</div>"
      ],
      "text/plain": [
       "       Rank                      Name Net Worth Age        Country  \\\n",
       "0        1.                Jeff Bezos    $177 B  57  United States   \n",
       "1        2.                 Elon Musk    $151 B  49  United States   \n",
       "2        3.  Bernard Arnault & family    $150 B  72         France   \n",
       "3        4.                Bill Gates    $124 B  65  United States   \n",
       "4        5.           Mark Zuckerberg     $97 B  36  United States   \n",
       "...     ...                       ...       ...  ..            ...   \n",
       "2607  2524.            Low Tuck Kwong    $1.1 B  72      Indonesia   \n",
       "2608  2524.                Lu Weiding    $1.1 B  50          China   \n",
       "2609  2524.              Lv Yongxiang    $1.1 B  71          China   \n",
       "2610  2524.   Cargill MacMillan, III.    $1.1 B  61  United States   \n",
       "2611  2524.            John MacMillan    $1.1 B  71  United States   \n",
       "\n",
       "                 Source          industry  \n",
       "0                Amazon        Technology  \n",
       "1         Tesla, SpaceX        Automotive  \n",
       "2                  LVMH  Fashion & Retail  \n",
       "3             Microsoft        Technology  \n",
       "4              Facebook        Technology  \n",
       "...                 ...               ...  \n",
       "2607               coal            Energy  \n",
       "2608        diversified       Diversified  \n",
       "2609  magnetic switches     Manufacturing  \n",
       "2610            Cargill   Food & Beverage  \n",
       "2611            Cargill   Food & Beverage  \n",
       "\n",
       "[2612 rows x 7 columns]"
      ]
     },
     "execution_count": 466,
     "metadata": {},
     "output_type": "execute_result"
    }
   ],
   "source": [
    "data= pd.DataFrame({'Rank':rank[1:],'Name':name[1:],'Net Worth':worth[1:],'Age':age[1:],'Country':country[1:],\"Source\":source[1:],'industry':industry[1:]})\n",
    "\n",
    "data"
   ]
  },
  {
   "cell_type": "code",
   "execution_count": null,
   "id": "9bc3ee9d",
   "metadata": {},
   "outputs": [],
   "source": []
  },
  {
   "cell_type": "code",
   "execution_count": null,
   "id": "2a8c67d7",
   "metadata": {},
   "outputs": [],
   "source": []
  },
  {
   "cell_type": "code",
   "execution_count": null,
   "id": "831efbf2",
   "metadata": {},
   "outputs": [],
   "source": []
  },
  {
   "cell_type": "markdown",
   "id": "97ea88be",
   "metadata": {},
   "source": [
    "# 9. Write a program to extract at least 500 Comments, Comment upvote and time when comment was posted from any YouTube Video"
   ]
  },
  {
   "cell_type": "code",
   "execution_count": 572,
   "id": "afe23231",
   "metadata": {},
   "outputs": [
    {
     "ename": "AttributeError",
     "evalue": "'list' object has no attribute 'sleep'",
     "output_type": "error",
     "traceback": [
      "\u001b[1;31m---------------------------------------------------------------------------\u001b[0m",
      "\u001b[1;31mAttributeError\u001b[0m                            Traceback (most recent call last)",
      "\u001b[1;32mC:\\Users\\BANKOF~1\\AppData\\Local\\Temp/ipykernel_244/1844755038.py\u001b[0m in \u001b[0;36m<module>\u001b[1;34m\u001b[0m\n\u001b[0;32m      7\u001b[0m \u001b[1;33m\u001b[0m\u001b[0m\n\u001b[0;32m      8\u001b[0m \u001b[0mdriver\u001b[0m\u001b[1;33m.\u001b[0m\u001b[0mget\u001b[0m\u001b[1;33m(\u001b[0m\u001b[0murl\u001b[0m\u001b[1;33m)\u001b[0m\u001b[1;33m\u001b[0m\u001b[1;33m\u001b[0m\u001b[0m\n\u001b[1;32m----> 9\u001b[1;33m \u001b[0mtime\u001b[0m\u001b[1;33m.\u001b[0m\u001b[0msleep\u001b[0m\u001b[1;33m(\u001b[0m\u001b[1;36m4\u001b[0m\u001b[1;33m)\u001b[0m\u001b[1;33m\u001b[0m\u001b[1;33m\u001b[0m\u001b[0m\n\u001b[0m",
      "\u001b[1;31mAttributeError\u001b[0m: 'list' object has no attribute 'sleep'"
     ]
    }
   ],
   "source": [
    "# lets connect to driver\n",
    "\n",
    "driver= webdriver.Chrome(r'C:\\Users\\Bank of America\\Downloads\\chromedriver_win32/chromedriver.exe')\n",
    "driver.maximize_window()\n",
    "\n",
    "url='https://www.youtube.com/watch?v=CaZm5QRhJVA'\n",
    "\n",
    "driver.get(url)\n",
    "#time.sleep(4)"
   ]
  },
  {
   "cell_type": "markdown",
   "id": "a8b9f6d9",
   "metadata": {},
   "source": [
    "# Scroll down will load more data, so scrolled many times to get 5oo"
   ]
  },
  {
   "cell_type": "markdown",
   "id": "b02374e3",
   "metadata": {},
   "source": [
    "# Time()"
   ]
  },
  {
   "cell_type": "code",
   "execution_count": 618,
   "id": "fb6081d2",
   "metadata": {},
   "outputs": [],
   "source": [
    "time= driver.find_elements_by_id(\"header-author\")"
   ]
  },
  {
   "cell_type": "code",
   "execution_count": 619,
   "id": "649bdc67",
   "metadata": {},
   "outputs": [],
   "source": [
    "t=[]\n",
    "for i in time:\n",
    "    t.append(i.text.split('\\n')[1])"
   ]
  },
  {
   "cell_type": "code",
   "execution_count": 620,
   "id": "82b3b34d",
   "metadata": {},
   "outputs": [
    {
     "data": {
      "text/plain": [
       "620"
      ]
     },
     "execution_count": 620,
     "metadata": {},
     "output_type": "execute_result"
    }
   ],
   "source": [
    "len(t)"
   ]
  },
  {
   "cell_type": "markdown",
   "id": "41b975eb",
   "metadata": {},
   "source": [
    "# Comment()"
   ]
  },
  {
   "cell_type": "code",
   "execution_count": 621,
   "id": "cb563f13",
   "metadata": {},
   "outputs": [],
   "source": [
    "data= driver.find_elements_by_id(\"content-text\")"
   ]
  },
  {
   "cell_type": "code",
   "execution_count": 622,
   "id": "17abe44a",
   "metadata": {},
   "outputs": [],
   "source": [
    "d=[]\n",
    "for i in data:\n",
    "    d.append(i.text)"
   ]
  },
  {
   "cell_type": "code",
   "execution_count": 623,
   "id": "e1c8af4c",
   "metadata": {},
   "outputs": [
    {
     "data": {
      "text/plain": [
       "620"
      ]
     },
     "execution_count": 623,
     "metadata": {},
     "output_type": "execute_result"
    }
   ],
   "source": [
    "len(d)"
   ]
  },
  {
   "cell_type": "markdown",
   "id": "7dd8b468",
   "metadata": {},
   "source": [
    "# Upvote()"
   ]
  },
  {
   "cell_type": "code",
   "execution_count": 624,
   "id": "42cb6c4e",
   "metadata": {},
   "outputs": [],
   "source": [
    "upvote= driver.find_elements_by_id(\"vote-count-middle\")"
   ]
  },
  {
   "cell_type": "code",
   "execution_count": 625,
   "id": "a46ce7c9",
   "metadata": {},
   "outputs": [],
   "source": [
    "v=[]\n",
    "for i in upvote:\n",
    "    v.append(i.text)"
   ]
  },
  {
   "cell_type": "code",
   "execution_count": 626,
   "id": "c3438715",
   "metadata": {},
   "outputs": [
    {
     "data": {
      "text/plain": [
       "620"
      ]
     },
     "execution_count": 626,
     "metadata": {},
     "output_type": "execute_result"
    }
   ],
   "source": [
    "len(v)"
   ]
  },
  {
   "cell_type": "code",
   "execution_count": 627,
   "id": "5a091fee",
   "metadata": {},
   "outputs": [],
   "source": [
    "data= pd.DataFrame({'Comment':d,'Time':t,'UpVote':v})\n",
    "data.index +=1"
   ]
  },
  {
   "cell_type": "code",
   "execution_count": 628,
   "id": "bc083519",
   "metadata": {},
   "outputs": [
    {
     "data": {
      "text/html": [
       "<div>\n",
       "<style scoped>\n",
       "    .dataframe tbody tr th:only-of-type {\n",
       "        vertical-align: middle;\n",
       "    }\n",
       "\n",
       "    .dataframe tbody tr th {\n",
       "        vertical-align: top;\n",
       "    }\n",
       "\n",
       "    .dataframe thead th {\n",
       "        text-align: right;\n",
       "    }\n",
       "</style>\n",
       "<table border=\"1\" class=\"dataframe\">\n",
       "  <thead>\n",
       "    <tr style=\"text-align: right;\">\n",
       "      <th></th>\n",
       "      <th>Comment</th>\n",
       "      <th>Time</th>\n",
       "      <th>UpVote</th>\n",
       "    </tr>\n",
       "  </thead>\n",
       "  <tbody>\n",
       "    <tr>\n",
       "      <th>1</th>\n",
       "      <td>This List Only Official Indian Songs</td>\n",
       "      <td>1 year ago</td>\n",
       "      <td>664</td>\n",
       "    </tr>\n",
       "    <tr>\n",
       "      <th>2</th>\n",
       "      <td>Lets appreciate Haryanvi , Punjabi , Bhojpuri ...</td>\n",
       "      <td>1 year ago (edited)</td>\n",
       "      <td>89</td>\n",
       "    </tr>\n",
       "    <tr>\n",
       "      <th>3</th>\n",
       "      <td>Khairiyat ❤️❤️❤️ mind blowing</td>\n",
       "      <td>1 year ago (edited)</td>\n",
       "      <td>66</td>\n",
       "    </tr>\n",
       "    <tr>\n",
       "      <th>4</th>\n",
       "      <td>How many fan of SSR and  Khairiyat song\\nWho i...</td>\n",
       "      <td>1 year ago</td>\n",
       "      <td>710</td>\n",
       "    </tr>\n",
       "    <tr>\n",
       "      <th>5</th>\n",
       "      <td>Music Styles is my Favourite. Anyone else's ❤️...</td>\n",
       "      <td>1 year ago</td>\n",
       "      <td>255</td>\n",
       "    </tr>\n",
       "    <tr>\n",
       "      <th>...</th>\n",
       "      <td>...</td>\n",
       "      <td>...</td>\n",
       "      <td>...</td>\n",
       "    </tr>\n",
       "    <tr>\n",
       "      <th>616</th>\n",
       "      <td>Most of songs are is tseries</td>\n",
       "      <td>1 year ago</td>\n",
       "      <td></td>\n",
       "    </tr>\n",
       "    <tr>\n",
       "      <th>617</th>\n",
       "      <td>fist</td>\n",
       "      <td>1 year ago</td>\n",
       "      <td>1</td>\n",
       "    </tr>\n",
       "    <tr>\n",
       "      <th>618</th>\n",
       "      <td>994th view</td>\n",
       "      <td>1 year ago</td>\n",
       "      <td>1</td>\n",
       "    </tr>\n",
       "    <tr>\n",
       "      <th>619</th>\n",
       "      <td>52 gaj ka daman</td>\n",
       "      <td>1 year ago</td>\n",
       "      <td></td>\n",
       "    </tr>\n",
       "    <tr>\n",
       "      <th>620</th>\n",
       "      <td>3rd view</td>\n",
       "      <td>1 year ago</td>\n",
       "      <td></td>\n",
       "    </tr>\n",
       "  </tbody>\n",
       "</table>\n",
       "<p>620 rows × 3 columns</p>\n",
       "</div>"
      ],
      "text/plain": [
       "                                               Comment                 Time  \\\n",
       "1                 This List Only Official Indian Songs           1 year ago   \n",
       "2    Lets appreciate Haryanvi , Punjabi , Bhojpuri ...  1 year ago (edited)   \n",
       "3                        Khairiyat ❤️❤️❤️ mind blowing  1 year ago (edited)   \n",
       "4    How many fan of SSR and  Khairiyat song\\nWho i...           1 year ago   \n",
       "5    Music Styles is my Favourite. Anyone else's ❤️...           1 year ago   \n",
       "..                                                 ...                  ...   \n",
       "616                       Most of songs are is tseries           1 year ago   \n",
       "617                                               fist           1 year ago   \n",
       "618                                         994th view           1 year ago   \n",
       "619                                    52 gaj ka daman           1 year ago   \n",
       "620                                           3rd view           1 year ago   \n",
       "\n",
       "    UpVote  \n",
       "1      664  \n",
       "2       89  \n",
       "3       66  \n",
       "4      710  \n",
       "5      255  \n",
       "..     ...  \n",
       "616         \n",
       "617      1  \n",
       "618      1  \n",
       "619         \n",
       "620         \n",
       "\n",
       "[620 rows x 3 columns]"
      ]
     },
     "execution_count": 628,
     "metadata": {},
     "output_type": "execute_result"
    }
   ],
   "source": [
    "data"
   ]
  },
  {
   "cell_type": "code",
   "execution_count": null,
   "id": "ced070f8",
   "metadata": {},
   "outputs": [],
   "source": []
  },
  {
   "cell_type": "markdown",
   "id": "516da1f7",
   "metadata": {},
   "source": [
    "# 10. Write a python program to scrape a data for all available Hostels from https://www.hostelworld.com/ in “London” location. You have to scrape hostel name, distance from city centre, ratings, total reviews, overall reviews, privates from price, dorms from price, facilities and property description"
   ]
  },
  {
   "cell_type": "code",
   "execution_count": 101,
   "id": "1eb5888b",
   "metadata": {},
   "outputs": [],
   "source": [
    "# lets connect to driver\n",
    "\n",
    "driver= webdriver.Chrome(r'C:\\Users\\Bank of America\\Downloads\\chromedriver_win32/chromedriver.exe')\n",
    "driver.maximize_window()\n",
    "\n",
    "url='https://www.hostelworld.com/'\n",
    "\n",
    "driver.get(url)"
   ]
  },
  {
   "cell_type": "code",
   "execution_count": 105,
   "id": "199222b8",
   "metadata": {},
   "outputs": [],
   "source": [
    "# Enter Location\n",
    "\n",
    "search_bar= driver.find_element_by_xpath('/html/body/div[3]/div/div/div[1]/div[2]/div/div[2]/div[4]/div/div[2]/div/div[1]/div/div/div/input')\n"
   ]
  },
  {
   "cell_type": "code",
   "execution_count": 106,
   "id": "68a5b39b",
   "metadata": {},
   "outputs": [],
   "source": [
    "search_bar.send_keys('London')"
   ]
  },
  {
   "cell_type": "code",
   "execution_count": null,
   "id": "1800adf7",
   "metadata": {},
   "outputs": [],
   "source": []
  },
  {
   "cell_type": "code",
   "execution_count": 107,
   "id": "7701bcb9",
   "metadata": {},
   "outputs": [],
   "source": [
    "clk= driver.find_element_by_xpath('/html/body/div[3]/div/div/div[1]/div[2]/div/div[2]/div[4]/div/div[2]/div/div[1]/div/div/ul/li[2]/div')\n",
    "clk.click()"
   ]
  },
  {
   "cell_type": "code",
   "execution_count": 108,
   "id": "1e4eaf38",
   "metadata": {},
   "outputs": [],
   "source": [
    "lets_go= driver.find_element_by_xpath('/html/body/div[3]/div/div/div[1]/div[2]/div/div[2]/div[4]/div/div[2]/div/div[5]/button')\n",
    "lets_go.click()"
   ]
  },
  {
   "cell_type": "code",
   "execution_count": null,
   "id": "63e4b449",
   "metadata": {},
   "outputs": [],
   "source": []
  },
  {
   "cell_type": "code",
   "execution_count": 109,
   "id": "2220fef5",
   "metadata": {},
   "outputs": [],
   "source": [
    "NAME= driver.find_elements_by_xpath('//h2[@class=\"title title-6\"]')"
   ]
  },
  {
   "cell_type": "code",
   "execution_count": 110,
   "id": "2099ecbf",
   "metadata": {},
   "outputs": [],
   "source": [
    "name=[]\n",
    "for i in NAME:\n",
    "    name.append(i.text)"
   ]
  },
  {
   "cell_type": "code",
   "execution_count": 111,
   "id": "1617b5a2",
   "metadata": {},
   "outputs": [
    {
     "data": {
      "text/plain": [
       "30"
      ]
     },
     "execution_count": 111,
     "metadata": {},
     "output_type": "execute_result"
    }
   ],
   "source": [
    "len(name)"
   ]
  },
  {
   "cell_type": "code",
   "execution_count": null,
   "id": "e07e9722",
   "metadata": {},
   "outputs": [],
   "source": []
  },
  {
   "cell_type": "code",
   "execution_count": 112,
   "id": "f07cfe16",
   "metadata": {},
   "outputs": [],
   "source": [
    "DISTANCE= driver.find_elements_by_xpath('//span[@class=\"description\"]')"
   ]
  },
  {
   "cell_type": "code",
   "execution_count": 113,
   "id": "d9a368fa",
   "metadata": {},
   "outputs": [],
   "source": [
    "distance=[]\n",
    "for i in DISTANCE:\n",
    "    distance.append(i.text.split('-')[1].strip())"
   ]
  },
  {
   "cell_type": "code",
   "execution_count": 114,
   "id": "7d1c2fdc",
   "metadata": {},
   "outputs": [
    {
     "data": {
      "text/plain": [
       "30"
      ]
     },
     "execution_count": 114,
     "metadata": {},
     "output_type": "execute_result"
    }
   ],
   "source": [
    "len(distance)"
   ]
  },
  {
   "cell_type": "code",
   "execution_count": 115,
   "id": "e6254f81",
   "metadata": {},
   "outputs": [],
   "source": [
    "try:\n",
    "    RATING= driver.find_elements_by_xpath('//div[@class=\"score orange big\" or @class=\"score gray big\"]')\n",
    "    \n",
    "except NoSuchElementException:\n",
    "    RATING.append(None)"
   ]
  },
  {
   "cell_type": "code",
   "execution_count": 116,
   "id": "9bdf8c39",
   "metadata": {},
   "outputs": [],
   "source": [
    "rating=[]\n",
    "for i in RATING:\n",
    "    rating.append(i.text)"
   ]
  },
  {
   "cell_type": "code",
   "execution_count": 117,
   "id": "1d96f5d2",
   "metadata": {},
   "outputs": [
    {
     "data": {
      "text/plain": [
       "30"
      ]
     },
     "execution_count": 117,
     "metadata": {},
     "output_type": "execute_result"
    }
   ],
   "source": [
    "len(rating)"
   ]
  },
  {
   "cell_type": "code",
   "execution_count": 118,
   "id": "e2d85533",
   "metadata": {},
   "outputs": [
    {
     "data": {
      "text/html": [
       "<div>\n",
       "<style scoped>\n",
       "    .dataframe tbody tr th:only-of-type {\n",
       "        vertical-align: middle;\n",
       "    }\n",
       "\n",
       "    .dataframe tbody tr th {\n",
       "        vertical-align: top;\n",
       "    }\n",
       "\n",
       "    .dataframe thead th {\n",
       "        text-align: right;\n",
       "    }\n",
       "</style>\n",
       "<table border=\"1\" class=\"dataframe\">\n",
       "  <thead>\n",
       "    <tr style=\"text-align: right;\">\n",
       "      <th></th>\n",
       "      <th>Name</th>\n",
       "      <th>Distance</th>\n",
       "      <th>Rating</th>\n",
       "    </tr>\n",
       "  </thead>\n",
       "  <tbody>\n",
       "    <tr>\n",
       "      <th>0</th>\n",
       "      <td>St Christopher's Village</td>\n",
       "      <td>1.8km from city centre</td>\n",
       "      <td>8.0</td>\n",
       "    </tr>\n",
       "    <tr>\n",
       "      <th>1</th>\n",
       "      <td>Safestay London Elephant &amp; Castle</td>\n",
       "      <td>1.7km from city centre</td>\n",
       "      <td>7.7</td>\n",
       "    </tr>\n",
       "    <tr>\n",
       "      <th>2</th>\n",
       "      <td>Generator London</td>\n",
       "      <td>3km from city centre</td>\n",
       "      <td>7.8</td>\n",
       "    </tr>\n",
       "    <tr>\n",
       "      <th>3</th>\n",
       "      <td>Urbany Hostel London</td>\n",
       "      <td>5.4km from city centre</td>\n",
       "      <td>9.6</td>\n",
       "    </tr>\n",
       "    <tr>\n",
       "      <th>4</th>\n",
       "      <td>Smart Camden Inn Hostel</td>\n",
       "      <td>4.4km from city centre</td>\n",
       "      <td>8.5</td>\n",
       "    </tr>\n",
       "    <tr>\n",
       "      <th>5</th>\n",
       "      <td>London Backpackers</td>\n",
       "      <td>11.9km from city centre</td>\n",
       "      <td>8.2</td>\n",
       "    </tr>\n",
       "    <tr>\n",
       "      <th>6</th>\n",
       "      <td>Smart Russell Square Hostel</td>\n",
       "      <td>2.6km from city centre</td>\n",
       "      <td>6.8</td>\n",
       "    </tr>\n",
       "    <tr>\n",
       "      <th>7</th>\n",
       "      <td>YHA London Oxford Street</td>\n",
       "      <td>2.1km from city centre</td>\n",
       "      <td>9.7</td>\n",
       "    </tr>\n",
       "    <tr>\n",
       "      <th>8</th>\n",
       "      <td>Safestay London Kensington Holland Park</td>\n",
       "      <td>5.9km from city centre</td>\n",
       "      <td>7.6</td>\n",
       "    </tr>\n",
       "    <tr>\n",
       "      <th>9</th>\n",
       "      <td>Smart Hyde Park View Hostel</td>\n",
       "      <td>5km from city centre</td>\n",
       "      <td>7.9</td>\n",
       "    </tr>\n",
       "    <tr>\n",
       "      <th>10</th>\n",
       "      <td>St Christopher's Inn - London Bridge</td>\n",
       "      <td>1.8km from city centre</td>\n",
       "      <td>8.2</td>\n",
       "    </tr>\n",
       "    <tr>\n",
       "      <th>11</th>\n",
       "      <td>Wombat's City Hostel London</td>\n",
       "      <td>3.6km from city centre</td>\n",
       "      <td>8.9</td>\n",
       "    </tr>\n",
       "    <tr>\n",
       "      <th>12</th>\n",
       "      <td>Queen Elizabeth Chelsea</td>\n",
       "      <td>5.7km from city centre</td>\n",
       "      <td>7.5</td>\n",
       "    </tr>\n",
       "    <tr>\n",
       "      <th>13</th>\n",
       "      <td>Phoenix Hostel</td>\n",
       "      <td>4.2km from city centre</td>\n",
       "      <td>7.9</td>\n",
       "    </tr>\n",
       "    <tr>\n",
       "      <th>14</th>\n",
       "      <td>New Cross Inn Hostel</td>\n",
       "      <td>6.1km from city centre</td>\n",
       "      <td>7.1</td>\n",
       "    </tr>\n",
       "    <tr>\n",
       "      <th>15</th>\n",
       "      <td>Smart Hyde Park Inn Hostel</td>\n",
       "      <td>5km from city centre</td>\n",
       "      <td>6.8</td>\n",
       "    </tr>\n",
       "    <tr>\n",
       "      <th>16</th>\n",
       "      <td>PubLove @ The White Ferry, Victoria</td>\n",
       "      <td>2.4km from city centre</td>\n",
       "      <td>8.4</td>\n",
       "    </tr>\n",
       "    <tr>\n",
       "      <th>17</th>\n",
       "      <td>St Christopher's Hammersmith</td>\n",
       "      <td>7.5km from city centre</td>\n",
       "      <td>8.0</td>\n",
       "    </tr>\n",
       "    <tr>\n",
       "      <th>18</th>\n",
       "      <td>St Christopher's Camden</td>\n",
       "      <td>4.3km from city centre</td>\n",
       "      <td>7.7</td>\n",
       "    </tr>\n",
       "    <tr>\n",
       "      <th>19</th>\n",
       "      <td>YHA London Central</td>\n",
       "      <td>2.9km from city centre</td>\n",
       "      <td>9.0</td>\n",
       "    </tr>\n",
       "    <tr>\n",
       "      <th>20</th>\n",
       "      <td>St Christopher's Shepherds Bush</td>\n",
       "      <td>7km from city centre</td>\n",
       "      <td>7.7</td>\n",
       "    </tr>\n",
       "    <tr>\n",
       "      <th>21</th>\n",
       "      <td>Hostel One Notting Hill</td>\n",
       "      <td>5.5km from city centre</td>\n",
       "      <td>8.1</td>\n",
       "    </tr>\n",
       "    <tr>\n",
       "      <th>22</th>\n",
       "      <td>St Christopher's Greenwich</td>\n",
       "      <td>7.6km from city centre</td>\n",
       "      <td>7.5</td>\n",
       "    </tr>\n",
       "    <tr>\n",
       "      <th>23</th>\n",
       "      <td>Selina Camden</td>\n",
       "      <td>5.5km from city centre</td>\n",
       "      <td>9.2</td>\n",
       "    </tr>\n",
       "    <tr>\n",
       "      <th>24</th>\n",
       "      <td>Abercorn House</td>\n",
       "      <td>7.3km from city centre</td>\n",
       "      <td>6.5</td>\n",
       "    </tr>\n",
       "    <tr>\n",
       "      <th>25</th>\n",
       "      <td>PubLove @ The Crown, Battersea</td>\n",
       "      <td>4.7km from city centre</td>\n",
       "      <td>7.7</td>\n",
       "    </tr>\n",
       "    <tr>\n",
       "      <th>26</th>\n",
       "      <td>PubLove @ The Exmouth Arms, Euston</td>\n",
       "      <td>3.4km from city centre</td>\n",
       "      <td>7.5</td>\n",
       "    </tr>\n",
       "    <tr>\n",
       "      <th>27</th>\n",
       "      <td>Kensal Green Backpackers</td>\n",
       "      <td>8.2km from city centre</td>\n",
       "      <td>6.1</td>\n",
       "    </tr>\n",
       "    <tr>\n",
       "      <th>28</th>\n",
       "      <td>Park Villa</td>\n",
       "      <td>6.3km from city centre</td>\n",
       "      <td>8.4</td>\n",
       "    </tr>\n",
       "    <tr>\n",
       "      <th>29</th>\n",
       "      <td>PubLove @ The Green Man, Paddington</td>\n",
       "      <td>4.3km from city centre</td>\n",
       "      <td>7.5</td>\n",
       "    </tr>\n",
       "  </tbody>\n",
       "</table>\n",
       "</div>"
      ],
      "text/plain": [
       "                                       Name                 Distance Rating\n",
       "0                  St Christopher's Village   1.8km from city centre    8.0\n",
       "1         Safestay London Elephant & Castle   1.7km from city centre    7.7\n",
       "2                          Generator London     3km from city centre    7.8\n",
       "3                      Urbany Hostel London   5.4km from city centre    9.6\n",
       "4                   Smart Camden Inn Hostel   4.4km from city centre    8.5\n",
       "5                        London Backpackers  11.9km from city centre    8.2\n",
       "6               Smart Russell Square Hostel   2.6km from city centre    6.8\n",
       "7                  YHA London Oxford Street   2.1km from city centre    9.7\n",
       "8   Safestay London Kensington Holland Park   5.9km from city centre    7.6\n",
       "9               Smart Hyde Park View Hostel     5km from city centre    7.9\n",
       "10     St Christopher's Inn - London Bridge   1.8km from city centre    8.2\n",
       "11              Wombat's City Hostel London   3.6km from city centre    8.9\n",
       "12                  Queen Elizabeth Chelsea   5.7km from city centre    7.5\n",
       "13                           Phoenix Hostel   4.2km from city centre    7.9\n",
       "14                     New Cross Inn Hostel   6.1km from city centre    7.1\n",
       "15               Smart Hyde Park Inn Hostel     5km from city centre    6.8\n",
       "16      PubLove @ The White Ferry, Victoria   2.4km from city centre    8.4\n",
       "17             St Christopher's Hammersmith   7.5km from city centre    8.0\n",
       "18                  St Christopher's Camden   4.3km from city centre    7.7\n",
       "19                       YHA London Central   2.9km from city centre    9.0\n",
       "20          St Christopher's Shepherds Bush     7km from city centre    7.7\n",
       "21                  Hostel One Notting Hill   5.5km from city centre    8.1\n",
       "22               St Christopher's Greenwich   7.6km from city centre    7.5\n",
       "23                            Selina Camden   5.5km from city centre    9.2\n",
       "24                           Abercorn House   7.3km from city centre    6.5\n",
       "25           PubLove @ The Crown, Battersea   4.7km from city centre    7.7\n",
       "26       PubLove @ The Exmouth Arms, Euston   3.4km from city centre    7.5\n",
       "27                 Kensal Green Backpackers   8.2km from city centre    6.1\n",
       "28                               Park Villa   6.3km from city centre    8.4\n",
       "29      PubLove @ The Green Man, Paddington   4.3km from city centre    7.5"
      ]
     },
     "execution_count": 118,
     "metadata": {},
     "output_type": "execute_result"
    }
   ],
   "source": [
    "data= pd.DataFrame({\"Name\":name,'Distance':distance,\"Rating\":rating})\n",
    "data"
   ]
  },
  {
   "cell_type": "code",
   "execution_count": 93,
   "id": "3b08b047",
   "metadata": {},
   "outputs": [],
   "source": []
  },
  {
   "cell_type": "code",
   "execution_count": 94,
   "id": "9649d559",
   "metadata": {},
   "outputs": [],
   "source": []
  },
  {
   "cell_type": "code",
   "execution_count": 95,
   "id": "ba09c607",
   "metadata": {},
   "outputs": [],
   "source": []
  },
  {
   "cell_type": "code",
   "execution_count": null,
   "id": "0ec0626d",
   "metadata": {},
   "outputs": [],
   "source": []
  },
  {
   "cell_type": "code",
   "execution_count": null,
   "id": "f3492b98",
   "metadata": {},
   "outputs": [],
   "source": []
  },
  {
   "cell_type": "code",
   "execution_count": null,
   "id": "637b11ff",
   "metadata": {},
   "outputs": [],
   "source": []
  },
  {
   "cell_type": "code",
   "execution_count": null,
   "id": "3febc617",
   "metadata": {},
   "outputs": [],
   "source": []
  },
  {
   "cell_type": "code",
   "execution_count": null,
   "id": "904c90b3",
   "metadata": {},
   "outputs": [],
   "source": []
  },
  {
   "cell_type": "code",
   "execution_count": null,
   "id": "00eedc89",
   "metadata": {},
   "outputs": [],
   "source": []
  }
 ],
 "metadata": {
  "kernelspec": {
   "display_name": "Python 3 (ipykernel)",
   "language": "python",
   "name": "python3"
  },
  "language_info": {
   "codemirror_mode": {
    "name": "ipython",
    "version": 3
   },
   "file_extension": ".py",
   "mimetype": "text/x-python",
   "name": "python",
   "nbconvert_exporter": "python",
   "pygments_lexer": "ipython3",
   "version": "3.9.7"
  }
 },
 "nbformat": 4,
 "nbformat_minor": 5
}
