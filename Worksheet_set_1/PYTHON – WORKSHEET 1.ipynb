{
 "cells": [
  {
   "cell_type": "markdown",
   "id": "649ca6e7",
   "metadata": {},
   "source": [
    "# PYTHON – WORKSHEET 1"
   ]
  },
  {
   "cell_type": "markdown",
   "id": "d79cfa89",
   "metadata": {},
   "source": [
    "# 1. Which of the following operators is used to calculate remainder in a division?\n",
    "A) # B) &\n",
    "C) % D) $"
   ]
  },
  {
   "cell_type": "raw",
   "id": "4600ffb2",
   "metadata": {},
   "source": [
    "1. Answer is (c) %\n",
    "\n"
   ]
  },
  {
   "cell_type": "markdown",
   "id": "3d74d938",
   "metadata": {},
   "source": [
    "# 2.  In python 2//3 is equal to?\n",
    "A) 0.666 B) 0\n",
    "C) 1 D) 0.67"
   ]
  },
  {
   "cell_type": "raw",
   "id": "8b8ade29",
   "metadata": {},
   "source": [
    "2. Answer is (B)  0         \n",
    "\n",
    "Explanation:\n",
    "we call it floor devision, 2//3 is .66 after round it is 0. while 3//2 =1"
   ]
  },
  {
   "cell_type": "markdown",
   "id": "c99d9859",
   "metadata": {},
   "source": [
    "# 3. In python, 6<<2 is equal to?\n",
    "A) 36 B) 10\n",
    "C) 24 D) 45"
   ]
  },
  {
   "cell_type": "raw",
   "id": "da35c381",
   "metadata": {},
   "source": [
    "3. Answer is (c) 24 . \n",
    "\n",
    "Explanation:\n",
    "This is shift operator or Bitwise operator. 6 in binary (0110), shift 2 left will become (011000) is 23 (16+8)"
   ]
  },
  {
   "cell_type": "markdown",
   "id": "a6819da5",
   "metadata": {},
   "source": [
    "# 4. In python, 6&2 will give which of the following as output?\n",
    "A) 2 B) True\n",
    "C) False D) 0"
   ]
  },
  {
   "cell_type": "raw",
   "id": "fb60da97",
   "metadata": {},
   "source": [
    "4. Asnwer is (a) 2   \n",
    "\n",
    "\n",
    "Explanation:\n",
    "| bitwise and operator 0110 & 0010 = 0010 = 2"
   ]
  },
  {
   "cell_type": "markdown",
   "id": "c03b135e",
   "metadata": {},
   "source": [
    "# 5. In python, 6|2 will give which of the following as output?\n",
    "A) 2 B) 4\n",
    "C) 0 D) 6"
   ]
  },
  {
   "cell_type": "raw",
   "id": "77630944",
   "metadata": {},
   "source": [
    "5. Answer is (d)  6 .  \n",
    "\n",
    "Explanation:\n",
    "\n",
    "Bitwise OR operator , 0110 | 0010 = 0110 = 6"
   ]
  },
  {
   "cell_type": "markdown",
   "id": "d6aca305",
   "metadata": {},
   "source": [
    "# 6. What does the finally keyword denotes in python?\n",
    "A) It is used to mark the end of the code\n",
    "B) It encloses the lines of code which will be executed if any error occurs while executing the lines of code in the try block.\n",
    "C) the finally block will be executed no matter if the try block raises an error or not.\n",
    "D) None of the above"
   ]
  },
  {
   "cell_type": "raw",
   "id": "cf26b193",
   "metadata": {},
   "source": [
    "6. Answer is (c) \n",
    "\n",
    "the finally block will be executed no matter if the try block raises an error or not."
   ]
  },
  {
   "cell_type": "markdown",
   "id": "8279b179",
   "metadata": {},
   "source": [
    "# 7. What does raise keyword is used for in python?\n",
    "A) It is used to raise an exception. B) It is used to define lambda function\n",
    "C) it's not a keyword in python. D) None of the above"
   ]
  },
  {
   "cell_type": "raw",
   "id": "e1f9433b",
   "metadata": {},
   "source": [
    "7. Answer is (a) It is used to raise an exception, Actually custom exception. example is below.\n",
    "\n",
    "Explanation:\n",
    "\n",
    "x=-1\n",
    "\n",
    "if x<0:\n",
    "    raise Exception(\"Sorry, Negative number is not allowed\")"
   ]
  },
  {
   "cell_type": "markdown",
   "id": "30a12b42",
   "metadata": {},
   "source": [
    "# 8. Which of the following is a common use case of yield keyword in python?\n",
    "A) in defining an iterator B) while defining a lambda function\n",
    "C) in defining a generator D) in for loop."
   ]
  },
  {
   "cell_type": "raw",
   "id": "52ced00d",
   "metadata": {},
   "source": [
    "8. Answer is (c) in defining a generator.\n",
    "\n",
    "\n",
    "Explanation: yield keyword is used to define generator and Generator are being used to generate iterator.\n",
    "    like: ## iterator  in which we have to use next keyword to iterate\n",
    "        lst=[1,2,3,4]\n",
    "        iterator= iter(lst)\n",
    "        \n",
    "        next(iterator)  # run everytime to iterate every value\n",
    "        \n",
    "Generator:\n",
    "    def sqr(x):\n",
    "        for i in range(x):\n",
    "            yield i**2\n",
    "            \n",
    "Output: sqr(3) is <generator object sqr at 0x00000235A6ACC6D0>\n",
    "Here, we have to use next keyword to iterate through.\n",
    "a= sqr(3)\n",
    "next(a)\n",
    "or\n",
    "for i in sqr(3):\n",
    "    print(i)\n",
    "        "
   ]
  },
  {
   "cell_type": "markdown",
   "id": "ae7682fe",
   "metadata": {},
   "source": [
    "# 9. Which of the following are the valid variable names?\n",
    "A) _abc B) 1abc\n",
    "C) abc2 D) None of the above"
   ]
  },
  {
   "cell_type": "raw",
   "id": "fa20d4ad",
   "metadata": {},
   "source": [
    "Answer is (A), (C)\n",
    "\n",
    "\n",
    "Explanation:\n",
    "Valid variable names can start with any alphabets or underscore but can't start with a number."
   ]
  },
  {
   "cell_type": "markdown",
   "id": "dd8974d1",
   "metadata": {},
   "source": [
    "# 10. Which of the following are the keywords in python?\n",
    "A) yield B) raise\n",
    "C) look-in D) all of the above"
   ]
  },
  {
   "cell_type": "raw",
   "id": "9d9da6be",
   "metadata": {},
   "source": [
    "10 Answer is (A), (B)\n",
    "\n",
    "Explanation:\n",
    "\n",
    "import keyword\n",
    "keyword.kwlist"
   ]
  },
  {
   "cell_type": "markdown",
   "id": "7a9c4bc9",
   "metadata": {},
   "source": [
    "# 11. Write a python program to find the factorial of a number."
   ]
  },
  {
   "cell_type": "code",
   "execution_count": 62,
   "id": "3842b71d",
   "metadata": {},
   "outputs": [
    {
     "name": "stdout",
     "output_type": "stream",
     "text": [
      "Input a number for factorial = 23\n",
      "The Factorial of  23 is 25852016738884976640000\n"
     ]
    }
   ],
   "source": [
    "# with inbuilt functions\n",
    "\n",
    "import math\n",
    "def fact(x):\n",
    "    return math.factorial(x)\n",
    "    \n",
    "    \n",
    "num= int(input(\"Input a number for factorial = \"))\n",
    "print(\"The Factorial of \",num , 'is', fact(num))"
   ]
  },
  {
   "cell_type": "code",
   "execution_count": 65,
   "id": "5ef59ebd",
   "metadata": {},
   "outputs": [
    {
     "name": "stdout",
     "output_type": "stream",
     "text": [
      "Input a number for factorial = 3\n",
      "Factorial of 3 is 6\n"
     ]
    }
   ],
   "source": [
    "# Basic way:\n",
    "\n",
    "num= int(input(\"Input a number for factorial = \"))\n",
    "f=1\n",
    "if num <0:\n",
    "    print(\"factorial of a negative number is not possible \")\n",
    "elif num==0:\n",
    "    print(\"factorial of 0 is 1\")\n",
    "else:\n",
    "    for i in range(1, num+1):\n",
    "               \n",
    "        f= f *i\n",
    "    print(\"Factorial of\",num,'is', f)\n"
   ]
  },
  {
   "cell_type": "markdown",
   "id": "74c52143",
   "metadata": {},
   "source": [
    "# 12. Write a python program to find whether a number is prime or composite."
   ]
  },
  {
   "cell_type": "code",
   "execution_count": 120,
   "id": "e49c2f91",
   "metadata": {},
   "outputs": [
    {
     "name": "stdout",
     "output_type": "stream",
     "text": [
      "Please enter a num 7\n",
      "Prime Number\n"
     ]
    }
   ],
   "source": [
    "num= int(input(\"Please enter a num \"))\n",
    "\n",
    "if num<=0: print(\"Its a negative or Zero\")\n",
    "elif num==1: print(\"Its a whole Number\")\n",
    "elif num >1:\n",
    "    for i in range(2,num):\n",
    "        if num%i==0:\n",
    "            print(\"Composite Number\")\n",
    "            break\n",
    "    else: print(\"Prime Number\")"
   ]
  },
  {
   "cell_type": "markdown",
   "id": "0a594ceb",
   "metadata": {},
   "source": [
    "# 13. Write a python program to check whether a given string is palindrome or not."
   ]
  },
  {
   "cell_type": "code",
   "execution_count": 155,
   "id": "b791434d",
   "metadata": {},
   "outputs": [
    {
     "name": "stdout",
     "output_type": "stream",
     "text": [
      "Enter a string MOM\n",
      "This is palindrome string\n"
     ]
    }
   ],
   "source": [
    "# reverse the string\n",
    "num= input(\"Enter a string \")\n",
    "rev=num[::-1]   # [start: end :jump, -1 means iterate from end]\n",
    "\n",
    "if rev==num:\n",
    "    print('This is palindrome string')\n",
    "else: print('This is not palindrome')"
   ]
  },
  {
   "cell_type": "code",
   "execution_count": 166,
   "id": "7fc12ab3",
   "metadata": {},
   "outputs": [
    {
     "name": "stdout",
     "output_type": "stream",
     "text": [
      "Enter a string sas\n",
      "This is polindrome\n"
     ]
    }
   ],
   "source": [
    "# through iteration\n",
    "num= input(\"Enter a string \")\n",
    "rev=''\n",
    "\n",
    "for i in num:\n",
    "    rev=i+rev\n",
    "    \n",
    "\n",
    "if(num==rev): print('This is polindrome')\n",
    "else: print(\"Not a polindrome\")\n",
    "\n",
    "\n"
   ]
  },
  {
   "cell_type": "markdown",
   "id": "65b510b6",
   "metadata": {},
   "source": [
    "# 14. Write a Python program to get the third side of right-angled triangle from two given sides"
   ]
  },
  {
   "cell_type": "code",
   "execution_count": 8,
   "id": "7f5f2431",
   "metadata": {},
   "outputs": [
    {
     "name": "stdout",
     "output_type": "stream",
     "text": [
      "Lets find the third side of a right angled triangle \n",
      "Enter the first side =4\n",
      "Enter the second side =6\n",
      "Third side of the triangle is  7.211102550927978\n"
     ]
    }
   ],
   "source": [
    "import math\n",
    "print(\"Lets find the third side of a right angled triangle \")\n",
    "a= float(input('Enter the first side ='))\n",
    "b= float(input(\"Enter the second side =\"))\n",
    "\n",
    "def traingleside(a,b):\n",
    "    return (math.sqrt((a**2)+(b**2)) )\n",
    "print(\"Third side of the triangle is \", traingleside(a,b))"
   ]
  },
  {
   "cell_type": "markdown",
   "id": "8330840a",
   "metadata": {},
   "source": [
    "# 15. Write a python program to print the frequency of each of the characters present in a given string."
   ]
  },
  {
   "cell_type": "code",
   "execution_count": 33,
   "id": "e53c31dc",
   "metadata": {},
   "outputs": [
    {
     "name": "stdout",
     "output_type": "stream",
     "text": [
      "Please enter the string  mom\n",
      "count of  m is 2\n",
      "count of  o is 1\n"
     ]
    }
   ],
   "source": [
    "string= input(\"Please enter the string  \")\n",
    "\n",
    "for i in set(string):   #set(string) to take unique char\n",
    "    print(\"count of \",i ,'is', string.count(i))"
   ]
  },
  {
   "cell_type": "code",
   "execution_count": null,
   "id": "c6bda1a5",
   "metadata": {},
   "outputs": [],
   "source": [
    "\n"
   ]
  },
  {
   "cell_type": "code",
   "execution_count": null,
   "id": "fecead38",
   "metadata": {},
   "outputs": [],
   "source": []
  },
  {
   "cell_type": "code",
   "execution_count": null,
   "id": "9a53da74",
   "metadata": {},
   "outputs": [],
   "source": []
  },
  {
   "cell_type": "code",
   "execution_count": null,
   "id": "bc65c016",
   "metadata": {},
   "outputs": [],
   "source": []
  },
  {
   "cell_type": "code",
   "execution_count": null,
   "id": "281a9854",
   "metadata": {},
   "outputs": [],
   "source": []
  },
  {
   "cell_type": "code",
   "execution_count": null,
   "id": "377e0cc0",
   "metadata": {},
   "outputs": [],
   "source": []
  }
 ],
 "metadata": {
  "kernelspec": {
   "display_name": "Python 3",
   "language": "python",
   "name": "python3"
  },
  "language_info": {
   "codemirror_mode": {
    "name": "ipython",
    "version": 3
   },
   "file_extension": ".py",
   "mimetype": "text/x-python",
   "name": "python",
   "nbconvert_exporter": "python",
   "pygments_lexer": "ipython3",
   "version": "3.8.8"
  }
 },
 "nbformat": 4,
 "nbformat_minor": 5
}
