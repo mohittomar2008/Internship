{
 "cells": [
  {
   "cell_type": "code",
   "execution_count": 112,
   "id": "6b0c7a51",
   "metadata": {},
   "outputs": [],
   "source": [
    "from bs4 import BeautifulSoup\n",
    "import requests\n",
    "import pandas as pd\n",
    "import numpy as np\n",
    "\n",
    "from time import sleep\n",
    "from random import randint\n",
    "#!pip install requests-html\n",
    "\n",
    "#from requests_html import HTMLSession\n",
    "#s= HTMLSession()"
   ]
  },
  {
   "cell_type": "code",
   "execution_count": 113,
   "id": "e1e42f9d",
   "metadata": {},
   "outputs": [],
   "source": [
    "# https://www.imdb.com/search/title/?groups=top_1000&sort=user_rating,desc&count=100&ref_=adv_prv\n",
    "# https://www.imdb.com/search/title/?groups=top_1000&sort=user_rating,desc&count=100&start=101&ref_=adv_nxt\n",
    "# https://www.imdb.com/search/title/?groups=top_1000&sort=user_rating,desc&count=100&start=201&ref_=adv_nxt\n",
    "# https://www.imdb.com/search/title/?groups=top_1000&sort=user_rating,desc&count=100&start=301&ref_=adv_nxt\n",
    "\n",
    "# we can see every page have a start page difference only."
   ]
  },
  {
   "cell_type": "code",
   "execution_count": 114,
   "id": "b3fd6645",
   "metadata": {},
   "outputs": [
    {
     "data": {
      "text/plain": [
       "array([  1, 101, 201, 301, 401, 501, 601, 701, 801, 901])"
      ]
     },
     "execution_count": 114,
     "metadata": {},
     "output_type": "execute_result"
    }
   ],
   "source": [
    "# These many pages we will have\n",
    "pages= np.arange(1,1000,100)\n",
    "pages"
   ]
  },
  {
   "cell_type": "code",
   "execution_count": 115,
   "id": "b1cd9ba5",
   "metadata": {},
   "outputs": [],
   "source": [
    "# Create empty list to carry data\n",
    "movie_name=[]\n",
    "Year=[]\n",
    "Time= []\n",
    "Rating=[]\n",
    "Metascore=[]"
   ]
  },
  {
   "cell_type": "code",
   "execution_count": 116,
   "id": "e44a9af6",
   "metadata": {},
   "outputs": [],
   "source": [
    "for page in pages:\n",
    "    page= requests.get(\"https://www.imdb.com/search/title/?groups=top_1000&sort=user_rating,desc&count=100&start=\"+str(page)+\"&ref_=adv_nxt\")\n",
    "    soup=BeautifulSoup(page.content) # Because of loop, all 10 webpages data is stored in soup now\n",
    "    \n",
    "    movie_data= soup.findAll('div',class_=\"lister-item mode-advanced\") # Find all Table of movies in the complete data, we will extract all data from this table\n",
    "    sleep(randint(2,8))  # it will send request after a pause, so it not crases the laptop\n",
    "    \n",
    "    for i in movie_data: # Movie data have boxes for every movie information.\n",
    "        movie_name.append(i.find('h3').a.text)\n",
    "        Year.append(i.h3.find('span',class_=\"lister-item-year text-muted unbold\").text  )\n",
    "        Time.append(i.p.find('span',class_=\"runtime\").text   )\n",
    "        Rating.append(i.find('div',class_=\"inline-block ratings-imdb-rating\").text.replace('\\n',''))\n",
    "        \n",
    "        "
   ]
  },
  {
   "cell_type": "code",
   "execution_count": 117,
   "id": "68d5e49c",
   "metadata": {},
   "outputs": [
    {
     "data": {
      "text/html": [
       "<div>\n",
       "<style scoped>\n",
       "    .dataframe tbody tr th:only-of-type {\n",
       "        vertical-align: middle;\n",
       "    }\n",
       "\n",
       "    .dataframe tbody tr th {\n",
       "        vertical-align: top;\n",
       "    }\n",
       "\n",
       "    .dataframe thead th {\n",
       "        text-align: right;\n",
       "    }\n",
       "</style>\n",
       "<table border=\"1\" class=\"dataframe\">\n",
       "  <thead>\n",
       "    <tr style=\"text-align: right;\">\n",
       "      <th></th>\n",
       "      <th>Movie</th>\n",
       "      <th>Year of Release</th>\n",
       "      <th>Time Duration</th>\n",
       "      <th>Ratings</th>\n",
       "    </tr>\n",
       "  </thead>\n",
       "  <tbody>\n",
       "    <tr>\n",
       "      <th>0</th>\n",
       "      <td>Jai Bhim</td>\n",
       "      <td>(2021)</td>\n",
       "      <td>164 min</td>\n",
       "      <td>9.3</td>\n",
       "    </tr>\n",
       "    <tr>\n",
       "      <th>1</th>\n",
       "      <td>The Shawshank Redemption</td>\n",
       "      <td>(1994)</td>\n",
       "      <td>142 min</td>\n",
       "      <td>9.3</td>\n",
       "    </tr>\n",
       "    <tr>\n",
       "      <th>2</th>\n",
       "      <td>The Godfather</td>\n",
       "      <td>(1972)</td>\n",
       "      <td>175 min</td>\n",
       "      <td>9.2</td>\n",
       "    </tr>\n",
       "    <tr>\n",
       "      <th>3</th>\n",
       "      <td>Soorarai Pottru</td>\n",
       "      <td>(2020)</td>\n",
       "      <td>153 min</td>\n",
       "      <td>9.1</td>\n",
       "    </tr>\n",
       "    <tr>\n",
       "      <th>4</th>\n",
       "      <td>The Dark Knight</td>\n",
       "      <td>(2008)</td>\n",
       "      <td>152 min</td>\n",
       "      <td>9.0</td>\n",
       "    </tr>\n",
       "    <tr>\n",
       "      <th>...</th>\n",
       "      <td>...</td>\n",
       "      <td>...</td>\n",
       "      <td>...</td>\n",
       "      <td>...</td>\n",
       "    </tr>\n",
       "    <tr>\n",
       "      <th>995</th>\n",
       "      <td>Sabrina</td>\n",
       "      <td>(1954)</td>\n",
       "      <td>113 min</td>\n",
       "      <td>7.6</td>\n",
       "    </tr>\n",
       "    <tr>\n",
       "      <th>996</th>\n",
       "      <td>From Here to Eternity</td>\n",
       "      <td>(1953)</td>\n",
       "      <td>118 min</td>\n",
       "      <td>7.6</td>\n",
       "    </tr>\n",
       "    <tr>\n",
       "      <th>997</th>\n",
       "      <td>Gilda</td>\n",
       "      <td>(1946)</td>\n",
       "      <td>110 min</td>\n",
       "      <td>7.6</td>\n",
       "    </tr>\n",
       "    <tr>\n",
       "      <th>998</th>\n",
       "      <td>Lifeboat</td>\n",
       "      <td>(1944)</td>\n",
       "      <td>97 min</td>\n",
       "      <td>7.6</td>\n",
       "    </tr>\n",
       "    <tr>\n",
       "      <th>999</th>\n",
       "      <td>The 39 Steps</td>\n",
       "      <td>(1935)</td>\n",
       "      <td>86 min</td>\n",
       "      <td>7.6</td>\n",
       "    </tr>\n",
       "  </tbody>\n",
       "</table>\n",
       "<p>1000 rows × 4 columns</p>\n",
       "</div>"
      ],
      "text/plain": [
       "                        Movie Year of Release Time Duration Ratings\n",
       "0                    Jai Bhim          (2021)       164 min     9.3\n",
       "1    The Shawshank Redemption          (1994)       142 min     9.3\n",
       "2               The Godfather          (1972)       175 min     9.2\n",
       "3             Soorarai Pottru          (2020)       153 min     9.1\n",
       "4             The Dark Knight          (2008)       152 min     9.0\n",
       "..                        ...             ...           ...     ...\n",
       "995                   Sabrina          (1954)       113 min     7.6\n",
       "996     From Here to Eternity          (1953)       118 min     7.6\n",
       "997                     Gilda          (1946)       110 min     7.6\n",
       "998                  Lifeboat          (1944)        97 min     7.6\n",
       "999              The 39 Steps          (1935)        86 min     7.6\n",
       "\n",
       "[1000 rows x 4 columns]"
      ]
     },
     "execution_count": 117,
     "metadata": {},
     "output_type": "execute_result"
    }
   ],
   "source": [
    "pd.DataFrame({\"Movie\":movie_name,\"Year of Release\":Year,\"Time Duration\":Time,\"Ratings\":Rating } )"
   ]
  },
  {
   "cell_type": "code",
   "execution_count": null,
   "id": "7bb1d827",
   "metadata": {},
   "outputs": [],
   "source": []
  },
  {
   "cell_type": "code",
   "execution_count": 98,
   "id": "a3784557",
   "metadata": {},
   "outputs": [],
   "source": []
  },
  {
   "cell_type": "code",
   "execution_count": null,
   "id": "009f8696",
   "metadata": {},
   "outputs": [],
   "source": []
  },
  {
   "cell_type": "code",
   "execution_count": null,
   "id": "1b0b30cc",
   "metadata": {},
   "outputs": [],
   "source": []
  },
  {
   "cell_type": "code",
   "execution_count": null,
   "id": "847661a4",
   "metadata": {},
   "outputs": [],
   "source": []
  }
 ],
 "metadata": {
  "kernelspec": {
   "display_name": "Python 3 (ipykernel)",
   "language": "python",
   "name": "python3"
  },
  "language_info": {
   "codemirror_mode": {
    "name": "ipython",
    "version": 3
   },
   "file_extension": ".py",
   "mimetype": "text/x-python",
   "name": "python",
   "nbconvert_exporter": "python",
   "pygments_lexer": "ipython3",
   "version": "3.9.7"
  }
 },
 "nbformat": 4,
 "nbformat_minor": 5
}
