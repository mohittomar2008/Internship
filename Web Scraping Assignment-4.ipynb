{
 "cells": [
  {
   "cell_type": "markdown",
   "id": "76b65e01",
   "metadata": {},
   "source": [
    "# 1. Scrape the details of most viewed videos on YouTube from Wikipedia."
   ]
  },
  {
   "cell_type": "raw",
   "id": "ddf63dc4",
   "metadata": {},
   "source": [
    "1. Scrape the details of most viewed videos on YouTube from Wikipedia.\n",
    "Url = https://en.wikipedia.org/wiki/List_of_most-viewed_YouTube_videos\n",
    "You need to find following details:\n",
    "A) Rank\n",
    "B) Name\n",
    "C) Artist\n",
    "D) Upload date\n",
    "E) Views"
   ]
  },
  {
   "cell_type": "code",
   "execution_count": 133,
   "id": "eddf8f44",
   "metadata": {},
   "outputs": [],
   "source": [
    "# import libraraies\n",
    "\n",
    "import selenium\n",
    "from selenium import webdriver\n",
    "import pandas as pd\n",
    "\n",
    "# Importing required Exceptions which needs to handled\n",
    "from selenium.common.exceptions import StaleElementReferenceException, NoSuchElementException\n",
    "\n",
    "#Importing requests\n",
    "import requests\n",
    "\n",
    "# importing regex\n",
    "import re\n",
    "\n",
    "import warnings\n",
    "warnings.filterwarnings('ignore')\n",
    "import time"
   ]
  },
  {
   "cell_type": "code",
   "execution_count": 89,
   "id": "e5c2cba0",
   "metadata": {},
   "outputs": [],
   "source": [
    "# lets connect to driver\n",
    "\n",
    "driver= webdriver.Chrome(r'C:\\Users\\Administrator\\Data Science\\WebScrapping\\chromedriver.exe')\n",
    "driver.maximize_window()\n",
    "\n",
    "url='https://en.wikipedia.org/wiki/List_of_most-viewed_YouTube_videos'\n",
    "driver.get(url)"
   ]
  },
  {
   "cell_type": "code",
   "execution_count": null,
   "id": "25222247",
   "metadata": {},
   "outputs": [],
   "source": []
  },
  {
   "cell_type": "code",
   "execution_count": 71,
   "id": "d2a1bf9d",
   "metadata": {},
   "outputs": [],
   "source": [
    "table=driver.find_element_by_xpath('//table[@class=\"wikitable sortable jquery-tablesorter\"]/tbody/tr/td[5]')"
   ]
  },
  {
   "cell_type": "code",
   "execution_count": 72,
   "id": "1ec97fbd",
   "metadata": {},
   "outputs": [
    {
     "data": {
      "text/plain": [
       "['June 17, 2016']"
      ]
     },
     "execution_count": 72,
     "metadata": {},
     "output_type": "execute_result"
    }
   ],
   "source": [
    "table.text.split('\\n')"
   ]
  },
  {
   "cell_type": "code",
   "execution_count": 86,
   "id": "e6dad328",
   "metadata": {},
   "outputs": [
    {
     "data": {
      "text/plain": [
       "['1. \"Baby Shark Dance\"[3] Pinkfong Baby Shark - Kids\\' Songs & Stories 10.53 June 17, 2016 [B]']"
      ]
     },
     "execution_count": 86,
     "metadata": {},
     "output_type": "execute_result"
    }
   ],
   "source": [
    "table=driver.find_element_by_xpath('//table[@class=\"wikitable sortable jquery-tablesorter\"]/tbody/tr[1]')\n",
    "table.text.split('\\n')"
   ]
  },
  {
   "cell_type": "code",
   "execution_count": 102,
   "id": "a1537721",
   "metadata": {},
   "outputs": [
    {
     "name": "stdout",
     "output_type": "stream",
     "text": [
      "1.\n",
      "2.\n",
      "3.\n",
      "4.\n",
      "5.\n",
      "6.\n",
      "7.\n",
      "8.\n",
      "9.\n",
      "10.\n",
      "11.\n",
      "12.\n",
      "13.\n",
      "14.\n",
      "15.\n",
      "16.\n",
      "17.\n",
      "18.\n",
      "19.\n",
      "20.\n",
      "21.\n",
      "22.\n",
      "23.\n",
      "24.\n",
      "25.\n",
      "26.\n",
      "27.\n",
      "28.\n",
      "29.\n",
      "30.\n",
      "\"Baby Shark Dance\"[3]\n",
      "\"Despacito\"[6]\n",
      "\"See You Again\"[15]\n",
      "\"Gangnam Style\"⁂[25]\n",
      "\"Baby\"*[59]\n",
      "\"Bad Romance\"[63]\n",
      "\"Charlie Bit My Finger\"‡[67]\n",
      "\"Evolution of Dance\"[69]\n",
      "\"Girlfriend\"‡[71][72]\n",
      "\"Evolution of Dance\"[69]\n",
      "\"Music Is My Hot Hot Sex\"‡[75]\n",
      "\"Evolution of Dance\"*[69]\n",
      "\"Pokemon Theme Music Video\"‡[81]\n",
      "\"Myspace – The Movie\"‡[86][87]\n",
      "\"Phony Photo Booth\"‡[90]\n",
      "\"The Chronic of Narnia Rap\"‡[92]\n",
      "\"Ronaldinho: Touch of Gold\"‡*[94]\n",
      "\"I/O Brush\"‡*[97]\n",
      "\"Me at the zoo\"[99]\n"
     ]
    }
   ],
   "source": [
    "table=driver.find_elements_by_xpath('//table[@class=\"wikitable sortable jquery-tablesorter\"]/tbody/tr/td[1]')\n",
    "len(table)\n",
    "for i in table:\n",
    "    print(i.text)"
   ]
  },
  {
   "cell_type": "code",
   "execution_count": 99,
   "id": "ee9422d7",
   "metadata": {},
   "outputs": [
    {
     "data": {
      "text/plain": [
       "49"
      ]
     },
     "execution_count": 99,
     "metadata": {},
     "output_type": "execute_result"
    }
   ],
   "source": [
    "len(table)"
   ]
  },
  {
   "cell_type": "code",
   "execution_count": null,
   "id": "e7113398",
   "metadata": {},
   "outputs": [],
   "source": []
  },
  {
   "cell_type": "code",
   "execution_count": null,
   "id": "f5781282",
   "metadata": {},
   "outputs": [],
   "source": []
  },
  {
   "cell_type": "code",
   "execution_count": null,
   "id": "cad4a786",
   "metadata": {},
   "outputs": [],
   "source": []
  },
  {
   "cell_type": "code",
   "execution_count": 79,
   "id": "d2580c4f",
   "metadata": {},
   "outputs": [
    {
     "data": {
      "text/plain": [
       "'\"Baby Shark Dance\"[3]'"
      ]
     },
     "execution_count": 79,
     "metadata": {},
     "output_type": "execute_result"
    }
   ],
   "source": [
    "table=driver.find_elements_by_xpath('//table[@class=\"wikitable sortable jquery-tablesorter\"]/tbody/tr/td[2]')\n",
    "table.text"
   ]
  },
  {
   "cell_type": "code",
   "execution_count": 87,
   "id": "000a786c",
   "metadata": {},
   "outputs": [
    {
     "ename": "NoSuchElementException",
     "evalue": "Message: no such element: Unable to locate element: {\"method\":\"xpath\",\"selector\":\"//table[@class=\"wikitable sortable jquery-tablesorter\"]/tbody/tr[i]\"}\n  (Session info: chrome=100.0.4896.127)\nStacktrace:\nBacktrace:\n\tOrdinal0 [0x00EB9943+2595139]\n\tOrdinal0 [0x00E4C9F1+2148849]\n\tOrdinal0 [0x00D44528+1066280]\n\tOrdinal0 [0x00D70FD4+1249236]\n\tOrdinal0 [0x00D711CB+1249739]\n\tOrdinal0 [0x00D9D812+1431570]\n\tOrdinal0 [0x00D8BA34+1358388]\n\tOrdinal0 [0x00D9BAF2+1424114]\n\tOrdinal0 [0x00D8B806+1357830]\n\tOrdinal0 [0x00D66086+1204358]\n\tOrdinal0 [0x00D66F96+1208214]\n\tGetHandleVerifier [0x0105B232+1658114]\n\tGetHandleVerifier [0x0111312C+2411516]\n\tGetHandleVerifier [0x00F4F261+560433]\n\tGetHandleVerifier [0x00F4E366+556598]\n\tOrdinal0 [0x00E5286B+2173035]\n\tOrdinal0 [0x00E575F8+2192888]\n\tOrdinal0 [0x00E576E5+2193125]\n\tOrdinal0 [0x00E611FC+2232828]\n\tBaseThreadInitThunk [0x7660FA29+25]\n\tRtlGetAppContainerNamedObjectPath [0x771B7A7E+286]\n\tRtlGetAppContainerNamedObjectPath [0x771B7A4E+238]\n",
     "output_type": "error",
     "traceback": [
      "\u001b[1;31m---------------------------------------------------------------------------\u001b[0m",
      "\u001b[1;31mNoSuchElementException\u001b[0m                    Traceback (most recent call last)",
      "\u001b[1;32m<ipython-input-87-979b8eb02f4d>\u001b[0m in \u001b[0;36m<module>\u001b[1;34m\u001b[0m\n\u001b[0;32m      1\u001b[0m \u001b[1;32mfor\u001b[0m \u001b[0mi\u001b[0m \u001b[1;32min\u001b[0m \u001b[0mrange\u001b[0m\u001b[1;33m(\u001b[0m\u001b[1;36m1\u001b[0m\u001b[1;33m,\u001b[0m\u001b[1;36m31\u001b[0m\u001b[1;33m)\u001b[0m\u001b[1;33m:\u001b[0m\u001b[1;33m\u001b[0m\u001b[1;33m\u001b[0m\u001b[0m\n\u001b[1;32m----> 2\u001b[1;33m     \u001b[0mtable\u001b[0m\u001b[1;33m=\u001b[0m\u001b[0mdriver\u001b[0m\u001b[1;33m.\u001b[0m\u001b[0mfind_element_by_xpath\u001b[0m\u001b[1;33m(\u001b[0m\u001b[1;34m'//table[@class=\"wikitable sortable jquery-tablesorter\"]/tbody/tr[i]'\u001b[0m\u001b[1;33m)\u001b[0m\u001b[1;33m\u001b[0m\u001b[1;33m\u001b[0m\u001b[0m\n\u001b[0m\u001b[0;32m      3\u001b[0m     \u001b[0mtable\u001b[0m\u001b[1;33m.\u001b[0m\u001b[0mtext\u001b[0m\u001b[1;33m\u001b[0m\u001b[1;33m\u001b[0m\u001b[0m\n",
      "\u001b[1;32mC:\\ProgramData\\Anaconda3\\lib\\site-packages\\selenium\\webdriver\\remote\\webdriver.py\u001b[0m in \u001b[0;36mfind_element_by_xpath\u001b[1;34m(self, xpath)\u001b[0m\n\u001b[0;32m    519\u001b[0m             \u001b[0mstacklevel\u001b[0m\u001b[1;33m=\u001b[0m\u001b[1;36m2\u001b[0m\u001b[1;33m,\u001b[0m\u001b[1;33m\u001b[0m\u001b[1;33m\u001b[0m\u001b[0m\n\u001b[0;32m    520\u001b[0m         )\n\u001b[1;32m--> 521\u001b[1;33m         \u001b[1;32mreturn\u001b[0m \u001b[0mself\u001b[0m\u001b[1;33m.\u001b[0m\u001b[0mfind_element\u001b[0m\u001b[1;33m(\u001b[0m\u001b[0mby\u001b[0m\u001b[1;33m=\u001b[0m\u001b[0mBy\u001b[0m\u001b[1;33m.\u001b[0m\u001b[0mXPATH\u001b[0m\u001b[1;33m,\u001b[0m \u001b[0mvalue\u001b[0m\u001b[1;33m=\u001b[0m\u001b[0mxpath\u001b[0m\u001b[1;33m)\u001b[0m\u001b[1;33m\u001b[0m\u001b[1;33m\u001b[0m\u001b[0m\n\u001b[0m\u001b[0;32m    522\u001b[0m \u001b[1;33m\u001b[0m\u001b[0m\n\u001b[0;32m    523\u001b[0m     \u001b[1;32mdef\u001b[0m \u001b[0mfind_elements_by_xpath\u001b[0m\u001b[1;33m(\u001b[0m\u001b[0mself\u001b[0m\u001b[1;33m,\u001b[0m \u001b[0mxpath\u001b[0m\u001b[1;33m)\u001b[0m \u001b[1;33m->\u001b[0m \u001b[0mList\u001b[0m\u001b[1;33m[\u001b[0m\u001b[0mWebElement\u001b[0m\u001b[1;33m]\u001b[0m\u001b[1;33m:\u001b[0m\u001b[1;33m\u001b[0m\u001b[1;33m\u001b[0m\u001b[0m\n",
      "\u001b[1;32mC:\\ProgramData\\Anaconda3\\lib\\site-packages\\selenium\\webdriver\\remote\\webdriver.py\u001b[0m in \u001b[0;36mfind_element\u001b[1;34m(self, by, value)\u001b[0m\n\u001b[0;32m   1246\u001b[0m             \u001b[0mvalue\u001b[0m \u001b[1;33m=\u001b[0m \u001b[1;34m'[name=\"%s\"]'\u001b[0m \u001b[1;33m%\u001b[0m \u001b[0mvalue\u001b[0m\u001b[1;33m\u001b[0m\u001b[1;33m\u001b[0m\u001b[0m\n\u001b[0;32m   1247\u001b[0m \u001b[1;33m\u001b[0m\u001b[0m\n\u001b[1;32m-> 1248\u001b[1;33m         return self.execute(Command.FIND_ELEMENT, {\n\u001b[0m\u001b[0;32m   1249\u001b[0m             \u001b[1;34m'using'\u001b[0m\u001b[1;33m:\u001b[0m \u001b[0mby\u001b[0m\u001b[1;33m,\u001b[0m\u001b[1;33m\u001b[0m\u001b[1;33m\u001b[0m\u001b[0m\n\u001b[0;32m   1250\u001b[0m             'value': value})['value']\n",
      "\u001b[1;32mC:\\ProgramData\\Anaconda3\\lib\\site-packages\\selenium\\webdriver\\remote\\webdriver.py\u001b[0m in \u001b[0;36mexecute\u001b[1;34m(self, driver_command, params)\u001b[0m\n\u001b[0;32m    423\u001b[0m         \u001b[0mresponse\u001b[0m \u001b[1;33m=\u001b[0m \u001b[0mself\u001b[0m\u001b[1;33m.\u001b[0m\u001b[0mcommand_executor\u001b[0m\u001b[1;33m.\u001b[0m\u001b[0mexecute\u001b[0m\u001b[1;33m(\u001b[0m\u001b[0mdriver_command\u001b[0m\u001b[1;33m,\u001b[0m \u001b[0mparams\u001b[0m\u001b[1;33m)\u001b[0m\u001b[1;33m\u001b[0m\u001b[1;33m\u001b[0m\u001b[0m\n\u001b[0;32m    424\u001b[0m         \u001b[1;32mif\u001b[0m \u001b[0mresponse\u001b[0m\u001b[1;33m:\u001b[0m\u001b[1;33m\u001b[0m\u001b[1;33m\u001b[0m\u001b[0m\n\u001b[1;32m--> 425\u001b[1;33m             \u001b[0mself\u001b[0m\u001b[1;33m.\u001b[0m\u001b[0merror_handler\u001b[0m\u001b[1;33m.\u001b[0m\u001b[0mcheck_response\u001b[0m\u001b[1;33m(\u001b[0m\u001b[0mresponse\u001b[0m\u001b[1;33m)\u001b[0m\u001b[1;33m\u001b[0m\u001b[1;33m\u001b[0m\u001b[0m\n\u001b[0m\u001b[0;32m    426\u001b[0m             response['value'] = self._unwrap_value(\n\u001b[0;32m    427\u001b[0m                 response.get('value', None))\n",
      "\u001b[1;32mC:\\ProgramData\\Anaconda3\\lib\\site-packages\\selenium\\webdriver\\remote\\errorhandler.py\u001b[0m in \u001b[0;36mcheck_response\u001b[1;34m(self, response)\u001b[0m\n\u001b[0;32m    245\u001b[0m                 \u001b[0malert_text\u001b[0m \u001b[1;33m=\u001b[0m \u001b[0mvalue\u001b[0m\u001b[1;33m[\u001b[0m\u001b[1;34m'alert'\u001b[0m\u001b[1;33m]\u001b[0m\u001b[1;33m.\u001b[0m\u001b[0mget\u001b[0m\u001b[1;33m(\u001b[0m\u001b[1;34m'text'\u001b[0m\u001b[1;33m)\u001b[0m\u001b[1;33m\u001b[0m\u001b[1;33m\u001b[0m\u001b[0m\n\u001b[0;32m    246\u001b[0m             \u001b[1;32mraise\u001b[0m \u001b[0mexception_class\u001b[0m\u001b[1;33m(\u001b[0m\u001b[0mmessage\u001b[0m\u001b[1;33m,\u001b[0m \u001b[0mscreen\u001b[0m\u001b[1;33m,\u001b[0m \u001b[0mstacktrace\u001b[0m\u001b[1;33m,\u001b[0m \u001b[0malert_text\u001b[0m\u001b[1;33m)\u001b[0m  \u001b[1;31m# type: ignore[call-arg]  # mypy is not smart enough here\u001b[0m\u001b[1;33m\u001b[0m\u001b[1;33m\u001b[0m\u001b[0m\n\u001b[1;32m--> 247\u001b[1;33m         \u001b[1;32mraise\u001b[0m \u001b[0mexception_class\u001b[0m\u001b[1;33m(\u001b[0m\u001b[0mmessage\u001b[0m\u001b[1;33m,\u001b[0m \u001b[0mscreen\u001b[0m\u001b[1;33m,\u001b[0m \u001b[0mstacktrace\u001b[0m\u001b[1;33m)\u001b[0m\u001b[1;33m\u001b[0m\u001b[1;33m\u001b[0m\u001b[0m\n\u001b[0m\u001b[0;32m    248\u001b[0m \u001b[1;33m\u001b[0m\u001b[0m\n\u001b[0;32m    249\u001b[0m     \u001b[1;32mdef\u001b[0m \u001b[0m_value_or_default\u001b[0m\u001b[1;33m(\u001b[0m\u001b[0mself\u001b[0m\u001b[1;33m,\u001b[0m \u001b[0mobj\u001b[0m\u001b[1;33m:\u001b[0m \u001b[0mMapping\u001b[0m\u001b[1;33m[\u001b[0m\u001b[0m_KT\u001b[0m\u001b[1;33m,\u001b[0m \u001b[0m_VT\u001b[0m\u001b[1;33m]\u001b[0m\u001b[1;33m,\u001b[0m \u001b[0mkey\u001b[0m\u001b[1;33m:\u001b[0m \u001b[0m_KT\u001b[0m\u001b[1;33m,\u001b[0m \u001b[0mdefault\u001b[0m\u001b[1;33m:\u001b[0m \u001b[0m_VT\u001b[0m\u001b[1;33m)\u001b[0m \u001b[1;33m->\u001b[0m \u001b[0m_VT\u001b[0m\u001b[1;33m:\u001b[0m\u001b[1;33m\u001b[0m\u001b[1;33m\u001b[0m\u001b[0m\n",
      "\u001b[1;31mNoSuchElementException\u001b[0m: Message: no such element: Unable to locate element: {\"method\":\"xpath\",\"selector\":\"//table[@class=\"wikitable sortable jquery-tablesorter\"]/tbody/tr[i]\"}\n  (Session info: chrome=100.0.4896.127)\nStacktrace:\nBacktrace:\n\tOrdinal0 [0x00EB9943+2595139]\n\tOrdinal0 [0x00E4C9F1+2148849]\n\tOrdinal0 [0x00D44528+1066280]\n\tOrdinal0 [0x00D70FD4+1249236]\n\tOrdinal0 [0x00D711CB+1249739]\n\tOrdinal0 [0x00D9D812+1431570]\n\tOrdinal0 [0x00D8BA34+1358388]\n\tOrdinal0 [0x00D9BAF2+1424114]\n\tOrdinal0 [0x00D8B806+1357830]\n\tOrdinal0 [0x00D66086+1204358]\n\tOrdinal0 [0x00D66F96+1208214]\n\tGetHandleVerifier [0x0105B232+1658114]\n\tGetHandleVerifier [0x0111312C+2411516]\n\tGetHandleVerifier [0x00F4F261+560433]\n\tGetHandleVerifier [0x00F4E366+556598]\n\tOrdinal0 [0x00E5286B+2173035]\n\tOrdinal0 [0x00E575F8+2192888]\n\tOrdinal0 [0x00E576E5+2193125]\n\tOrdinal0 [0x00E611FC+2232828]\n\tBaseThreadInitThunk [0x7660FA29+25]\n\tRtlGetAppContainerNamedObjectPath [0x771B7A7E+286]\n\tRtlGetAppContainerNamedObjectPath [0x771B7A4E+238]\n"
     ]
    }
   ],
   "source": [
    "for i in range(1,31):\n",
    "    table=driver.find_element_by_xpath('//table[@class=\"wikitable sortable jquery-tablesorter\"]/tbody/tr[i]')\n",
    "    table.text"
   ]
  },
  {
   "cell_type": "code",
   "execution_count": null,
   "id": "450160d9",
   "metadata": {},
   "outputs": [],
   "source": []
  },
  {
   "cell_type": "code",
   "execution_count": null,
   "id": "cf046e3a",
   "metadata": {},
   "outputs": [],
   "source": []
  },
  {
   "cell_type": "code",
   "execution_count": null,
   "id": "a6590342",
   "metadata": {},
   "outputs": [],
   "source": []
  },
  {
   "cell_type": "markdown",
   "id": "7f21914d",
   "metadata": {},
   "source": [
    "# 2. Scrape the details team India’s international fixtures from bcci.tv."
   ]
  },
  {
   "cell_type": "raw",
   "id": "3f506e75",
   "metadata": {},
   "source": [
    "Scrape the details team India’s international fixtures from bcci.tv.\n",
    "Url = https://www.bcci.tv/.\n",
    "You need to find following details:\n",
    "A) Match title (I.e. 1st ODI)\n",
    "B) Series\n",
    "C) Place\n",
    "D) Date\n",
    "E) Time\n",
    "Note: - From bcci.tv home page you have reach to the international fixture page through code."
   ]
  },
  {
   "cell_type": "code",
   "execution_count": 103,
   "id": "38099ed7",
   "metadata": {},
   "outputs": [],
   "source": [
    "# lets connect to driver\n",
    "\n",
    "driver= webdriver.Chrome(r'C:\\Users\\Administrator\\Data Science\\WebScrapping\\chromedriver.exe')\n",
    "driver.maximize_window()\n",
    "\n",
    "url='https://www.bcci.tv/'\n",
    "driver.get(url)"
   ]
  },
  {
   "cell_type": "code",
   "execution_count": null,
   "id": "a905b13a",
   "metadata": {},
   "outputs": [],
   "source": []
  },
  {
   "cell_type": "code",
   "execution_count": null,
   "id": "2bc39341",
   "metadata": {},
   "outputs": [],
   "source": []
  },
  {
   "cell_type": "code",
   "execution_count": null,
   "id": "ecf1a752",
   "metadata": {},
   "outputs": [],
   "source": []
  },
  {
   "cell_type": "markdown",
   "id": "b7f2d27b",
   "metadata": {},
   "source": [
    "# 3. Scrape the details of selenium exception from guru99.com."
   ]
  },
  {
   "cell_type": "raw",
   "id": "3f0ec2ae",
   "metadata": {},
   "source": [
    "3. Scrape the details of selenium exception from guru99.com.\n",
    "Url = https://www.guru99.com/\n",
    "You need to find following details:\n",
    "A) Name\n",
    "B) Description\n",
    "Note: - From guru99 home page you have to reach to selenium exception handling page through code."
   ]
  },
  {
   "cell_type": "code",
   "execution_count": 105,
   "id": "60b75f23",
   "metadata": {},
   "outputs": [],
   "source": [
    "# lets connect to driver\n",
    "\n",
    "driver= webdriver.Chrome(r'C:\\Users\\Administrator\\Data Science\\WebScrapping\\chromedriver.exe')\n",
    "driver.maximize_window()\n",
    "\n",
    "url='https://www.guru99.com/'\n",
    "driver.get(url)"
   ]
  },
  {
   "cell_type": "code",
   "execution_count": null,
   "id": "11cc3ead",
   "metadata": {},
   "outputs": [],
   "source": []
  },
  {
   "cell_type": "code",
   "execution_count": null,
   "id": "eba07a73",
   "metadata": {},
   "outputs": [],
   "source": []
  },
  {
   "cell_type": "code",
   "execution_count": null,
   "id": "6feabe73",
   "metadata": {},
   "outputs": [],
   "source": []
  },
  {
   "cell_type": "code",
   "execution_count": null,
   "id": "ba516108",
   "metadata": {},
   "outputs": [],
   "source": []
  },
  {
   "cell_type": "markdown",
   "id": "e564bdf0",
   "metadata": {},
   "source": [
    "# Scrape the details of State-wise GDP of India from statisticstime.com."
   ]
  },
  {
   "cell_type": "raw",
   "id": "662b200c",
   "metadata": {},
   "source": [
    "Scrape the details of State-wise GDP of India from statisticstime.com.\n",
    "Url = http://statisticstimes.com/\n",
    "You have to find following details:\n",
    "A) Rank\n",
    "B) State\n",
    "C) GSDP(18-19)\n",
    "D) GSDP(17-18)\n",
    "E) Share(2017)\n",
    "F) GDP($ billion)\n",
    "Note: - From statisticstimes home page you have to reach to economy page through code."
   ]
  },
  {
   "cell_type": "code",
   "execution_count": 106,
   "id": "4bcccbb0",
   "metadata": {},
   "outputs": [],
   "source": [
    "# lets connect to driver\n",
    "\n",
    "driver= webdriver.Chrome(r'C:\\Users\\Administrator\\Data Science\\WebScrapping\\chromedriver.exe')\n",
    "driver.maximize_window()\n",
    "\n",
    "url='http://statisticstimes.com/'\n",
    "driver.get(url)"
   ]
  },
  {
   "cell_type": "code",
   "execution_count": null,
   "id": "56e82077",
   "metadata": {},
   "outputs": [],
   "source": []
  },
  {
   "cell_type": "code",
   "execution_count": null,
   "id": "efe27bb8",
   "metadata": {},
   "outputs": [],
   "source": []
  },
  {
   "cell_type": "code",
   "execution_count": null,
   "id": "c9e1c1bf",
   "metadata": {},
   "outputs": [],
   "source": []
  },
  {
   "cell_type": "markdown",
   "id": "e62da1fb",
   "metadata": {},
   "source": [
    "# Scrape the details of trending repositories on Github.com."
   ]
  },
  {
   "cell_type": "raw",
   "id": "fc3a4203",
   "metadata": {},
   "source": [
    "Scrape the details of trending repositories on Github.com.\n",
    "Url = https://github.com/\n",
    "You have to find the following details:\n",
    "A) Repository title\n",
    "B) Repository description\n",
    "C) Contributors count\n",
    "D) Language used"
   ]
  },
  {
   "cell_type": "code",
   "execution_count": 114,
   "id": "d127875a",
   "metadata": {},
   "outputs": [],
   "source": [
    "# lets connect to driver\n",
    "\n",
    "driver= webdriver.Chrome(r'C:\\Users\\Administrator\\Data Science\\WebScrapping\\chromedriver.exe')\n",
    "driver.maximize_window()\n",
    "\n",
    "url='https://github.com/trending'\n",
    "driver.get(url)"
   ]
  },
  {
   "cell_type": "code",
   "execution_count": null,
   "id": "f48d4cc3",
   "metadata": {},
   "outputs": [],
   "source": [
    "driver.fin"
   ]
  },
  {
   "cell_type": "code",
   "execution_count": 120,
   "id": "a3afae97",
   "metadata": {},
   "outputs": [
    {
     "name": "stdout",
     "output_type": "stream",
     "text": [
      "BandaiNamcoResearchInc / Bandai-Namco-Research-Motiondataset\n",
      "Tencent / tmagic-editor\n",
      "ganelson / inform\n",
      "OpenRA / OpenRA\n",
      "PowerShell / PowerShell\n",
      "why20021008 / hand-write\n",
      "ml-tooling / best-of-ml-python\n",
      "spacedriveapp / spacedrive\n",
      "Dreamacro / clash\n",
      "singularity-data / risingwave\n",
      "jsonhero-io / jsonhero-web\n",
      "papers-we-love / papers-we-love\n",
      "mattpocock / ts-error-translator\n",
      "ellie / atuin\n",
      "ethereum-optimism / optimism\n",
      "streamxhub / streamx\n",
      "CoreWCF / CoreWCF\n",
      "Wechat-ggGitHub / Awesome-GitHub-Repo\n",
      "BoomingTech / Pilot\n",
      "521xueweihan / HelloGitHub\n",
      "apache / flink\n",
      "klauspost / compress\n",
      "kedacore / keda\n",
      "ddangelov / Top2Vec\n",
      "google / wireit\n"
     ]
    }
   ],
   "source": [
    "table=driver.find_elements_by_xpath('//h1[@class=\"h3 lh-condensed\"]')\n",
    "for i in table:\n",
    "    print(i.text)"
   ]
  },
  {
   "cell_type": "code",
   "execution_count": 122,
   "id": "31bbbf1e",
   "metadata": {},
   "outputs": [],
   "source": [
    "desc=driver.find_elements_by_xpath('//p[@class=\"col-9 color-fg-muted my-1 pr-4\"]')"
   ]
  },
  {
   "cell_type": "code",
   "execution_count": null,
   "id": "b851bc09",
   "metadata": {},
   "outputs": [],
   "source": []
  },
  {
   "cell_type": "code",
   "execution_count": 136,
   "id": "aa6fe9ae",
   "metadata": {},
   "outputs": [
    {
     "data": {
      "text/plain": [
       "24"
      ]
     },
     "execution_count": 136,
     "metadata": {},
     "output_type": "execute_result"
    }
   ],
   "source": [
    "len(desc)"
   ]
  },
  {
   "cell_type": "code",
   "execution_count": 144,
   "id": "ad81cfb4",
   "metadata": {},
   "outputs": [],
   "source": [
    "desc=[]\n",
    "try:\n",
    "    desc=driver.find_elements_by_xpath('//p[@class=\"col-9 color-fg-muted my-1 pr-4\"]')\n",
    "except NoSuchElementException:\n",
    "    desc.append(\"NA\")\n",
    "    "
   ]
  },
  {
   "cell_type": "code",
   "execution_count": 146,
   "id": "50e995fc",
   "metadata": {},
   "outputs": [
    {
     "data": {
      "text/plain": [
       "24"
      ]
     },
     "execution_count": 146,
     "metadata": {},
     "output_type": "execute_result"
    }
   ],
   "source": [
    "len(desc)"
   ]
  },
  {
   "cell_type": "code",
   "execution_count": 157,
   "id": "9616682e",
   "metadata": {},
   "outputs": [],
   "source": [
    "url=driver.find_elements_by_xpath('//h1[@class=\"h3 lh-condensed\"]/a')"
   ]
  },
  {
   "cell_type": "code",
   "execution_count": 158,
   "id": "107708f7",
   "metadata": {},
   "outputs": [],
   "source": [
    "\n",
    "prd_url=[]\n",
    "for i in url:\n",
    "    prd_url.append((i.get_attribute('href')))\n"
   ]
  },
  {
   "cell_type": "code",
   "execution_count": null,
   "id": "c20cdc73",
   "metadata": {},
   "outputs": [],
   "source": [
    "for i in prd_url:\n",
    "    "
   ]
  },
  {
   "cell_type": "code",
   "execution_count": null,
   "id": "a41b11e2",
   "metadata": {},
   "outputs": [],
   "source": []
  }
 ],
 "metadata": {
  "kernelspec": {
   "display_name": "Python 3",
   "language": "python",
   "name": "python3"
  },
  "language_info": {
   "codemirror_mode": {
    "name": "ipython",
    "version": 3
   },
   "file_extension": ".py",
   "mimetype": "text/x-python",
   "name": "python",
   "nbconvert_exporter": "python",
   "pygments_lexer": "ipython3",
   "version": "3.8.8"
  }
 },
 "nbformat": 4,
 "nbformat_minor": 5
}
