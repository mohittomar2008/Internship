{
 "cells": [
  {
   "cell_type": "code",
   "execution_count": 1,
   "id": "8adb01a9",
   "metadata": {},
   "outputs": [
    {
     "name": "stdout",
     "output_type": "stream",
     "text": [
      "Collecting seleniumNote: you may need to restart the kernel to use updated packages.\n",
      "  Downloading selenium-4.1.2-py3-none-any.whl (963 kB)\n",
      "Requirement already satisfied: urllib3[secure,socks]~=1.26 in c:\\users\\bank of america\\anaconda3\\lib\\site-packages (from selenium) (1.26.7)\n",
      "Collecting trio~=0.17\n",
      "  Downloading trio-0.20.0-py3-none-any.whl (359 kB)\n",
      "Collecting trio-websocket~=0.9\n",
      "  Downloading trio_websocket-0.9.2-py3-none-any.whl (16 kB)\n",
      "Requirement already satisfied: sortedcontainers in c:\\users\\bank of america\\anaconda3\\lib\\site-packages (from trio~=0.17->selenium) (2.4.0)\n",
      "Requirement already satisfied: cffi>=1.14 in c:\\users\\bank of america\\anaconda3\\lib\\site-packages (from trio~=0.17->selenium) (1.14.6)\n",
      "Requirement already satisfied: async-generator>=1.9 in c:\\users\\bank of america\\anaconda3\\lib\\site-packages (from trio~=0.17->selenium) (1.10)\n",
      "Collecting outcome\n",
      "  Downloading outcome-1.1.0-py2.py3-none-any.whl (9.7 kB)\n",
      "Requirement already satisfied: attrs>=19.2.0 in c:\\users\\bank of america\\anaconda3\\lib\\site-packages (from trio~=0.17->selenium) (21.2.0)\n",
      "Requirement already satisfied: idna in c:\\users\\bank of america\\anaconda3\\lib\\site-packages (from trio~=0.17->selenium) (3.2)\n",
      "Requirement already satisfied: sniffio in c:\\users\\bank of america\\anaconda3\\lib\\site-packages (from trio~=0.17->selenium) (1.2.0)\n",
      "Requirement already satisfied: pycparser in c:\\users\\bank of america\\anaconda3\\lib\\site-packages (from cffi>=1.14->trio~=0.17->selenium) (2.20)\n",
      "Collecting wsproto>=0.14\n",
      "  Downloading wsproto-1.1.0-py3-none-any.whl (24 kB)\n",
      "Requirement already satisfied: pyOpenSSL>=0.14 in c:\\users\\bank of america\\anaconda3\\lib\\site-packages (from urllib3[secure,socks]~=1.26->selenium) (21.0.0)\n",
      "Requirement already satisfied: cryptography>=1.3.4 in c:\\users\\bank of america\\anaconda3\\lib\\site-packages (from urllib3[secure,socks]~=1.26->selenium) (3.4.8)\n",
      "Requirement already satisfied: certifi in c:\\users\\bank of america\\anaconda3\\lib\\site-packages (from urllib3[secure,socks]~=1.26->selenium) (2021.10.8)\n",
      "Requirement already satisfied: PySocks!=1.5.7,<2.0,>=1.5.6 in c:\\users\\bank of america\\anaconda3\\lib\\site-packages (from urllib3[secure,socks]~=1.26->selenium) (1.7.1)\n",
      "Requirement already satisfied: six>=1.5.2 in c:\\users\\bank of america\\anaconda3\\lib\\site-packages (from pyOpenSSL>=0.14->urllib3[secure,socks]~=1.26->selenium) (1.16.0)\n",
      "Collecting h11<1,>=0.9.0\n",
      "  Downloading h11-0.13.0-py3-none-any.whl (58 kB)\n",
      "Installing collected packages: outcome, h11, wsproto, trio, trio-websocket, selenium\n",
      "Successfully installed h11-0.13.0 outcome-1.1.0 selenium-4.1.2 trio-0.20.0 trio-websocket-0.9.2 wsproto-1.1.0\n",
      "\n"
     ]
    }
   ],
   "source": [
    "pip install selenium"
   ]
  },
  {
   "cell_type": "code",
   "execution_count": 2,
   "id": "efcf1e5a",
   "metadata": {},
   "outputs": [],
   "source": [
    "# import libraraies\n",
    "\n",
    "import selenium\n",
    "from selenium import webdriver\n",
    "import pandas as pd\n",
    "import warnings\n",
    "warnings.filterwarnings('ignore')\n"
   ]
  },
  {
   "cell_type": "code",
   "execution_count": 3,
   "id": "b96c2242",
   "metadata": {},
   "outputs": [],
   "source": [
    "# lets connect to driver\n",
    "\n",
    "driver= webdriver.Chrome(r'C:\\Users\\Bank of America\\Downloads\\chromedriver_win32/chromedriver.exe')"
   ]
  },
  {
   "cell_type": "code",
   "execution_count": 4,
   "id": "55e5b8cf",
   "metadata": {},
   "outputs": [],
   "source": [
    "#driver= webdriver.Chrome('chromedriver.exe')# upload driver on jupyter root"
   ]
  },
  {
   "cell_type": "code",
   "execution_count": 5,
   "id": "314515f4",
   "metadata": {},
   "outputs": [],
   "source": [
    "url='https://www.naukri.com/'\n",
    "driver.get(url)"
   ]
  },
  {
   "cell_type": "raw",
   "id": "709bb059",
   "metadata": {},
   "source": [
    "\n",
    "\n",
    "1. Job Title   2. Company name    3. Location of Job    4. Experience required\n"
   ]
  },
  {
   "cell_type": "code",
   "execution_count": 9,
   "id": "c3c739d0",
   "metadata": {},
   "outputs": [
    {
     "data": {
      "text/plain": [
       "<selenium.webdriver.remote.webelement.WebElement (session=\"11669efaefe4c9ae89e339ed0ffed356\", element=\"1017b06d-733b-43fa-b291-462d0189117e\")>"
      ]
     },
     "execution_count": 9,
     "metadata": {},
     "output_type": "execute_result"
    }
   ],
   "source": [
    "# finding web element for search job bar using id\n",
    "\n",
    "search_job =driver.find_element_by_class_name(\"suggestor-input\")\n",
    "search_job"
   ]
  },
  {
   "cell_type": "code",
   "execution_count": 10,
   "id": "c2474fac",
   "metadata": {},
   "outputs": [],
   "source": [
    "# write on search bar:\n",
    "search_job.send_keys(\"Data Scientist\")"
   ]
  },
  {
   "cell_type": "code",
   "execution_count": 11,
   "id": "0f5c34d2",
   "metadata": {},
   "outputs": [
    {
     "data": {
      "text/plain": [
       "<selenium.webdriver.remote.webelement.WebElement (session=\"11669efaefe4c9ae89e339ed0ffed356\", element=\"db7991f2-adc9-49ed-b667-9dd348b09025\")>"
      ]
     },
     "execution_count": 11,
     "metadata": {},
     "output_type": "execute_result"
    }
   ],
   "source": [
    "# Finding web element for search location bar using absolute path\n",
    "\n",
    "search_location =driver.find_element_by_xpath( '/html/body/div/div[2]/div[3]/div/div/div[3]/div/div/div/input')\n",
    "search_location                                              "
   ]
  },
  {
   "cell_type": "code",
   "execution_count": 12,
   "id": "e8166580",
   "metadata": {},
   "outputs": [],
   "source": [
    "search_location.send_keys('Delhi')"
   ]
  },
  {
   "cell_type": "code",
   "execution_count": 13,
   "id": "803c5327",
   "metadata": {},
   "outputs": [
    {
     "data": {
      "text/plain": [
       "<selenium.webdriver.remote.webelement.WebElement (session=\"11669efaefe4c9ae89e339ed0ffed356\", element=\"6834996d-fe84-493b-a2c2-cbc6715c4458\")>"
      ]
     },
     "execution_count": 13,
     "metadata": {},
     "output_type": "execute_result"
    }
   ],
   "source": [
    "# CLick search button to search\n",
    "\n",
    "search_btn=driver.find_element_by_xpath(\"/html/body/div/div[2]/div[3]/div/div/div[6]\")\n",
    "search_btn"
   ]
  },
  {
   "cell_type": "code",
   "execution_count": 14,
   "id": "7cc8e913",
   "metadata": {},
   "outputs": [],
   "source": [
    "search_btn.click()"
   ]
  },
  {
   "cell_type": "markdown",
   "id": "1e24a403",
   "metadata": {},
   "source": [
    "Clicking filters by selection check boxes using absolute path"
   ]
  },
  {
   "cell_type": "code",
   "execution_count": 15,
   "id": "339729e3",
   "metadata": {},
   "outputs": [
    {
     "data": {
      "text/plain": [
       "<selenium.webdriver.remote.webelement.WebElement (session=\"11669efaefe4c9ae89e339ed0ffed356\", element=\"d47f7c3d-0261-4ea5-a60e-f38c2af5aca9\")>"
      ]
     },
     "execution_count": 15,
     "metadata": {},
     "output_type": "execute_result"
    }
   ],
   "source": [
    "salary_check=driver.find_element_by_xpath(\"/html/body/div[1]/div[3]/div[2]/section[1]/div[2]/div[4]/div[2]/div[1]/label/i \")\n",
    "salary_check"
   ]
  },
  {
   "cell_type": "code",
   "execution_count": 16,
   "id": "ee53b145",
   "metadata": {},
   "outputs": [],
   "source": [
    "salary_check.click()"
   ]
  },
  {
   "cell_type": "markdown",
   "id": "5d7dd0ba",
   "metadata": {},
   "source": [
    "Now lets first create 4 empty lists. in these list the data will be stored while scraping"
   ]
  },
  {
   "cell_type": "markdown",
   "id": "7ef0a414",
   "metadata": {},
   "source": [
    "# EXTRACTING JOB TITLES"
   ]
  },
  {
   "cell_type": "code",
   "execution_count": 28,
   "id": "ae6d1112",
   "metadata": {},
   "outputs": [
    {
     "data": {
      "text/plain": [
       "[<selenium.webdriver.remote.webelement.WebElement (session=\"11669efaefe4c9ae89e339ed0ffed356\", element=\"1305bcf6-878b-4e6f-b0b9-ea9b6b139e32\")>,\n",
       " <selenium.webdriver.remote.webelement.WebElement (session=\"11669efaefe4c9ae89e339ed0ffed356\", element=\"14c983e0-b183-4a6b-9460-4b94c6f00b58\")>]"
      ]
     },
     "execution_count": 28,
     "metadata": {},
     "output_type": "execute_result"
    }
   ],
   "source": [
    "# lETS EXTRACT ALL WEB ELEMENTS HAVING JOB TITLES\n",
    "\n",
    "\n",
    "title_tags=  driver.find_elements_by_xpath('//a[@class=\"title fw500 ellipsis\"]')\n",
    "len(title_tags)\n",
    "title_tags[0:2]"
   ]
  },
  {
   "cell_type": "code",
   "execution_count": 30,
   "id": "9e97dd82",
   "metadata": {},
   "outputs": [
    {
     "data": {
      "text/plain": [
       "19"
      ]
     },
     "execution_count": 30,
     "metadata": {},
     "output_type": "execute_result"
    }
   ],
   "source": [
    "job_titles=[]\n",
    "\n",
    "for i in title_tags:\n",
    "    job_titles.append(i.text)\n",
    "    \n",
    "len(job_titles)\n"
   ]
  },
  {
   "cell_type": "markdown",
   "id": "84250601",
   "metadata": {},
   "source": [
    "# Extracting Company name"
   ]
  },
  {
   "cell_type": "code",
   "execution_count": 36,
   "id": "08ce8fbe",
   "metadata": {},
   "outputs": [
    {
     "data": {
      "text/plain": [
       "19"
      ]
     },
     "execution_count": 36,
     "metadata": {},
     "output_type": "execute_result"
    }
   ],
   "source": [
    "company_tags= driver.find_elements_by_xpath('//a[@class=\"subTitle ellipsis fleft\"] ')\n",
    "len(company_tags)"
   ]
  },
  {
   "cell_type": "code",
   "execution_count": 38,
   "id": "89400948",
   "metadata": {},
   "outputs": [
    {
     "data": {
      "text/plain": [
       "['GABA Consultancy services', 'AddRec Solutions Pvt.Ltd.']"
      ]
     },
     "execution_count": 38,
     "metadata": {},
     "output_type": "execute_result"
    }
   ],
   "source": [
    "company_names=[]\n",
    "\n",
    "for i in company_tags:\n",
    "    company_names.append(i.text)\n",
    "    \n",
    "company_names[0:2]"
   ]
  },
  {
   "cell_type": "markdown",
   "id": "2e7bc8e5",
   "metadata": {},
   "source": [
    "# Extracting experience"
   ]
  },
  {
   "cell_type": "code",
   "execution_count": 64,
   "id": "47d76196",
   "metadata": {},
   "outputs": [],
   "source": [
    "# Lets extract all web elements having experience using parent tag  --> child\n",
    "\n",
    "exp_tags= driver.find_elements_by_xpath('//li[@class=\"fleft grey-text br2 placeHolderLi experience\"]/span')"
   ]
  },
  {
   "cell_type": "code",
   "execution_count": 65,
   "id": "fc421e22",
   "metadata": {},
   "outputs": [
    {
     "data": {
      "text/plain": [
       "['0-0 Yrs', '2-4 Yrs']"
      ]
     },
     "execution_count": 65,
     "metadata": {},
     "output_type": "execute_result"
    }
   ],
   "source": [
    "experience=[]\n",
    "\n",
    "for i in exp_tags:\n",
    "    experience.append(i.text)\n",
    "len(experience)    \n",
    "experience[0:2]"
   ]
  },
  {
   "cell_type": "markdown",
   "id": "f6901693",
   "metadata": {},
   "source": [
    "# Extracting location"
   ]
  },
  {
   "cell_type": "code",
   "execution_count": 57,
   "id": "c880f541",
   "metadata": {},
   "outputs": [
    {
     "data": {
      "text/plain": [
       "19"
      ]
     },
     "execution_count": 57,
     "metadata": {},
     "output_type": "execute_result"
    }
   ],
   "source": [
    "\n",
    "location_tag= driver.find_elements_by_xpath('//li[@class=\"fleft grey-text br2 placeHolderLi location\" ]')\n",
    "len(location_tag)"
   ]
  },
  {
   "cell_type": "code",
   "execution_count": 59,
   "id": "f28346a9",
   "metadata": {},
   "outputs": [
    {
     "data": {
      "text/plain": [
       "['Noida, New Delhi, Gurgaon/Gurugram', 'Gurgaon/Gurugram']"
      ]
     },
     "execution_count": 59,
     "metadata": {},
     "output_type": "execute_result"
    }
   ],
   "source": [
    "\n",
    "location=[]\n",
    "for i in location_tag:\n",
    "    location.append(i.text)\n",
    "    \n",
    "len(location)\n",
    "location[0:2]"
   ]
  },
  {
   "cell_type": "code",
   "execution_count": 60,
   "id": "02c7c543",
   "metadata": {},
   "outputs": [
    {
     "data": {
      "text/plain": [
       "(19, 19, 19, 19)"
      ]
     },
     "execution_count": 60,
     "metadata": {},
     "output_type": "execute_result"
    }
   ],
   "source": [
    "len(job_titles),len(company_names),len(experience),len(location)"
   ]
  },
  {
   "cell_type": "code",
   "execution_count": 61,
   "id": "08790d50",
   "metadata": {},
   "outputs": [],
   "source": [
    "jobs= pd.DataFrame()\n",
    "jobs['Job Titles']= job_titles\n",
    "jobs['Company Names']= company_names\n",
    "jobs['Experience']= experience\n",
    "jobs['Location']= location"
   ]
  },
  {
   "cell_type": "code",
   "execution_count": 62,
   "id": "e9ff97f9",
   "metadata": {},
   "outputs": [
    {
     "data": {
      "text/html": [
       "<div>\n",
       "<style scoped>\n",
       "    .dataframe tbody tr th:only-of-type {\n",
       "        vertical-align: middle;\n",
       "    }\n",
       "\n",
       "    .dataframe tbody tr th {\n",
       "        vertical-align: top;\n",
       "    }\n",
       "\n",
       "    .dataframe thead th {\n",
       "        text-align: right;\n",
       "    }\n",
       "</style>\n",
       "<table border=\"1\" class=\"dataframe\">\n",
       "  <thead>\n",
       "    <tr style=\"text-align: right;\">\n",
       "      <th></th>\n",
       "      <th>Job Titles</th>\n",
       "      <th>Company Names</th>\n",
       "      <th>Experience</th>\n",
       "      <th>Location</th>\n",
       "    </tr>\n",
       "  </thead>\n",
       "  <tbody>\n",
       "    <tr>\n",
       "      <th>0</th>\n",
       "      <td>Only Fresher / Python Data Scientist / Trainee...</td>\n",
       "      <td>GABA Consultancy services</td>\n",
       "      <td>0-0 Yrs</td>\n",
       "      <td>Noida, New Delhi, Gurgaon/Gurugram</td>\n",
       "    </tr>\n",
       "    <tr>\n",
       "      <th>1</th>\n",
       "      <td>Data Scientist</td>\n",
       "      <td>AddRec Solutions Pvt.Ltd.</td>\n",
       "      <td>2-4 Yrs</td>\n",
       "      <td>Gurgaon/Gurugram</td>\n",
       "    </tr>\n",
       "    <tr>\n",
       "      <th>2</th>\n",
       "      <td>Senior Data Scientist</td>\n",
       "      <td>DECISION POINT PRIVATE LIMITED</td>\n",
       "      <td>2-5 Yrs</td>\n",
       "      <td>Gurgaon/Gurugram, Chennai\\n(WFH during Covid)</td>\n",
       "    </tr>\n",
       "    <tr>\n",
       "      <th>3</th>\n",
       "      <td>Data Scientist - Immediate Joiners only</td>\n",
       "      <td>MLAI Digital</td>\n",
       "      <td>3-6 Yrs</td>\n",
       "      <td>Bangalore/Bengaluru, Delhi / NCR</td>\n",
       "    </tr>\n",
       "    <tr>\n",
       "      <th>4</th>\n",
       "      <td>Data Analyst / Data Scientist / Business Analy...</td>\n",
       "      <td>GABA Consultancy services</td>\n",
       "      <td>0-0 Yrs</td>\n",
       "      <td>Noida, New Delhi, Delhi / NCR</td>\n",
       "    </tr>\n",
       "    <tr>\n",
       "      <th>5</th>\n",
       "      <td>Data Scientist</td>\n",
       "      <td>CNH Industrial</td>\n",
       "      <td>1-6 Yrs</td>\n",
       "      <td>Gurgaon/Gurugram</td>\n",
       "    </tr>\n",
       "    <tr>\n",
       "      <th>6</th>\n",
       "      <td>Data Scientist</td>\n",
       "      <td>Gauge Data Solutions Pvt Ltd</td>\n",
       "      <td>2-7 Yrs</td>\n",
       "      <td>Noida</td>\n",
       "    </tr>\n",
       "    <tr>\n",
       "      <th>7</th>\n",
       "      <td>Data Scientist</td>\n",
       "      <td>Alp Consulting Limited</td>\n",
       "      <td>1-6 Yrs</td>\n",
       "      <td>Kolkata, Hyderabad/Secunderabad, Pune, Chennai...</td>\n",
       "    </tr>\n",
       "    <tr>\n",
       "      <th>8</th>\n",
       "      <td>Data Scientist</td>\n",
       "      <td>Cloudstrats Technologies Private Limited</td>\n",
       "      <td>3-5 Yrs</td>\n",
       "      <td>New Delhi, Delhi / NCR, Mumbai (All Areas)</td>\n",
       "    </tr>\n",
       "    <tr>\n",
       "      <th>9</th>\n",
       "      <td>Required! Data Scientist Executives</td>\n",
       "      <td>Web King Services</td>\n",
       "      <td>0-5 Yrs</td>\n",
       "      <td>Hyderabad/Secunderabad, Delhi / NCR\\n(WFH duri...</td>\n",
       "    </tr>\n",
       "    <tr>\n",
       "      <th>10</th>\n",
       "      <td>Data Scientist,Data Analyst</td>\n",
       "      <td>Maximus Human Resources Private Limited</td>\n",
       "      <td>1-6 Yrs</td>\n",
       "      <td>Mumbai, Gurgaon/Gurugram</td>\n",
       "    </tr>\n",
       "    <tr>\n",
       "      <th>11</th>\n",
       "      <td>Developers, Data Scientists, Web Designers, An...</td>\n",
       "      <td>Cogmac Technologies</td>\n",
       "      <td>1-5 Yrs</td>\n",
       "      <td>Noida</td>\n",
       "    </tr>\n",
       "    <tr>\n",
       "      <th>12</th>\n",
       "      <td>Senior Data Analyst 1</td>\n",
       "      <td>Axa XL</td>\n",
       "      <td>0-5 Yrs</td>\n",
       "      <td>Silokhera Gurgaon</td>\n",
       "    </tr>\n",
       "    <tr>\n",
       "      <th>13</th>\n",
       "      <td>Senior Marketing Data Analyst</td>\n",
       "      <td>Tide Software</td>\n",
       "      <td>0-4 Yrs</td>\n",
       "      <td>Gurgaon/Gurugram</td>\n",
       "    </tr>\n",
       "    <tr>\n",
       "      <th>14</th>\n",
       "      <td>Quality Analyst / Data Engineer / Associate An...</td>\n",
       "      <td>GABA Consultancy services</td>\n",
       "      <td>0-5 Yrs</td>\n",
       "      <td>Noida, New Delhi, Delhi / NCR</td>\n",
       "    </tr>\n",
       "    <tr>\n",
       "      <th>15</th>\n",
       "      <td>Senior Data Analyst</td>\n",
       "      <td>Grofers</td>\n",
       "      <td>4-7 Yrs</td>\n",
       "      <td>Gurgaon/Gurugram</td>\n",
       "    </tr>\n",
       "    <tr>\n",
       "      <th>16</th>\n",
       "      <td>Data Analyst</td>\n",
       "      <td>Analog Legalhub Technology Solutions Pvt Ltd</td>\n",
       "      <td>0-4 Yrs</td>\n",
       "      <td>New Delhi</td>\n",
       "    </tr>\n",
       "    <tr>\n",
       "      <th>17</th>\n",
       "      <td>Lead Data Analyst</td>\n",
       "      <td>Grofers</td>\n",
       "      <td>5-7 Yrs</td>\n",
       "      <td>Gurgaon/Gurugram</td>\n",
       "    </tr>\n",
       "    <tr>\n",
       "      <th>18</th>\n",
       "      <td>Data Analyst</td>\n",
       "      <td>Grofers</td>\n",
       "      <td>1-2 Yrs</td>\n",
       "      <td>Gurgaon/Gurugram, Bangalore/Bengaluru</td>\n",
       "    </tr>\n",
       "  </tbody>\n",
       "</table>\n",
       "</div>"
      ],
      "text/plain": [
       "                                           Job Titles  \\\n",
       "0   Only Fresher / Python Data Scientist / Trainee...   \n",
       "1                                      Data Scientist   \n",
       "2                               Senior Data Scientist   \n",
       "3             Data Scientist - Immediate Joiners only   \n",
       "4   Data Analyst / Data Scientist / Business Analy...   \n",
       "5                                      Data Scientist   \n",
       "6                                      Data Scientist   \n",
       "7                                      Data Scientist   \n",
       "8                                      Data Scientist   \n",
       "9                 Required! Data Scientist Executives   \n",
       "10                        Data Scientist,Data Analyst   \n",
       "11  Developers, Data Scientists, Web Designers, An...   \n",
       "12                              Senior Data Analyst 1   \n",
       "13                      Senior Marketing Data Analyst   \n",
       "14  Quality Analyst / Data Engineer / Associate An...   \n",
       "15                                Senior Data Analyst   \n",
       "16                                       Data Analyst   \n",
       "17                                  Lead Data Analyst   \n",
       "18                                       Data Analyst   \n",
       "\n",
       "                                   Company Names Experience  \\\n",
       "0                      GABA Consultancy services    0-0 Yrs   \n",
       "1                      AddRec Solutions Pvt.Ltd.    2-4 Yrs   \n",
       "2                 DECISION POINT PRIVATE LIMITED    2-5 Yrs   \n",
       "3                                   MLAI Digital    3-6 Yrs   \n",
       "4                      GABA Consultancy services    0-0 Yrs   \n",
       "5                                 CNH Industrial    1-6 Yrs   \n",
       "6                   Gauge Data Solutions Pvt Ltd    2-7 Yrs   \n",
       "7                         Alp Consulting Limited    1-6 Yrs   \n",
       "8       Cloudstrats Technologies Private Limited    3-5 Yrs   \n",
       "9                              Web King Services    0-5 Yrs   \n",
       "10       Maximus Human Resources Private Limited    1-6 Yrs   \n",
       "11                           Cogmac Technologies    1-5 Yrs   \n",
       "12                                        Axa XL    0-5 Yrs   \n",
       "13                                 Tide Software    0-4 Yrs   \n",
       "14                     GABA Consultancy services    0-5 Yrs   \n",
       "15                                       Grofers    4-7 Yrs   \n",
       "16  Analog Legalhub Technology Solutions Pvt Ltd    0-4 Yrs   \n",
       "17                                       Grofers    5-7 Yrs   \n",
       "18                                       Grofers    1-2 Yrs   \n",
       "\n",
       "                                             Location  \n",
       "0                  Noida, New Delhi, Gurgaon/Gurugram  \n",
       "1                                    Gurgaon/Gurugram  \n",
       "2       Gurgaon/Gurugram, Chennai\\n(WFH during Covid)  \n",
       "3                    Bangalore/Bengaluru, Delhi / NCR  \n",
       "4                       Noida, New Delhi, Delhi / NCR  \n",
       "5                                    Gurgaon/Gurugram  \n",
       "6                                               Noida  \n",
       "7   Kolkata, Hyderabad/Secunderabad, Pune, Chennai...  \n",
       "8          New Delhi, Delhi / NCR, Mumbai (All Areas)  \n",
       "9   Hyderabad/Secunderabad, Delhi / NCR\\n(WFH duri...  \n",
       "10                           Mumbai, Gurgaon/Gurugram  \n",
       "11                                              Noida  \n",
       "12                                  Silokhera Gurgaon  \n",
       "13                                   Gurgaon/Gurugram  \n",
       "14                      Noida, New Delhi, Delhi / NCR  \n",
       "15                                   Gurgaon/Gurugram  \n",
       "16                                          New Delhi  \n",
       "17                                   Gurgaon/Gurugram  \n",
       "18              Gurgaon/Gurugram, Bangalore/Bengaluru  "
      ]
     },
     "execution_count": 62,
     "metadata": {},
     "output_type": "execute_result"
    }
   ],
   "source": [
    "jobs"
   ]
  },
  {
   "cell_type": "markdown",
   "id": "692b46ad",
   "metadata": {},
   "source": [
    "# Q1: Write a python program to scrape data for “Data Analyst” Job position in “Bangalore” location. You have to scrape the job-title, job-location, company_name, experience_required. You have to scrape first 10 jobs data.\n",
    "This task will be done in following steps:\n",
    "1. First get the webpage https://www.naukri.com/\n",
    "2. Enter “Data Analyst” in “Skill, Designations, Companies” field and enter “Bangalore” in “enter the location” field.\n",
    "3. Then click the search button.\n",
    "4. Then scrape the data for the first 10 jobs results you get.\n",
    "5. Finally create a dataframe of the scraped data.\n",
    "Note: All of the above steps have to be done in code. No step is to be done manually."
   ]
  },
  {
   "cell_type": "code",
   "execution_count": 66,
   "id": "d0c8e212",
   "metadata": {},
   "outputs": [],
   "source": [
    "# import libraraies\n",
    "\n",
    "import selenium\n",
    "from selenium import webdriver\n",
    "import pandas as pd\n",
    "import warnings\n",
    "warnings.filterwarnings('ignore')\n"
   ]
  },
  {
   "cell_type": "code",
   "execution_count": 117,
   "id": "481484b1",
   "metadata": {},
   "outputs": [],
   "source": [
    "# lets connect to driver\n",
    "\n",
    "driver= webdriver.Chrome(r'C:\\Users\\Bank of America\\Downloads\\chromedriver_win32/chromedriver.exe')\n",
    "\n",
    "url='https://www.naukri.com/'\n",
    "driver.get(url)"
   ]
  },
  {
   "cell_type": "code",
   "execution_count": 118,
   "id": "a246b726",
   "metadata": {},
   "outputs": [],
   "source": [
    "# Find Search bar for Job , location and enter data\n",
    "search_job= driver.find_element_by_xpath('/html/body/div/div[2]/div[3]/div/div/div[1]/div/div/div/input')\n",
    "search_location= driver.find_element_by_xpath('/html/body/div/div[2]/div[3]/div/div/div[3]/div/div/div/input')\n",
    "search_job.send_keys('Data Analyst')\n",
    "search_location.send_keys('Bangalore')\n",
    "\n",
    "\n",
    "# Click search button\n",
    "search_button=driver.find_element_by_xpath('/html/body/div/div[2]/div[3]/div/div/div[6]')\n",
    "search_button.click()"
   ]
  },
  {
   "cell_type": "markdown",
   "id": "8004a422",
   "metadata": {},
   "source": [
    "# Find Job Title,  Job-Location , Company Name, Experience Required"
   ]
  },
  {
   "cell_type": "code",
   "execution_count": 119,
   "id": "25791644",
   "metadata": {},
   "outputs": [
    {
     "data": {
      "text/html": [
       "<div>\n",
       "<style scoped>\n",
       "    .dataframe tbody tr th:only-of-type {\n",
       "        vertical-align: middle;\n",
       "    }\n",
       "\n",
       "    .dataframe tbody tr th {\n",
       "        vertical-align: top;\n",
       "    }\n",
       "\n",
       "    .dataframe thead th {\n",
       "        text-align: right;\n",
       "    }\n",
       "</style>\n",
       "<table border=\"1\" class=\"dataframe\">\n",
       "  <thead>\n",
       "    <tr style=\"text-align: right;\">\n",
       "      <th></th>\n",
       "      <th>Job Title</th>\n",
       "      <th>Company</th>\n",
       "      <th>Location</th>\n",
       "      <th>Experience</th>\n",
       "    </tr>\n",
       "  </thead>\n",
       "  <tbody>\n",
       "    <tr>\n",
       "      <th>1</th>\n",
       "      <td>software developer &amp; Testing / Business Analys...</td>\n",
       "      <td>SECRET TECHNOLOGIES INDIA VMS GROUP</td>\n",
       "      <td>Pune, Bangalore/Bengaluru(Shivaji Nagar), Mumb...</td>\n",
       "      <td>0-4 Yrs</td>\n",
       "    </tr>\n",
       "    <tr>\n",
       "      <th>2</th>\n",
       "      <td>Data Analyst - IIM/ISB/MDI/FMS/SP Jain</td>\n",
       "      <td>K12 Techno Services Pvt Ltd</td>\n",
       "      <td>Bangalore/Bengaluru</td>\n",
       "      <td>4-9 Yrs</td>\n",
       "    </tr>\n",
       "    <tr>\n",
       "      <th>3</th>\n",
       "      <td>Senior Data Analyst</td>\n",
       "      <td>Mobile Premier League</td>\n",
       "      <td>Bangalore/Bengaluru</td>\n",
       "      <td>3-6 Yrs</td>\n",
       "    </tr>\n",
       "    <tr>\n",
       "      <th>4</th>\n",
       "      <td>Senior Data Analyst</td>\n",
       "      <td>Flipkart</td>\n",
       "      <td>Bangalore/Bengaluru</td>\n",
       "      <td>3-6 Yrs</td>\n",
       "    </tr>\n",
       "    <tr>\n",
       "      <th>5</th>\n",
       "      <td>Looking For Data Analyst</td>\n",
       "      <td>Trellance</td>\n",
       "      <td>Ahmedabad, Bangalore/Bengaluru</td>\n",
       "      <td>0-2 Yrs</td>\n",
       "    </tr>\n",
       "    <tr>\n",
       "      <th>6</th>\n",
       "      <td>Data Analyst || Advance Excel || D Limit || Co...</td>\n",
       "      <td>Inspiration Manpower Consultancy Pvt. Ltd.</td>\n",
       "      <td>Bangalore/Bengaluru</td>\n",
       "      <td>2-4 Yrs</td>\n",
       "    </tr>\n",
       "    <tr>\n",
       "      <th>7</th>\n",
       "      <td>Data Analyst (Python, SQL, Excel)</td>\n",
       "      <td>Flipkart</td>\n",
       "      <td>Bangalore/Bengaluru</td>\n",
       "      <td>5-7 Yrs</td>\n",
       "    </tr>\n",
       "    <tr>\n",
       "      <th>8</th>\n",
       "      <td>Staff Business Data Analyst - FDP</td>\n",
       "      <td>Intuit Inc.</td>\n",
       "      <td>Bangalore/Bengaluru</td>\n",
       "      <td>3-7 Yrs</td>\n",
       "    </tr>\n",
       "    <tr>\n",
       "      <th>9</th>\n",
       "      <td>Senior Data Analyst</td>\n",
       "      <td>Flipkart</td>\n",
       "      <td>Bangalore/Bengaluru</td>\n",
       "      <td>1-3 Yrs</td>\n",
       "    </tr>\n",
       "    <tr>\n",
       "      <th>10</th>\n",
       "      <td>Data Analyst</td>\n",
       "      <td>Capillary Technologies</td>\n",
       "      <td>Bangalore/Bengaluru</td>\n",
       "      <td>5-8 Yrs</td>\n",
       "    </tr>\n",
       "  </tbody>\n",
       "</table>\n",
       "</div>"
      ],
      "text/plain": [
       "                                            Job Title  \\\n",
       "1   software developer & Testing / Business Analys...   \n",
       "2              Data Analyst - IIM/ISB/MDI/FMS/SP Jain   \n",
       "3                                 Senior Data Analyst   \n",
       "4                                 Senior Data Analyst   \n",
       "5                            Looking For Data Analyst   \n",
       "6   Data Analyst || Advance Excel || D Limit || Co...   \n",
       "7                   Data Analyst (Python, SQL, Excel)   \n",
       "8                   Staff Business Data Analyst - FDP   \n",
       "9                                 Senior Data Analyst   \n",
       "10                                       Data Analyst   \n",
       "\n",
       "                                       Company  \\\n",
       "1          SECRET TECHNOLOGIES INDIA VMS GROUP   \n",
       "2                  K12 Techno Services Pvt Ltd   \n",
       "3                        Mobile Premier League   \n",
       "4                                     Flipkart   \n",
       "5                                    Trellance   \n",
       "6   Inspiration Manpower Consultancy Pvt. Ltd.   \n",
       "7                                     Flipkart   \n",
       "8                                  Intuit Inc.   \n",
       "9                                     Flipkart   \n",
       "10                      Capillary Technologies   \n",
       "\n",
       "                                             Location Experience  \n",
       "1   Pune, Bangalore/Bengaluru(Shivaji Nagar), Mumb...    0-4 Yrs  \n",
       "2                                 Bangalore/Bengaluru    4-9 Yrs  \n",
       "3                                 Bangalore/Bengaluru    3-6 Yrs  \n",
       "4                                 Bangalore/Bengaluru    3-6 Yrs  \n",
       "5                      Ahmedabad, Bangalore/Bengaluru    0-2 Yrs  \n",
       "6                                 Bangalore/Bengaluru    2-4 Yrs  \n",
       "7                                 Bangalore/Bengaluru    5-7 Yrs  \n",
       "8                                 Bangalore/Bengaluru    3-7 Yrs  \n",
       "9                                 Bangalore/Bengaluru    1-3 Yrs  \n",
       "10                                Bangalore/Bengaluru    5-8 Yrs  "
      ]
     },
     "execution_count": 119,
     "metadata": {},
     "output_type": "execute_result"
    }
   ],
   "source": [
    "title_tags= driver.find_elements_by_xpath('//a[@class=\"title fw500 ellipsis\"]')\n",
    "location_tags= driver.find_elements_by_xpath('//li[@class=\"fleft grey-text br2 placeHolderLi location\"]')\n",
    "company_tags= driver.find_elements_by_xpath('//a[@class=\"subTitle ellipsis fleft\"]')\n",
    "exp_tags= driver.find_elements_by_xpath('//li[@class=\"fleft grey-text br2 placeHolderLi experience\"]/span')\n",
    "\n",
    "title=[]\n",
    "location=[]\n",
    "company=[]\n",
    "exp=[]\n",
    "for i in title_tags:\n",
    "    title.append(i.text)\n",
    "for i in location_tags:\n",
    "    location.append(i.text)\n",
    "for i in company_tags:\n",
    "    company.append(i.text)\n",
    "for i in exp_tags:\n",
    "    exp.append(i.text)\n",
    "    \n",
    "    \n",
    "DataAnalyst=pd.DataFrame({'Job Title':title[0:10],'Company':company[0:10],'Location':location[0:10],'Experience':exp[0:10]})\n",
    "DataAnalyst.index +=1\n",
    "\n",
    "DataAnalyst"
   ]
  },
  {
   "cell_type": "code",
   "execution_count": null,
   "id": "a3adff5b",
   "metadata": {},
   "outputs": [],
   "source": []
  },
  {
   "cell_type": "markdown",
   "id": "df4e91c4",
   "metadata": {},
   "source": [
    "# Q2: Write a python program to scrape data for “Data Scientist” Job position in “Bangalore” location. You have to scrape the job-title, job-location, company_name. You have to scrape first 10 jobs data.\n",
    "This task will be done in following steps:\n",
    "1. First get the webpage https://www.naukri.com/\n",
    "2. Enter “Data Scientist” in “Skill, Designations, Companies” field and enter “Bangalore” in “enter the location” field.\n",
    "3. Then click the search button.\n",
    "4. Then scrape the data for the first 10 jobs results you get.\n",
    "5. Finally create a dataframe of the scraped data.\n",
    "Note: All of the above steps have to be done in code. No step is to be done manually."
   ]
  },
  {
   "cell_type": "code",
   "execution_count": 124,
   "id": "6f8bd241",
   "metadata": {},
   "outputs": [],
   "source": [
    "# import libraraies\n",
    "\n",
    "import selenium\n",
    "from selenium import webdriver\n",
    "import pandas as pd\n",
    "import warnings\n",
    "warnings.filterwarnings('ignore')"
   ]
  },
  {
   "cell_type": "code",
   "execution_count": 125,
   "id": "78ae6dda",
   "metadata": {},
   "outputs": [],
   "source": [
    "# lets connect to driver\n",
    "\n",
    "driver= webdriver.Chrome(r'C:\\Users\\Bank of America\\Downloads\\chromedriver_win32/chromedriver.exe')\n",
    "\n",
    "url='https://www.naukri.com/'\n",
    "driver.get(url)"
   ]
  },
  {
   "cell_type": "code",
   "execution_count": 126,
   "id": "134fff6c",
   "metadata": {},
   "outputs": [],
   "source": [
    "# Find Search bar for Job , location and enter data\n",
    "search_job= driver.find_element_by_xpath('/html/body/div/div[2]/div[3]/div/div/div[1]/div/div/div/input')\n",
    "search_location= driver.find_element_by_xpath('/html/body/div/div[2]/div[3]/div/div/div[3]/div/div/div/input')\n",
    "search_job.send_keys('Data Scientist')\n",
    "search_location.send_keys('Bangalore')\n",
    "\n",
    "\n",
    "# Click search button\n",
    "search_button=driver.find_element_by_xpath('/html/body/div/div[2]/div[3]/div/div/div[6]')\n",
    "search_button.click()"
   ]
  },
  {
   "cell_type": "code",
   "execution_count": 127,
   "id": "bab74366",
   "metadata": {},
   "outputs": [
    {
     "data": {
      "text/html": [
       "<div>\n",
       "<style scoped>\n",
       "    .dataframe tbody tr th:only-of-type {\n",
       "        vertical-align: middle;\n",
       "    }\n",
       "\n",
       "    .dataframe tbody tr th {\n",
       "        vertical-align: top;\n",
       "    }\n",
       "\n",
       "    .dataframe thead th {\n",
       "        text-align: right;\n",
       "    }\n",
       "</style>\n",
       "<table border=\"1\" class=\"dataframe\">\n",
       "  <thead>\n",
       "    <tr style=\"text-align: right;\">\n",
       "      <th></th>\n",
       "      <th>Job Title</th>\n",
       "      <th>Company</th>\n",
       "      <th>Location</th>\n",
       "    </tr>\n",
       "  </thead>\n",
       "  <tbody>\n",
       "    <tr>\n",
       "      <th>1</th>\n",
       "      <td>Data Scientist / Analyst</td>\n",
       "      <td>open data fabric</td>\n",
       "      <td>Bangalore/Bengaluru</td>\n",
       "    </tr>\n",
       "    <tr>\n",
       "      <th>2</th>\n",
       "      <td>Forecasting Analyst/ Data Scientist (US Client)</td>\n",
       "      <td>Concentrix</td>\n",
       "      <td>Gurgaon/Gurugram, Bangalore/Bengaluru\\n(WFH du...</td>\n",
       "    </tr>\n",
       "    <tr>\n",
       "      <th>3</th>\n",
       "      <td>Excellent Opportunity For Freshers For AI/ML, ...</td>\n",
       "      <td>NTT Data</td>\n",
       "      <td>Noida, Kolkata, Hyderabad/Secunderabad, Pune, ...</td>\n",
       "    </tr>\n",
       "    <tr>\n",
       "      <th>4</th>\n",
       "      <td>Data Scientist</td>\n",
       "      <td>Amazon</td>\n",
       "      <td>Hyderabad/Secunderabad, Pune, Bangalore/Bengaluru</td>\n",
       "    </tr>\n",
       "    <tr>\n",
       "      <th>5</th>\n",
       "      <td>Data Scientist</td>\n",
       "      <td>Hewlett-Packard (HP)</td>\n",
       "      <td>Bangalore/Bengaluru</td>\n",
       "    </tr>\n",
       "    <tr>\n",
       "      <th>6</th>\n",
       "      <td>Senior Data Scientist</td>\n",
       "      <td>newscorp</td>\n",
       "      <td>Bangalore/Bengaluru</td>\n",
       "    </tr>\n",
       "    <tr>\n",
       "      <th>7</th>\n",
       "      <td>Data Scientist II- Merchandise &amp; Discovery</td>\n",
       "      <td>Swiggy</td>\n",
       "      <td>Bangalore/Bengaluru</td>\n",
       "    </tr>\n",
       "    <tr>\n",
       "      <th>8</th>\n",
       "      <td>Virtusa Hiring DATA Scientist- PAN India</td>\n",
       "      <td>Virtusa</td>\n",
       "      <td>Hyderabad/Secunderabad, Pune, Gurgaon/Gurugram...</td>\n",
       "    </tr>\n",
       "    <tr>\n",
       "      <th>9</th>\n",
       "      <td>Sr. Product Data Scientist</td>\n",
       "      <td>Uber</td>\n",
       "      <td>Bangalore/Bengaluru</td>\n",
       "    </tr>\n",
       "    <tr>\n",
       "      <th>10</th>\n",
       "      <td>Data Scientist/Senior Data Scientist - Python</td>\n",
       "      <td>ApicalGo Consultancy</td>\n",
       "      <td>Bangalore/Bengaluru</td>\n",
       "    </tr>\n",
       "  </tbody>\n",
       "</table>\n",
       "</div>"
      ],
      "text/plain": [
       "                                            Job Title               Company  \\\n",
       "1                            Data Scientist / Analyst      open data fabric   \n",
       "2     Forecasting Analyst/ Data Scientist (US Client)            Concentrix   \n",
       "3   Excellent Opportunity For Freshers For AI/ML, ...              NTT Data   \n",
       "4                                      Data Scientist                Amazon   \n",
       "5                                      Data Scientist  Hewlett-Packard (HP)   \n",
       "6                               Senior Data Scientist              newscorp   \n",
       "7          Data Scientist II- Merchandise & Discovery                Swiggy   \n",
       "8            Virtusa Hiring DATA Scientist- PAN India               Virtusa   \n",
       "9                          Sr. Product Data Scientist                  Uber   \n",
       "10      Data Scientist/Senior Data Scientist - Python  ApicalGo Consultancy   \n",
       "\n",
       "                                             Location  \n",
       "1                                 Bangalore/Bengaluru  \n",
       "2   Gurgaon/Gurugram, Bangalore/Bengaluru\\n(WFH du...  \n",
       "3   Noida, Kolkata, Hyderabad/Secunderabad, Pune, ...  \n",
       "4   Hyderabad/Secunderabad, Pune, Bangalore/Bengaluru  \n",
       "5                                 Bangalore/Bengaluru  \n",
       "6                                 Bangalore/Bengaluru  \n",
       "7                                 Bangalore/Bengaluru  \n",
       "8   Hyderabad/Secunderabad, Pune, Gurgaon/Gurugram...  \n",
       "9                                 Bangalore/Bengaluru  \n",
       "10                                Bangalore/Bengaluru  "
      ]
     },
     "execution_count": 127,
     "metadata": {},
     "output_type": "execute_result"
    }
   ],
   "source": [
    "title_tags= driver.find_elements_by_xpath('//a[@class=\"title fw500 ellipsis\"]')\n",
    "location_tags= driver.find_elements_by_xpath('//li[@class=\"fleft grey-text br2 placeHolderLi location\"]')\n",
    "company_tags= driver.find_elements_by_xpath('//a[@class=\"subTitle ellipsis fleft\"]')\n",
    "\n",
    "\n",
    "title=[]\n",
    "location=[]\n",
    "company=[]\n",
    "\n",
    "for i in title_tags:\n",
    "    title.append(i.text)\n",
    "for i in location_tags:\n",
    "    location.append(i.text)\n",
    "for i in company_tags:\n",
    "    company.append(i.text)\n",
    "\n",
    "    \n",
    "    \n",
    "DataAnalyst=pd.DataFrame({'Job Title':title[0:10],'Company':company[0:10],'Location':location[0:10]})\n",
    "DataAnalyst.index +=1\n",
    "\n",
    "DataAnalyst"
   ]
  },
  {
   "cell_type": "markdown",
   "id": "53d7ad4c",
   "metadata": {},
   "source": [
    "# Q3: In this question you have to scrape data using the filters available on the webpage as shown below:\n",
    "\n",
    "You have to use the location and salary filter.\n",
    "You have to scrape data for “Data Scientist” designation for first 10 job results.\n",
    "You have to scrape the job-title, job-location, company name, experience required. The location filter to be used is “Delhi/NCR”. The salary filter to be used is “3-6” lakhs\n",
    "The task will be done as shown in the below steps:\n",
    "1. first get the webpage https://www.naukri.com/\n",
    "2. Enter “Data Scientist” in “Skill, Designations, and Companies” field.\n",
    "3. Then click the search button.\n",
    "4. Then apply the location filter and salary filter by checking the respective boxes\n",
    "5. Then scrape the data for the first 10 jobs results you get.\n",
    "6. Finally create a dataframe of the scraped data.\n",
    "Note: All of the above steps have to be done in code. No step is to be done manually."
   ]
  },
  {
   "cell_type": "code",
   "execution_count": 138,
   "id": "a8b6e923",
   "metadata": {},
   "outputs": [],
   "source": [
    "# import libraraies\n",
    "\n",
    "import selenium\n",
    "from selenium import webdriver\n",
    "import pandas as pd\n",
    "import warnings\n",
    "warnings.filterwarnings('ignore')"
   ]
  },
  {
   "cell_type": "code",
   "execution_count": 139,
   "id": "312e491c",
   "metadata": {},
   "outputs": [],
   "source": [
    "# lets connect to driver\n",
    "\n",
    "driver= webdriver.Chrome(r'C:\\Users\\Bank of America\\Downloads\\chromedriver_win32/chromedriver.exe')\n",
    "\n",
    "url='https://www.naukri.com/'\n",
    "driver.get(url)"
   ]
  },
  {
   "cell_type": "code",
   "execution_count": 140,
   "id": "3f3782a9",
   "metadata": {},
   "outputs": [],
   "source": [
    "# Find Search bar for Job , location and enter data\n",
    "search_job= driver.find_element_by_xpath('/html/body/div/div[2]/div[3]/div/div/div[1]/div/div/div/input')\n",
    "search_job.send_keys('Data Scientist')\n",
    "\n",
    "# Click search button\n",
    "search_button=driver.find_element_by_xpath('/html/body/div/div[2]/div[3]/div/div/div[6]')\n",
    "search_button.click()"
   ]
  },
  {
   "cell_type": "code",
   "execution_count": 141,
   "id": "71ff0e5f",
   "metadata": {},
   "outputs": [],
   "source": [
    "# Check on the location 'Delhi/NCR'\n",
    "location_check= driver.find_element_by_xpath('/html/body/div[1]/div[3]/div[2]/section[1]/div[2]/div[3]/div[2]/div[3]/label/i')\n",
    "location_check.click()\n"
   ]
  },
  {
   "cell_type": "code",
   "execution_count": 142,
   "id": "f54d8eb0",
   "metadata": {},
   "outputs": [],
   "source": [
    "# Check on the salary range  3-6 Lakhs\n",
    "\n",
    "salary_check= driver.find_element_by_xpath('/html/body/div[1]/div[3]/div[2]/section[1]/div[2]/div[4]/div[2]/div[2]/label/i')\n",
    "salary_check.click()"
   ]
  },
  {
   "cell_type": "code",
   "execution_count": 143,
   "id": "89f140cf",
   "metadata": {},
   "outputs": [
    {
     "data": {
      "text/html": [
       "<div>\n",
       "<style scoped>\n",
       "    .dataframe tbody tr th:only-of-type {\n",
       "        vertical-align: middle;\n",
       "    }\n",
       "\n",
       "    .dataframe tbody tr th {\n",
       "        vertical-align: top;\n",
       "    }\n",
       "\n",
       "    .dataframe thead th {\n",
       "        text-align: right;\n",
       "    }\n",
       "</style>\n",
       "<table border=\"1\" class=\"dataframe\">\n",
       "  <thead>\n",
       "    <tr style=\"text-align: right;\">\n",
       "      <th></th>\n",
       "      <th>Job Title</th>\n",
       "      <th>Company</th>\n",
       "      <th>Location</th>\n",
       "      <th>Experience</th>\n",
       "    </tr>\n",
       "  </thead>\n",
       "  <tbody>\n",
       "    <tr>\n",
       "      <th>1</th>\n",
       "      <td>Excellent Opportunity For Freshers For AI/ML, ...</td>\n",
       "      <td>NTT Data</td>\n",
       "      <td>Noida, Kolkata, Hyderabad/Secunderabad, Pune, ...</td>\n",
       "      <td>0-0 Yrs</td>\n",
       "    </tr>\n",
       "    <tr>\n",
       "      <th>2</th>\n",
       "      <td>Junior Data Analyst/ Scientist- Fresher Position</td>\n",
       "      <td>Sejal Consulting Hub</td>\n",
       "      <td>Kolkata, Hyderabad/Secunderabad, Pune, Ahmedab...</td>\n",
       "      <td>0-3 Yrs</td>\n",
       "    </tr>\n",
       "    <tr>\n",
       "      <th>3</th>\n",
       "      <td>Only Fresher / Python Data Scientist / Trainee...</td>\n",
       "      <td>GABA Consultancy services</td>\n",
       "      <td>Noida, New Delhi, Gurgaon/Gurugram</td>\n",
       "      <td>0-0 Yrs</td>\n",
       "    </tr>\n",
       "    <tr>\n",
       "      <th>4</th>\n",
       "      <td>Lead Data Scientist</td>\n",
       "      <td>Indihire HR Consultants Private Limited</td>\n",
       "      <td>Delhi / NCR\\n(WFH during Covid)</td>\n",
       "      <td>2-4 Yrs</td>\n",
       "    </tr>\n",
       "    <tr>\n",
       "      <th>5</th>\n",
       "      <td>Data Scientist</td>\n",
       "      <td>Optum</td>\n",
       "      <td>Noida, Gurgaon/Gurugram</td>\n",
       "      <td>2-6 Yrs</td>\n",
       "    </tr>\n",
       "    <tr>\n",
       "      <th>6</th>\n",
       "      <td>Data Scientist - MIND Infotech</td>\n",
       "      <td>MOTHERSONSUMI INFOTECH &amp; DESIGNS LIMITED</td>\n",
       "      <td>Noida</td>\n",
       "      <td>4-8 Yrs</td>\n",
       "    </tr>\n",
       "    <tr>\n",
       "      <th>7</th>\n",
       "      <td>Data Scientist - MIND Infotech</td>\n",
       "      <td>MOTHERSONSUMI INFOTECH &amp; DESIGNS LIMITED</td>\n",
       "      <td>Noida</td>\n",
       "      <td>4-8 Yrs</td>\n",
       "    </tr>\n",
       "    <tr>\n",
       "      <th>8</th>\n",
       "      <td>Hiring For Data Scientist</td>\n",
       "      <td>Lumiq.ai</td>\n",
       "      <td>Noida, Pune, Mumbai (All Areas)</td>\n",
       "      <td>2-7 Yrs</td>\n",
       "    </tr>\n",
       "    <tr>\n",
       "      <th>9</th>\n",
       "      <td>Open Project | IT Consulting | Data Scientist</td>\n",
       "      <td>Virtuoso Staffing Solutions Pvt Ltd</td>\n",
       "      <td>Noida, New Delhi, Bangalore Rural, Bangalore/B...</td>\n",
       "      <td>5-10 Yrs</td>\n",
       "    </tr>\n",
       "    <tr>\n",
       "      <th>10</th>\n",
       "      <td>Urgent Requirement || Data Scientist || Noida</td>\n",
       "      <td>HCL</td>\n",
       "      <td>Noida, Delhi / NCR</td>\n",
       "      <td>3-8 Yrs</td>\n",
       "    </tr>\n",
       "  </tbody>\n",
       "</table>\n",
       "</div>"
      ],
      "text/plain": [
       "                                            Job Title  \\\n",
       "1   Excellent Opportunity For Freshers For AI/ML, ...   \n",
       "2    Junior Data Analyst/ Scientist- Fresher Position   \n",
       "3   Only Fresher / Python Data Scientist / Trainee...   \n",
       "4                                 Lead Data Scientist   \n",
       "5                                      Data Scientist   \n",
       "6                      Data Scientist - MIND Infotech   \n",
       "7                      Data Scientist - MIND Infotech   \n",
       "8                           Hiring For Data Scientist   \n",
       "9       Open Project | IT Consulting | Data Scientist   \n",
       "10      Urgent Requirement || Data Scientist || Noida   \n",
       "\n",
       "                                     Company  \\\n",
       "1                                   NTT Data   \n",
       "2                       Sejal Consulting Hub   \n",
       "3                  GABA Consultancy services   \n",
       "4    Indihire HR Consultants Private Limited   \n",
       "5                                      Optum   \n",
       "6   MOTHERSONSUMI INFOTECH & DESIGNS LIMITED   \n",
       "7   MOTHERSONSUMI INFOTECH & DESIGNS LIMITED   \n",
       "8                                   Lumiq.ai   \n",
       "9        Virtuoso Staffing Solutions Pvt Ltd   \n",
       "10                                       HCL   \n",
       "\n",
       "                                             Location Experience  \n",
       "1   Noida, Kolkata, Hyderabad/Secunderabad, Pune, ...    0-0 Yrs  \n",
       "2   Kolkata, Hyderabad/Secunderabad, Pune, Ahmedab...    0-3 Yrs  \n",
       "3                  Noida, New Delhi, Gurgaon/Gurugram    0-0 Yrs  \n",
       "4                     Delhi / NCR\\n(WFH during Covid)    2-4 Yrs  \n",
       "5                             Noida, Gurgaon/Gurugram    2-6 Yrs  \n",
       "6                                               Noida    4-8 Yrs  \n",
       "7                                               Noida    4-8 Yrs  \n",
       "8                     Noida, Pune, Mumbai (All Areas)    2-7 Yrs  \n",
       "9   Noida, New Delhi, Bangalore Rural, Bangalore/B...   5-10 Yrs  \n",
       "10                                 Noida, Delhi / NCR    3-8 Yrs  "
      ]
     },
     "execution_count": 143,
     "metadata": {},
     "output_type": "execute_result"
    }
   ],
   "source": [
    "title_tags= driver.find_elements_by_xpath('//a[@class=\"title fw500 ellipsis\"]')\n",
    "location_tags= driver.find_elements_by_xpath('//li[@class=\"fleft grey-text br2 placeHolderLi location\"]')\n",
    "company_tags= driver.find_elements_by_xpath('//a[@class=\"subTitle ellipsis fleft\"]')\n",
    "exp_tags= driver.find_elements_by_xpath('//li[@class=\"fleft grey-text br2 placeHolderLi experience\"]/span')\n",
    "\n",
    "title=[]\n",
    "location=[]\n",
    "company=[]\n",
    "exp=[]\n",
    "for i in title_tags:\n",
    "    title.append(i.text)\n",
    "for i in location_tags:\n",
    "    location.append(i.text)\n",
    "for i in company_tags:\n",
    "    company.append(i.text)\n",
    "for i in exp_tags:\n",
    "    exp.append(i.text)\n",
    "    \n",
    "    \n",
    "DataAnalyst=pd.DataFrame({'Job Title':title[0:10],'Company':company[0:10],'Location':location[0:10],'Experience':exp[0:10]})\n",
    "DataAnalyst.index +=1\n",
    "\n",
    "DataAnalyst"
   ]
  },
  {
   "cell_type": "markdown",
   "id": "02329e8e",
   "metadata": {},
   "source": [
    "# Q4: Scrape data of first 100 sunglasses listings on flipkart.com. You have to scrape four attributes:\n",
    "1. Brand\n",
    "2. Product Description\n",
    "3. Price\n",
    "\n",
    "The attributes which you have to scrape is ticked marked in the below image.\n",
    "To scrape the data you have to go through following steps:\n",
    "1. Go to Flipkart webpage by url : https://www.flipkart.com/\n",
    "2. Enter “sunglasses” in the search field where “search for products, brands andmore” is written and click the search icon\n",
    "3. After that you will reach to the page having a lot of sunglasses. From this pageyou can scrap the required data as usual\n",
    "4. After scraping data from the first page, go to the “Next” Button at the bottom ofthe page , then click on it.\n",
    "5. Now scrape data from this page as usual\n",
    "6. Repeat this until you get data for 100 sunglasses"
   ]
  },
  {
   "cell_type": "code",
   "execution_count": 537,
   "id": "3289db16",
   "metadata": {},
   "outputs": [],
   "source": [
    "# import libraraies\n",
    "\n",
    "import selenium\n",
    "from selenium import webdriver\n",
    "import pandas as pd\n",
    "import warnings\n",
    "warnings.filterwarnings('ignore')"
   ]
  },
  {
   "cell_type": "code",
   "execution_count": 538,
   "id": "4f63f254",
   "metadata": {},
   "outputs": [],
   "source": [
    "# lets connect to driver\n",
    "\n",
    "driver= webdriver.Chrome(r'C:\\Users\\Bank of America\\Downloads\\chromedriver_win32/chromedriver.exe')\n",
    "\n",
    "url='https://www.flipkart.com/'\n",
    "driver.get(url)"
   ]
  },
  {
   "cell_type": "code",
   "execution_count": 539,
   "id": "73eb5418",
   "metadata": {},
   "outputs": [],
   "source": [
    "# Close Login page\n",
    "login_page= driver.find_element_by_xpath('/html/body/div[2]/div/div/button')\n",
    "login_page.click()"
   ]
  },
  {
   "cell_type": "code",
   "execution_count": 540,
   "id": "cb18bc47",
   "metadata": {},
   "outputs": [],
   "source": [
    "# Find Search bar for Job , location and enter data\n",
    "search_bar= driver.find_element_by_xpath('/html/body/div[1]/div/div[1]/div[1]/div[2]/div[2]/form/div/div/input')\n",
    "search_bar.send_keys('Sunglasses')\n",
    "\n"
   ]
  },
  {
   "cell_type": "code",
   "execution_count": 541,
   "id": "d077b55c",
   "metadata": {},
   "outputs": [],
   "source": [
    "# Click search button\n",
    "search_button=driver.find_element_by_xpath('/html/body/div[1]/div/div[1]/div[1]/div[2]/div[2]/form/div/button')\n",
    "search_button.click()"
   ]
  },
  {
   "cell_type": "code",
   "execution_count": 553,
   "id": "2eb670bf",
   "metadata": {},
   "outputs": [],
   "source": []
  },
  {
   "cell_type": "code",
   "execution_count": 560,
   "id": "dc22492c",
   "metadata": {},
   "outputs": [],
   "source": [
    "brand=[]\n",
    "product=[]\n",
    "price=[]\n",
    "discount=[]\n",
    "\n",
    "for i in range(1,4):\n",
    "    url='https://www.flipkart.com/search?q=Sunglasses&otracker=search&otracker1=search&marketplace=FLIPKART&as-show=on&as=off&page='+str(i)\n",
    "    driver.get(url)\n",
    "    brand_tags= driver.find_elements_by_xpath('//div[@class=\"_2WkVRV\"]')\n",
    "    product_tags= driver.find_elements_by_xpath('//div[@class=\"_2B099V\"]')\n",
    "    price_tags= driver.find_elements_by_xpath('//div[@class=\"_30jeq3\"] ')\n",
    "    discount_tags= driver.find_elements_by_xpath('//div[@class=\"_3Ay6Sb\"]')\n",
    "    \n",
    "    for i in brand_tags:\n",
    "        brand.append(i.text)\n",
    "    for i in product_tags:\n",
    "        product.append(i.text)            \n",
    "    for i in price_tags:\n",
    "        price.append(i.text.replace('₹',''))\n",
    "    for i in discount_tags:\n",
    "        discount.append(i.text[0:2])\n",
    "        "
   ]
  },
  {
   "cell_type": "code",
   "execution_count": 561,
   "id": "e0a06786",
   "metadata": {},
   "outputs": [],
   "source": [
    "# Extract Product details from parent class\n",
    "Product=[]\n",
    "for i in product:\n",
    "    Product.append(i.split('\\n')[1])\n",
    "    "
   ]
  },
  {
   "cell_type": "code",
   "execution_count": 562,
   "id": "ce40ed68",
   "metadata": {},
   "outputs": [
    {
     "data": {
      "text/plain": [
       "(120, 120, 120, 120)"
      ]
     },
     "execution_count": 562,
     "metadata": {},
     "output_type": "execute_result"
    }
   ],
   "source": [
    "len(brand), len(product),len(price),len(discount)"
   ]
  },
  {
   "cell_type": "code",
   "execution_count": 565,
   "id": "84191502",
   "metadata": {},
   "outputs": [
    {
     "data": {
      "text/html": [
       "<div>\n",
       "<style scoped>\n",
       "    .dataframe tbody tr th:only-of-type {\n",
       "        vertical-align: middle;\n",
       "    }\n",
       "\n",
       "    .dataframe tbody tr th {\n",
       "        vertical-align: top;\n",
       "    }\n",
       "\n",
       "    .dataframe thead th {\n",
       "        text-align: right;\n",
       "    }\n",
       "</style>\n",
       "<table border=\"1\" class=\"dataframe\">\n",
       "  <thead>\n",
       "    <tr style=\"text-align: right;\">\n",
       "      <th></th>\n",
       "      <th>Brand</th>\n",
       "      <th>Product</th>\n",
       "      <th>Price</th>\n",
       "      <th>Discount</th>\n",
       "    </tr>\n",
       "  </thead>\n",
       "  <tbody>\n",
       "    <tr>\n",
       "      <th>1</th>\n",
       "      <td>SRPM</td>\n",
       "      <td>UV Protection Wayfarer Sunglasses (50)</td>\n",
       "      <td>148</td>\n",
       "      <td>88</td>\n",
       "    </tr>\n",
       "    <tr>\n",
       "      <th>2</th>\n",
       "      <td>SUNBEE</td>\n",
       "      <td>UV Protection, Polarized Wayfarer Sunglasses (...</td>\n",
       "      <td>193</td>\n",
       "      <td>85</td>\n",
       "    </tr>\n",
       "    <tr>\n",
       "      <th>3</th>\n",
       "      <td>Elligator</td>\n",
       "      <td>UV Protection Round Sunglasses (54)</td>\n",
       "      <td>208</td>\n",
       "      <td>91</td>\n",
       "    </tr>\n",
       "    <tr>\n",
       "      <th>4</th>\n",
       "      <td>PIRASO</td>\n",
       "      <td>UV Protection Aviator Sunglasses (54)</td>\n",
       "      <td>179</td>\n",
       "      <td>88</td>\n",
       "    </tr>\n",
       "    <tr>\n",
       "      <th>5</th>\n",
       "      <td>Fastrack</td>\n",
       "      <td>Gradient, UV Protection Wayfarer Sunglasses (F...</td>\n",
       "      <td>629</td>\n",
       "      <td>21</td>\n",
       "    </tr>\n",
       "    <tr>\n",
       "      <th>...</th>\n",
       "      <td>...</td>\n",
       "      <td>...</td>\n",
       "      <td>...</td>\n",
       "      <td>...</td>\n",
       "    </tr>\n",
       "    <tr>\n",
       "      <th>96</th>\n",
       "      <td>ROYAL SON</td>\n",
       "      <td>Mirrored Aviator Sunglasses (58)</td>\n",
       "      <td>329</td>\n",
       "      <td>78</td>\n",
       "    </tr>\n",
       "    <tr>\n",
       "      <th>97</th>\n",
       "      <td>ROYAL SON</td>\n",
       "      <td>UV Protection Retro Square Sunglasses (58)</td>\n",
       "      <td>424</td>\n",
       "      <td>71</td>\n",
       "    </tr>\n",
       "    <tr>\n",
       "      <th>98</th>\n",
       "      <td>PIRASO</td>\n",
       "      <td>Mirrored Aviator Sunglasses (32)</td>\n",
       "      <td>149</td>\n",
       "      <td>90</td>\n",
       "    </tr>\n",
       "    <tr>\n",
       "      <th>99</th>\n",
       "      <td>Fastrack</td>\n",
       "      <td>UV Protection Aviator Sunglasses (58)</td>\n",
       "      <td>1,119</td>\n",
       "      <td>13</td>\n",
       "    </tr>\n",
       "    <tr>\n",
       "      <th>100</th>\n",
       "      <td>New Specs</td>\n",
       "      <td>UV Protection Rectangular Sunglasses (Free Size)</td>\n",
       "      <td>113</td>\n",
       "      <td>92</td>\n",
       "    </tr>\n",
       "  </tbody>\n",
       "</table>\n",
       "<p>100 rows × 4 columns</p>\n",
       "</div>"
      ],
      "text/plain": [
       "         Brand                                            Product  Price  \\\n",
       "1         SRPM             UV Protection Wayfarer Sunglasses (50)    148   \n",
       "2       SUNBEE  UV Protection, Polarized Wayfarer Sunglasses (...    193   \n",
       "3    Elligator                UV Protection Round Sunglasses (54)    208   \n",
       "4       PIRASO              UV Protection Aviator Sunglasses (54)    179   \n",
       "5     Fastrack  Gradient, UV Protection Wayfarer Sunglasses (F...    629   \n",
       "..         ...                                                ...    ...   \n",
       "96   ROYAL SON                   Mirrored Aviator Sunglasses (58)    329   \n",
       "97   ROYAL SON         UV Protection Retro Square Sunglasses (58)    424   \n",
       "98      PIRASO                   Mirrored Aviator Sunglasses (32)    149   \n",
       "99    Fastrack              UV Protection Aviator Sunglasses (58)  1,119   \n",
       "100  New Specs   UV Protection Rectangular Sunglasses (Free Size)    113   \n",
       "\n",
       "    Discount  \n",
       "1         88  \n",
       "2         85  \n",
       "3         91  \n",
       "4         88  \n",
       "5         21  \n",
       "..       ...  \n",
       "96        78  \n",
       "97        71  \n",
       "98        90  \n",
       "99        13  \n",
       "100       92  \n",
       "\n",
       "[100 rows x 4 columns]"
      ]
     },
     "execution_count": 565,
     "metadata": {},
     "output_type": "execute_result"
    }
   ],
   "source": [
    "Sunglass=pd.DataFrame({'Brand':brand[0:100],'Product':Product[0:100],'Price':price[0:100],'Discount':discount[0:100]})\n",
    "Sunglass.index +=1\n",
    "\n",
    "Sunglass"
   ]
  },
  {
   "cell_type": "code",
   "execution_count": null,
   "id": "4882ac35",
   "metadata": {},
   "outputs": [],
   "source": []
  },
  {
   "cell_type": "markdown",
   "id": "2e128110",
   "metadata": {},
   "source": [
    "# Q5: Scrape 100 reviews data from flipkart.com for iphone11 phone. You have to go the link: https://www.flipkart.com/apple-iphone-11-black-64-gb-includes- earpods-power- adapter/p/itm0f37c2240b217?pid=MOBFKCTSVZAXUHGR&lid=LSTMOBFKC TSVZAXUHGREPBFGI&marketplace.\n",
    "When you will open the above link you will reach to the below shown webpage .\n",
    "As shown in the above page you have to scrape the tick marked attributes.These are:\n",
    "1. Rating\n",
    "2. Review summary\n",
    "3. Full review\n",
    "4. You have to scrape this data for first 100 reviews"
   ]
  },
  {
   "cell_type": "code",
   "execution_count": 721,
   "id": "b3f5ce4f",
   "metadata": {},
   "outputs": [],
   "source": [
    "# import libraraies\n",
    "\n",
    "import selenium\n",
    "from selenium import webdriver\n",
    "import pandas as pd\n",
    "import time\n",
    "import warnings\n",
    "warnings.filterwarnings('ignore')"
   ]
  },
  {
   "cell_type": "code",
   "execution_count": 722,
   "id": "29a5ce97",
   "metadata": {},
   "outputs": [],
   "source": [
    "# lets connect to driver\n",
    "\n",
    "driver= webdriver.Chrome(r'C:\\Users\\Bank of America\\Downloads\\chromedriver_win32/chromedriver.exe')\n",
    "\n",
    "url='https://www.flipkart.com/apple-iphone-11-black-64-gb-includes- earpods-power- adapter/p/itm0f37c2240b217?pid=MOBFKCTSVZAXUHGR&lid=LSTMOBFKC TSVZAXUHGREPBFGI&marketplace'\n",
    "driver.get(url)\n",
    "driver.maximize_window()\n",
    "time.sleep(1)"
   ]
  },
  {
   "cell_type": "code",
   "execution_count": 723,
   "id": "73dd157f",
   "metadata": {},
   "outputs": [],
   "source": [
    "# Click on \" All 5902 reviews\"\n",
    "\n",
    "all_review=driver.find_element_by_xpath('/html/body/div[1]/div/div[3]/div[1]/div[2]/div[8]/div/div/div[5]/div/a/div/span')\n",
    "all_review.click()\n"
   ]
  },
  {
   "cell_type": "code",
   "execution_count": 724,
   "id": "cc321490",
   "metadata": {},
   "outputs": [],
   "source": [
    "review=[]\n",
    "rating=[]\n",
    "fullreview=[]\n",
    "button=[]"
   ]
  },
  {
   "cell_type": "code",
   "execution_count": null,
   "id": "e920a594",
   "metadata": {},
   "outputs": [],
   "source": []
  },
  {
   "cell_type": "code",
   "execution_count": 725,
   "id": "ca0c8237",
   "metadata": {},
   "outputs": [
    {
     "name": "stdout",
     "output_type": "stream",
     "text": [
      "one\n",
      "one\n"
     ]
    },
    {
     "ename": "StaleElementReferenceException",
     "evalue": "Message: stale element reference: element is not attached to the page document\n  (Session info: chrome=99.0.4844.51)\nStacktrace:\nBacktrace:\n\tOrdinal0 [0x00A89943+2595139]\n\tOrdinal0 [0x00A1C9F1+2148849]\n\tOrdinal0 [0x00914528+1066280]\n\tOrdinal0 [0x00916E04+1076740]\n\tOrdinal0 [0x00916CBE+1076414]\n\tOrdinal0 [0x00916F50+1077072]\n\tOrdinal0 [0x009473E1+1274849]\n\tOrdinal0 [0x00945657+1267287]\n\tOrdinal0 [0x0094333B+1258299]\n\tOrdinal0 [0x0094207D+1253501]\n\tOrdinal0 [0x00937AB3+1211059]\n\tOrdinal0 [0x0095B9EC+1358316]\n\tOrdinal0 [0x00937474+1209460]\n\tOrdinal0 [0x0095BC04+1358852]\n\tOrdinal0 [0x0096BAF2+1424114]\n\tOrdinal0 [0x0095B806+1357830]\n\tOrdinal0 [0x00936086+1204358]\n\tOrdinal0 [0x00936F96+1208214]\n\tGetHandleVerifier [0x00C2B232+1658114]\n\tGetHandleVerifier [0x00CE312C+2411516]\n\tGetHandleVerifier [0x00B1F261+560433]\n\tGetHandleVerifier [0x00B1E366+556598]\n\tOrdinal0 [0x00A2286B+2173035]\n\tOrdinal0 [0x00A275F8+2192888]\n\tOrdinal0 [0x00A276E5+2193125]\n\tOrdinal0 [0x00A311FC+2232828]\n\tBaseThreadInitThunk [0x752FFA29+25]\n\tRtlGetAppContainerNamedObjectPath [0x77237A7E+286]\n\tRtlGetAppContainerNamedObjectPath [0x77237A4E+238]\n",
     "output_type": "error",
     "traceback": [
      "\u001b[1;31m---------------------------------------------------------------------------\u001b[0m",
      "\u001b[1;31mStaleElementReferenceException\u001b[0m            Traceback (most recent call last)",
      "\u001b[1;32mC:\\Users\\BANKOF~1\\AppData\\Local\\Temp/ipykernel_10492/3152406678.py\u001b[0m in \u001b[0;36m<module>\u001b[1;34m\u001b[0m\n\u001b[0;32m      7\u001b[0m \u001b[1;33m\u001b[0m\u001b[0m\n\u001b[0;32m      8\u001b[0m     \u001b[1;32mif\u001b[0m \u001b[0mlen\u001b[0m\u001b[1;33m(\u001b[0m\u001b[0mbutton_tags\u001b[0m\u001b[1;33m)\u001b[0m\u001b[1;33m==\u001b[0m\u001b[1;36m1\u001b[0m\u001b[1;33m:\u001b[0m\u001b[1;33m\u001b[0m\u001b[1;33m\u001b[0m\u001b[0m\n\u001b[1;32m----> 9\u001b[1;33m         \u001b[0mbutton_tags\u001b[0m\u001b[1;33m[\u001b[0m\u001b[1;36m0\u001b[0m\u001b[1;33m]\u001b[0m\u001b[1;33m.\u001b[0m\u001b[0mclick\u001b[0m\u001b[1;33m(\u001b[0m\u001b[1;33m)\u001b[0m\u001b[1;33m\u001b[0m\u001b[1;33m\u001b[0m\u001b[0m\n\u001b[0m\u001b[0;32m     10\u001b[0m         \u001b[0mprint\u001b[0m\u001b[1;33m(\u001b[0m\u001b[1;34m\"one\"\u001b[0m\u001b[1;33m)\u001b[0m\u001b[1;33m\u001b[0m\u001b[1;33m\u001b[0m\u001b[0m\n\u001b[0;32m     11\u001b[0m     \u001b[1;32melse\u001b[0m\u001b[1;33m:\u001b[0m\u001b[1;33m\u001b[0m\u001b[1;33m\u001b[0m\u001b[0m\n",
      "\u001b[1;32m~\\anaconda3\\lib\\site-packages\\selenium\\webdriver\\remote\\webelement.py\u001b[0m in \u001b[0;36mclick\u001b[1;34m(self)\u001b[0m\n\u001b[0;32m     79\u001b[0m     \u001b[1;32mdef\u001b[0m \u001b[0mclick\u001b[0m\u001b[1;33m(\u001b[0m\u001b[0mself\u001b[0m\u001b[1;33m)\u001b[0m \u001b[1;33m->\u001b[0m \u001b[1;32mNone\u001b[0m\u001b[1;33m:\u001b[0m\u001b[1;33m\u001b[0m\u001b[1;33m\u001b[0m\u001b[0m\n\u001b[0;32m     80\u001b[0m         \u001b[1;34m\"\"\"Clicks the element.\"\"\"\u001b[0m\u001b[1;33m\u001b[0m\u001b[1;33m\u001b[0m\u001b[0m\n\u001b[1;32m---> 81\u001b[1;33m         \u001b[0mself\u001b[0m\u001b[1;33m.\u001b[0m\u001b[0m_execute\u001b[0m\u001b[1;33m(\u001b[0m\u001b[0mCommand\u001b[0m\u001b[1;33m.\u001b[0m\u001b[0mCLICK_ELEMENT\u001b[0m\u001b[1;33m)\u001b[0m\u001b[1;33m\u001b[0m\u001b[1;33m\u001b[0m\u001b[0m\n\u001b[0m\u001b[0;32m     82\u001b[0m \u001b[1;33m\u001b[0m\u001b[0m\n\u001b[0;32m     83\u001b[0m     \u001b[1;32mdef\u001b[0m \u001b[0msubmit\u001b[0m\u001b[1;33m(\u001b[0m\u001b[0mself\u001b[0m\u001b[1;33m)\u001b[0m\u001b[1;33m:\u001b[0m\u001b[1;33m\u001b[0m\u001b[1;33m\u001b[0m\u001b[0m\n",
      "\u001b[1;32m~\\anaconda3\\lib\\site-packages\\selenium\\webdriver\\remote\\webelement.py\u001b[0m in \u001b[0;36m_execute\u001b[1;34m(self, command, params)\u001b[0m\n\u001b[0;32m    708\u001b[0m             \u001b[0mparams\u001b[0m \u001b[1;33m=\u001b[0m \u001b[1;33m{\u001b[0m\u001b[1;33m}\u001b[0m\u001b[1;33m\u001b[0m\u001b[1;33m\u001b[0m\u001b[0m\n\u001b[0;32m    709\u001b[0m         \u001b[0mparams\u001b[0m\u001b[1;33m[\u001b[0m\u001b[1;34m'id'\u001b[0m\u001b[1;33m]\u001b[0m \u001b[1;33m=\u001b[0m \u001b[0mself\u001b[0m\u001b[1;33m.\u001b[0m\u001b[0m_id\u001b[0m\u001b[1;33m\u001b[0m\u001b[1;33m\u001b[0m\u001b[0m\n\u001b[1;32m--> 710\u001b[1;33m         \u001b[1;32mreturn\u001b[0m \u001b[0mself\u001b[0m\u001b[1;33m.\u001b[0m\u001b[0m_parent\u001b[0m\u001b[1;33m.\u001b[0m\u001b[0mexecute\u001b[0m\u001b[1;33m(\u001b[0m\u001b[0mcommand\u001b[0m\u001b[1;33m,\u001b[0m \u001b[0mparams\u001b[0m\u001b[1;33m)\u001b[0m\u001b[1;33m\u001b[0m\u001b[1;33m\u001b[0m\u001b[0m\n\u001b[0m\u001b[0;32m    711\u001b[0m \u001b[1;33m\u001b[0m\u001b[0m\n\u001b[0;32m    712\u001b[0m     \u001b[1;32mdef\u001b[0m \u001b[0mfind_element\u001b[0m\u001b[1;33m(\u001b[0m\u001b[0mself\u001b[0m\u001b[1;33m,\u001b[0m \u001b[0mby\u001b[0m\u001b[1;33m=\u001b[0m\u001b[0mBy\u001b[0m\u001b[1;33m.\u001b[0m\u001b[0mID\u001b[0m\u001b[1;33m,\u001b[0m \u001b[0mvalue\u001b[0m\u001b[1;33m=\u001b[0m\u001b[1;32mNone\u001b[0m\u001b[1;33m)\u001b[0m\u001b[1;33m:\u001b[0m\u001b[1;33m\u001b[0m\u001b[1;33m\u001b[0m\u001b[0m\n",
      "\u001b[1;32m~\\anaconda3\\lib\\site-packages\\selenium\\webdriver\\remote\\webdriver.py\u001b[0m in \u001b[0;36mexecute\u001b[1;34m(self, driver_command, params)\u001b[0m\n\u001b[0;32m    423\u001b[0m         \u001b[0mresponse\u001b[0m \u001b[1;33m=\u001b[0m \u001b[0mself\u001b[0m\u001b[1;33m.\u001b[0m\u001b[0mcommand_executor\u001b[0m\u001b[1;33m.\u001b[0m\u001b[0mexecute\u001b[0m\u001b[1;33m(\u001b[0m\u001b[0mdriver_command\u001b[0m\u001b[1;33m,\u001b[0m \u001b[0mparams\u001b[0m\u001b[1;33m)\u001b[0m\u001b[1;33m\u001b[0m\u001b[1;33m\u001b[0m\u001b[0m\n\u001b[0;32m    424\u001b[0m         \u001b[1;32mif\u001b[0m \u001b[0mresponse\u001b[0m\u001b[1;33m:\u001b[0m\u001b[1;33m\u001b[0m\u001b[1;33m\u001b[0m\u001b[0m\n\u001b[1;32m--> 425\u001b[1;33m             \u001b[0mself\u001b[0m\u001b[1;33m.\u001b[0m\u001b[0merror_handler\u001b[0m\u001b[1;33m.\u001b[0m\u001b[0mcheck_response\u001b[0m\u001b[1;33m(\u001b[0m\u001b[0mresponse\u001b[0m\u001b[1;33m)\u001b[0m\u001b[1;33m\u001b[0m\u001b[1;33m\u001b[0m\u001b[0m\n\u001b[0m\u001b[0;32m    426\u001b[0m             response['value'] = self._unwrap_value(\n\u001b[0;32m    427\u001b[0m                 response.get('value', None))\n",
      "\u001b[1;32m~\\anaconda3\\lib\\site-packages\\selenium\\webdriver\\remote\\errorhandler.py\u001b[0m in \u001b[0;36mcheck_response\u001b[1;34m(self, response)\u001b[0m\n\u001b[0;32m    245\u001b[0m                 \u001b[0malert_text\u001b[0m \u001b[1;33m=\u001b[0m \u001b[0mvalue\u001b[0m\u001b[1;33m[\u001b[0m\u001b[1;34m'alert'\u001b[0m\u001b[1;33m]\u001b[0m\u001b[1;33m.\u001b[0m\u001b[0mget\u001b[0m\u001b[1;33m(\u001b[0m\u001b[1;34m'text'\u001b[0m\u001b[1;33m)\u001b[0m\u001b[1;33m\u001b[0m\u001b[1;33m\u001b[0m\u001b[0m\n\u001b[0;32m    246\u001b[0m             \u001b[1;32mraise\u001b[0m \u001b[0mexception_class\u001b[0m\u001b[1;33m(\u001b[0m\u001b[0mmessage\u001b[0m\u001b[1;33m,\u001b[0m \u001b[0mscreen\u001b[0m\u001b[1;33m,\u001b[0m \u001b[0mstacktrace\u001b[0m\u001b[1;33m,\u001b[0m \u001b[0malert_text\u001b[0m\u001b[1;33m)\u001b[0m  \u001b[1;31m# type: ignore[call-arg]  # mypy is not smart enough here\u001b[0m\u001b[1;33m\u001b[0m\u001b[1;33m\u001b[0m\u001b[0m\n\u001b[1;32m--> 247\u001b[1;33m         \u001b[1;32mraise\u001b[0m \u001b[0mexception_class\u001b[0m\u001b[1;33m(\u001b[0m\u001b[0mmessage\u001b[0m\u001b[1;33m,\u001b[0m \u001b[0mscreen\u001b[0m\u001b[1;33m,\u001b[0m \u001b[0mstacktrace\u001b[0m\u001b[1;33m)\u001b[0m\u001b[1;33m\u001b[0m\u001b[1;33m\u001b[0m\u001b[0m\n\u001b[0m\u001b[0;32m    248\u001b[0m \u001b[1;33m\u001b[0m\u001b[0m\n\u001b[0;32m    249\u001b[0m     \u001b[1;32mdef\u001b[0m \u001b[0m_value_or_default\u001b[0m\u001b[1;33m(\u001b[0m\u001b[0mself\u001b[0m\u001b[1;33m,\u001b[0m \u001b[0mobj\u001b[0m\u001b[1;33m:\u001b[0m \u001b[0mMapping\u001b[0m\u001b[1;33m[\u001b[0m\u001b[0m_KT\u001b[0m\u001b[1;33m,\u001b[0m \u001b[0m_VT\u001b[0m\u001b[1;33m]\u001b[0m\u001b[1;33m,\u001b[0m \u001b[0mkey\u001b[0m\u001b[1;33m:\u001b[0m \u001b[0m_KT\u001b[0m\u001b[1;33m,\u001b[0m \u001b[0mdefault\u001b[0m\u001b[1;33m:\u001b[0m \u001b[0m_VT\u001b[0m\u001b[1;33m)\u001b[0m \u001b[1;33m->\u001b[0m \u001b[0m_VT\u001b[0m\u001b[1;33m:\u001b[0m\u001b[1;33m\u001b[0m\u001b[1;33m\u001b[0m\u001b[0m\n",
      "\u001b[1;31mStaleElementReferenceException\u001b[0m: Message: stale element reference: element is not attached to the page document\n  (Session info: chrome=99.0.4844.51)\nStacktrace:\nBacktrace:\n\tOrdinal0 [0x00A89943+2595139]\n\tOrdinal0 [0x00A1C9F1+2148849]\n\tOrdinal0 [0x00914528+1066280]\n\tOrdinal0 [0x00916E04+1076740]\n\tOrdinal0 [0x00916CBE+1076414]\n\tOrdinal0 [0x00916F50+1077072]\n\tOrdinal0 [0x009473E1+1274849]\n\tOrdinal0 [0x00945657+1267287]\n\tOrdinal0 [0x0094333B+1258299]\n\tOrdinal0 [0x0094207D+1253501]\n\tOrdinal0 [0x00937AB3+1211059]\n\tOrdinal0 [0x0095B9EC+1358316]\n\tOrdinal0 [0x00937474+1209460]\n\tOrdinal0 [0x0095BC04+1358852]\n\tOrdinal0 [0x0096BAF2+1424114]\n\tOrdinal0 [0x0095B806+1357830]\n\tOrdinal0 [0x00936086+1204358]\n\tOrdinal0 [0x00936F96+1208214]\n\tGetHandleVerifier [0x00C2B232+1658114]\n\tGetHandleVerifier [0x00CE312C+2411516]\n\tGetHandleVerifier [0x00B1F261+560433]\n\tGetHandleVerifier [0x00B1E366+556598]\n\tOrdinal0 [0x00A2286B+2173035]\n\tOrdinal0 [0x00A275F8+2192888]\n\tOrdinal0 [0x00A276E5+2193125]\n\tOrdinal0 [0x00A311FC+2232828]\n\tBaseThreadInitThunk [0x752FFA29+25]\n\tRtlGetAppContainerNamedObjectPath [0x77237A7E+286]\n\tRtlGetAppContainerNamedObjectPath [0x77237A4E+238]\n"
     ]
    }
   ],
   "source": [
    "for i in range(1,11):\n",
    "    review_tags= driver.find_elements_by_xpath('//p[@class=\"_2-N8zT\"]')\n",
    "    rating_tags= driver.find_elements_by_xpath('//div[@class=\"_3LWZlK _1BLPMq\"]')\n",
    "    fullreview_tags=driver.find_elements_by_xpath('//div[@class=\"t-ZTKy\"]  ')\n",
    "\n",
    "    button_tags=driver.find_elements_by_xpath('//a[@class=\"_1LKTO3\"]')\n",
    "    \n",
    "    if len(button_tags)==1:\n",
    "        button_tags[0].click()\n",
    "        print(\"one\")\n",
    "    else:\n",
    "        button_tags[-1].click()\n",
    "        print('two')\n",
    "   \n",
    "    \n"
   ]
  },
  {
   "cell_type": "code",
   "execution_count": 717,
   "id": "174ba6d8",
   "metadata": {},
   "outputs": [
    {
     "data": {
      "text/plain": [
       "(10, 10, 10, 2)"
      ]
     },
     "execution_count": 717,
     "metadata": {},
     "output_type": "execute_result"
    }
   ],
   "source": [
    "len(review_tags),len(rating_tags ),len(fullreview_tags),len(button_tags)"
   ]
  },
  {
   "cell_type": "code",
   "execution_count": null,
   "id": "02cff698",
   "metadata": {},
   "outputs": [],
   "source": []
  },
  {
   "cell_type": "code",
   "execution_count": null,
   "id": "13715125",
   "metadata": {},
   "outputs": [],
   "source": []
  },
  {
   "cell_type": "code",
   "execution_count": 622,
   "id": "c17e6852",
   "metadata": {},
   "outputs": [
    {
     "data": {
      "text/plain": [
       "(10, 10, 10)"
      ]
     },
     "execution_count": 622,
     "metadata": {},
     "output_type": "execute_result"
    }
   ],
   "source": [
    "len(review_tags),len(rating_tags),len(fullreview_tags)"
   ]
  },
  {
   "cell_type": "code",
   "execution_count": null,
   "id": "1ffbd03b",
   "metadata": {},
   "outputs": [],
   "source": [
    "if len(button_tags)=1:\n",
    "        button_tags[0].click()\n",
    "    else: button_tags[1].click()"
   ]
  },
  {
   "cell_type": "code",
   "execution_count": 630,
   "id": "20b360e1",
   "metadata": {},
   "outputs": [],
   "source": [
    "button_tags= driver.find_elements_by_xpath('//a[@class=\"_1LKTO3\"]')"
   ]
  },
  {
   "cell_type": "code",
   "execution_count": 637,
   "id": "a99364af",
   "metadata": {},
   "outputs": [
    {
     "data": {
      "text/plain": [
       "1"
      ]
     },
     "execution_count": 637,
     "metadata": {},
     "output_type": "execute_result"
    }
   ],
   "source": [
    "len(button_tags)"
   ]
  },
  {
   "cell_type": "code",
   "execution_count": 608,
   "id": "bec4e3e0",
   "metadata": {},
   "outputs": [
    {
     "ename": "IndexError",
     "evalue": "list index out of range",
     "output_type": "error",
     "traceback": [
      "\u001b[1;31m---------------------------------------------------------------------------\u001b[0m",
      "\u001b[1;31mIndexError\u001b[0m                                Traceback (most recent call last)",
      "\u001b[1;32mC:\\Users\\BANKOF~1\\AppData\\Local\\Temp/ipykernel_10492/131369807.py\u001b[0m in \u001b[0;36m<module>\u001b[1;34m\u001b[0m\n\u001b[0;32m      1\u001b[0m \u001b[0mbutton_tags\u001b[0m\u001b[1;33m=\u001b[0m \u001b[0mdriver\u001b[0m\u001b[1;33m.\u001b[0m\u001b[0mfind_elements_by_xpath\u001b[0m\u001b[1;33m(\u001b[0m\u001b[1;34m'//a[@class=\"_1LKTO3\"]'\u001b[0m\u001b[1;33m)\u001b[0m\u001b[1;33m\u001b[0m\u001b[1;33m\u001b[0m\u001b[0m\n\u001b[1;32m----> 2\u001b[1;33m \u001b[0mbutton_tags\u001b[0m\u001b[1;33m[\u001b[0m\u001b[1;36m1\u001b[0m\u001b[1;33m]\u001b[0m\u001b[1;33m.\u001b[0m\u001b[0mclick\u001b[0m\u001b[1;33m(\u001b[0m\u001b[1;33m)\u001b[0m\u001b[1;33m\u001b[0m\u001b[1;33m\u001b[0m\u001b[0m\n\u001b[0m",
      "\u001b[1;31mIndexError\u001b[0m: list index out of range"
     ]
    }
   ],
   "source": [
    "button_tags= driver.find_elements_by_xpath('//a[@class=\"_1LKTO3\"]')\n",
    "button_tags[1].click()"
   ]
  },
  {
   "cell_type": "code",
   "execution_count": 602,
   "id": "cf168878",
   "metadata": {},
   "outputs": [],
   "source": [
    "review_tags= driver.find_elements_by_xpath('//p[@class=\"_2-N8zT\"]')\n",
    "rating_tags= driver.find_elements_by_xpath('//div[@class=\"_3LWZlK _1BLPMq\"]')\n",
    "fullreview_tags=driver.find_elements_by_xpath('//div[@class=\"t-ZTKy\"]  ')\n",
    "\n",
    "button_tags= driver.find_elements_by_xpath('//a[@class=\"_1LKTO3\"]')\n",
    "button_tags[1].click()"
   ]
  },
  {
   "cell_type": "code",
   "execution_count": 594,
   "id": "665a649d",
   "metadata": {},
   "outputs": [],
   "source": [
    "review=[]\n",
    "rating=[]\n",
    "fullreview=[]\n",
    "button=[]\n",
    "for i in fullreview_tags:\n",
    "    fullreview.append(i.text)"
   ]
  },
  {
   "cell_type": "code",
   "execution_count": 600,
   "id": "c2adb743",
   "metadata": {},
   "outputs": [
    {
     "data": {
      "text/plain": [
       "<selenium.webdriver.remote.webelement.WebElement (session=\"a95dc2b0fe30505f54a2e9251fba09c9\", element=\"43845fb7-a236-48e0-b81d-9027d09a8bdc\")>"
      ]
     },
     "execution_count": 600,
     "metadata": {},
     "output_type": "execute_result"
    }
   ],
   "source": [
    "for i in button_tags:\n",
    "    button.append(i.text)\n",
    "    \n",
    "button_tags[0]\n",
    "    "
   ]
  },
  {
   "cell_type": "code",
   "execution_count": 598,
   "id": "2703ac6e",
   "metadata": {},
   "outputs": [
    {
     "data": {
      "text/plain": [
       "['PREVIOUS', 'NEXT']"
      ]
     },
     "execution_count": 598,
     "metadata": {},
     "output_type": "execute_result"
    }
   ],
   "source": [
    "button"
   ]
  },
  {
   "cell_type": "code",
   "execution_count": null,
   "id": "ff511279",
   "metadata": {},
   "outputs": [],
   "source": [
    "\n"
   ]
  },
  {
   "cell_type": "code",
   "execution_count": null,
   "id": "88b94e51",
   "metadata": {},
   "outputs": [],
   "source": [
    "\n"
   ]
  },
  {
   "cell_type": "code",
   "execution_count": null,
   "id": "561ca685",
   "metadata": {},
   "outputs": [],
   "source": []
  },
  {
   "cell_type": "code",
   "execution_count": null,
   "id": "16320a44",
   "metadata": {},
   "outputs": [],
   "source": []
  },
  {
   "cell_type": "code",
   "execution_count": null,
   "id": "30d18bcd",
   "metadata": {},
   "outputs": [],
   "source": []
  }
 ],
 "metadata": {
  "kernelspec": {
   "display_name": "Python 3 (ipykernel)",
   "language": "python",
   "name": "python3"
  },
  "language_info": {
   "codemirror_mode": {
    "name": "ipython",
    "version": 3
   },
   "file_extension": ".py",
   "mimetype": "text/x-python",
   "name": "python",
   "nbconvert_exporter": "python",
   "pygments_lexer": "ipython3",
   "version": "3.9.7"
  }
 },
 "nbformat": 4,
 "nbformat_minor": 5
}
